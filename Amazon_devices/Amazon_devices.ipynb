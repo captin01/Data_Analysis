{
 "cells": [
  {
   "attachments": {},
   "cell_type": "markdown",
   "metadata": {},
   "source": [
    "- <u> ***Importing csv*** </u>"
   ]
  },
  {
   "cell_type": "code",
   "execution_count": 2,
   "metadata": {},
   "outputs": [],
   "source": [
    "import pandas as pd \n",
    "import matplotlib.pyplot as plt \n",
    "import seaborn as sns \n",
    "sns.set()"
   ]
  },
  {
   "attachments": {},
   "cell_type": "markdown",
   "metadata": {},
   "source": [
    "- <u> ***Importing csv*** </u>"
   ]
  },
  {
   "cell_type": "code",
   "execution_count": 3,
   "metadata": {},
   "outputs": [
    {
     "data": {
      "text/html": [
       "<div>\n",
       "<style scoped>\n",
       "    .dataframe tbody tr th:only-of-type {\n",
       "        vertical-align: middle;\n",
       "    }\n",
       "\n",
       "    .dataframe tbody tr th {\n",
       "        vertical-align: top;\n",
       "    }\n",
       "\n",
       "    .dataframe thead th {\n",
       "        text-align: right;\n",
       "    }\n",
       "</style>\n",
       "<table border=\"1\" class=\"dataframe\">\n",
       "  <thead>\n",
       "    <tr style=\"text-align: right;\">\n",
       "      <th></th>\n",
       "      <th>date</th>\n",
       "      <th>number</th>\n",
       "      <th>name</th>\n",
       "      <th>rating</th>\n",
       "      <th>n_reviews</th>\n",
       "      <th>price</th>\n",
       "    </tr>\n",
       "  </thead>\n",
       "  <tbody>\n",
       "    <tr>\n",
       "      <th>0</th>\n",
       "      <td>2021-02-01</td>\n",
       "      <td>1</td>\n",
       "      <td>Fire TV Stick 4K streaming device with Alexa V...</td>\n",
       "      <td>4.7</td>\n",
       "      <td>512,797</td>\n",
       "      <td>$39.99</td>\n",
       "    </tr>\n",
       "    <tr>\n",
       "      <th>1</th>\n",
       "      <td>2021-02-01</td>\n",
       "      <td>2</td>\n",
       "      <td>Amazon Smart Plug, works with Alexa – A Certif...</td>\n",
       "      <td>4.7</td>\n",
       "      <td>328,652</td>\n",
       "      <td>$24.99</td>\n",
       "    </tr>\n",
       "    <tr>\n",
       "      <th>2</th>\n",
       "      <td>2021-02-01</td>\n",
       "      <td>3</td>\n",
       "      <td>Echo Show 5 -- Smart display with Alexa – stay...</td>\n",
       "      <td>4.6</td>\n",
       "      <td>298,030</td>\n",
       "      <td>$44.99</td>\n",
       "    </tr>\n",
       "    <tr>\n",
       "      <th>3</th>\n",
       "      <td>2021-02-01</td>\n",
       "      <td>4</td>\n",
       "      <td>All-new Echo Dot (4th Gen, 2020 release) | Sma...</td>\n",
       "      <td>4.7</td>\n",
       "      <td>138,241</td>\n",
       "      <td>$44.99</td>\n",
       "    </tr>\n",
       "    <tr>\n",
       "      <th>4</th>\n",
       "      <td>2021-02-01</td>\n",
       "      <td>5</td>\n",
       "      <td>Roku Streaming Stick+ | HD/4K/HDR Streaming De...</td>\n",
       "      <td>4.7</td>\n",
       "      <td>62,702</td>\n",
       "      <td>$39.00</td>\n",
       "    </tr>\n",
       "    <tr>\n",
       "      <th>...</th>\n",
       "      <td>...</td>\n",
       "      <td>...</td>\n",
       "      <td>...</td>\n",
       "      <td>...</td>\n",
       "      <td>...</td>\n",
       "      <td>...</td>\n",
       "    </tr>\n",
       "    <tr>\n",
       "      <th>18095</th>\n",
       "      <td>2021-07-31</td>\n",
       "      <td>96</td>\n",
       "      <td>Tile Slim (2020) 1-pack - Slim &amp; Sleek Bluetoo...</td>\n",
       "      <td>4.6</td>\n",
       "      <td>25,512</td>\n",
       "      <td>$28.73</td>\n",
       "    </tr>\n",
       "    <tr>\n",
       "      <th>18096</th>\n",
       "      <td>2021-07-31</td>\n",
       "      <td>97</td>\n",
       "      <td>Blink Outdoor - wireless, weather-resistant HD...</td>\n",
       "      <td>4.4</td>\n",
       "      <td>60,859</td>\n",
       "      <td>$99.99</td>\n",
       "    </tr>\n",
       "    <tr>\n",
       "      <th>18097</th>\n",
       "      <td>2021-07-31</td>\n",
       "      <td>98</td>\n",
       "      <td>EVISTR 16GB Digital Voice Recorder Voice Activ...</td>\n",
       "      <td>4.4</td>\n",
       "      <td>12,196</td>\n",
       "      <td>$39.99</td>\n",
       "    </tr>\n",
       "    <tr>\n",
       "      <th>18098</th>\n",
       "      <td>2021-07-31</td>\n",
       "      <td>99</td>\n",
       "      <td>Echo (4th Gen) | With premium sound, smart hom...</td>\n",
       "      <td>4.7</td>\n",
       "      <td>71,566</td>\n",
       "      <td>$69.99</td>\n",
       "    </tr>\n",
       "    <tr>\n",
       "      <th>18099</th>\n",
       "      <td>2021-07-31</td>\n",
       "      <td>100</td>\n",
       "      <td>2 Pack Surge Protector Power Strip with 6 Outl...</td>\n",
       "      <td>4.8</td>\n",
       "      <td>9,157</td>\n",
       "      <td>$30.99</td>\n",
       "    </tr>\n",
       "  </tbody>\n",
       "</table>\n",
       "<p>18100 rows × 6 columns</p>\n",
       "</div>"
      ],
      "text/plain": [
       "             date  number                                               name  \\\n",
       "0      2021-02-01       1  Fire TV Stick 4K streaming device with Alexa V...   \n",
       "1      2021-02-01       2  Amazon Smart Plug, works with Alexa – A Certif...   \n",
       "2      2021-02-01       3  Echo Show 5 -- Smart display with Alexa – stay...   \n",
       "3      2021-02-01       4  All-new Echo Dot (4th Gen, 2020 release) | Sma...   \n",
       "4      2021-02-01       5  Roku Streaming Stick+ | HD/4K/HDR Streaming De...   \n",
       "...           ...     ...                                                ...   \n",
       "18095  2021-07-31      96  Tile Slim (2020) 1-pack - Slim & Sleek Bluetoo...   \n",
       "18096  2021-07-31      97  Blink Outdoor - wireless, weather-resistant HD...   \n",
       "18097  2021-07-31      98  EVISTR 16GB Digital Voice Recorder Voice Activ...   \n",
       "18098  2021-07-31      99  Echo (4th Gen) | With premium sound, smart hom...   \n",
       "18099  2021-07-31     100  2 Pack Surge Protector Power Strip with 6 Outl...   \n",
       "\n",
       "      rating n_reviews   price  \n",
       "0        4.7   512,797  $39.99  \n",
       "1        4.7   328,652  $24.99  \n",
       "2        4.6   298,030  $44.99  \n",
       "3        4.7   138,241  $44.99  \n",
       "4        4.7    62,702  $39.00  \n",
       "...      ...       ...     ...  \n",
       "18095    4.6    25,512  $28.73  \n",
       "18096    4.4    60,859  $99.99  \n",
       "18097    4.4    12,196  $39.99  \n",
       "18098    4.7    71,566  $69.99  \n",
       "18099    4.8     9,157  $30.99  \n",
       "\n",
       "[18100 rows x 6 columns]"
      ]
     },
     "execution_count": 3,
     "metadata": {},
     "output_type": "execute_result"
    }
   ],
   "source": [
    "Amazon_devices = pd.read_csv(\"Amazon_devices.csv\")\n",
    "Amazon_devices"
   ]
  },
  {
   "attachments": {},
   "cell_type": "markdown",
   "metadata": {},
   "source": [
    "- <u> ***Cleaning and manipulating*** </u>"
   ]
  },
  {
   "cell_type": "code",
   "execution_count": 4,
   "metadata": {},
   "outputs": [
    {
     "data": {
      "text/plain": [
       "0        39.99\n",
       "1        24.99\n",
       "2        44.99\n",
       "3        44.99\n",
       "4        39.00\n",
       "         ...  \n",
       "18095    28.73\n",
       "18096    99.99\n",
       "18097    39.99\n",
       "18098    69.99\n",
       "18099    30.99\n",
       "Name: price, Length: 18100, dtype: object"
      ]
     },
     "execution_count": 4,
     "metadata": {},
     "output_type": "execute_result"
    }
   ],
   "source": [
    "#Removing the $ symbol to allow easy data type converstion.\n",
    "Amazon_devices['price'] = Amazon_devices['price'].str.replace('$', '', regex = True)\n",
    "Amazon_devices['price']"
   ]
  },
  {
   "cell_type": "code",
   "execution_count": 5,
   "metadata": {},
   "outputs": [],
   "source": [
    "#Converting to numeric values\n",
    "Amazon_devices['price'] = pd.to_numeric(Amazon_devices['price'], errors='coerce')"
   ]
  },
  {
   "cell_type": "code",
   "execution_count": 6,
   "metadata": {},
   "outputs": [
    {
     "data": {
      "text/html": [
       "<div>\n",
       "<style scoped>\n",
       "    .dataframe tbody tr th:only-of-type {\n",
       "        vertical-align: middle;\n",
       "    }\n",
       "\n",
       "    .dataframe tbody tr th {\n",
       "        vertical-align: top;\n",
       "    }\n",
       "\n",
       "    .dataframe thead th {\n",
       "        text-align: right;\n",
       "    }\n",
       "</style>\n",
       "<table border=\"1\" class=\"dataframe\">\n",
       "  <thead>\n",
       "    <tr style=\"text-align: right;\">\n",
       "      <th></th>\n",
       "      <th>date</th>\n",
       "      <th>number</th>\n",
       "      <th>name</th>\n",
       "      <th>rating</th>\n",
       "      <th>n_reviews</th>\n",
       "      <th>price</th>\n",
       "    </tr>\n",
       "  </thead>\n",
       "  <tbody>\n",
       "    <tr>\n",
       "      <th>19</th>\n",
       "      <td>2021-02-01</td>\n",
       "      <td>20</td>\n",
       "      <td>Nintendo Switch Pro Controller</td>\n",
       "      <td>4.9</td>\n",
       "      <td>35,492</td>\n",
       "      <td>NaN</td>\n",
       "    </tr>\n",
       "    <tr>\n",
       "      <th>61</th>\n",
       "      <td>2021-02-01</td>\n",
       "      <td>62</td>\n",
       "      <td>Super Mario 3D All-Stars - Nintendo Switch</td>\n",
       "      <td>4.8</td>\n",
       "      <td>33,272</td>\n",
       "      <td>NaN</td>\n",
       "    </tr>\n",
       "    <tr>\n",
       "      <th>89</th>\n",
       "      <td>2021-02-01</td>\n",
       "      <td>90</td>\n",
       "      <td>Super Smash Bros. Ultimate - Nintendo Switch</td>\n",
       "      <td>4.9</td>\n",
       "      <td>38,645</td>\n",
       "      <td>NaN</td>\n",
       "    </tr>\n",
       "    <tr>\n",
       "      <th>124</th>\n",
       "      <td>2021-02-02</td>\n",
       "      <td>25</td>\n",
       "      <td>Nintendo Switch Pro Controller</td>\n",
       "      <td>4.9</td>\n",
       "      <td>35,622</td>\n",
       "      <td>NaN</td>\n",
       "    </tr>\n",
       "    <tr>\n",
       "      <th>140</th>\n",
       "      <td>2021-02-02</td>\n",
       "      <td>41</td>\n",
       "      <td>New Apple iPad (10.2-inch, Wi-Fi, 32GB) - Spac...</td>\n",
       "      <td>4.9</td>\n",
       "      <td>22,316</td>\n",
       "      <td>NaN</td>\n",
       "    </tr>\n",
       "    <tr>\n",
       "      <th>...</th>\n",
       "      <td>...</td>\n",
       "      <td>...</td>\n",
       "      <td>...</td>\n",
       "      <td>...</td>\n",
       "      <td>...</td>\n",
       "      <td>...</td>\n",
       "    </tr>\n",
       "    <tr>\n",
       "      <th>15881</th>\n",
       "      <td>2021-07-09</td>\n",
       "      <td>82</td>\n",
       "      <td>Fire TV Stick streaming media player with Alex...</td>\n",
       "      <td>4.7</td>\n",
       "      <td>459,118</td>\n",
       "      <td>NaN</td>\n",
       "    </tr>\n",
       "    <tr>\n",
       "      <th>16139</th>\n",
       "      <td>2021-07-12</td>\n",
       "      <td>40</td>\n",
       "      <td>2021 Apple 12.9-inch iPad Pro (Wi‑Fi, 128GB) -...</td>\n",
       "      <td>4.8</td>\n",
       "      <td>389</td>\n",
       "      <td>NaN</td>\n",
       "    </tr>\n",
       "    <tr>\n",
       "      <th>16247</th>\n",
       "      <td>2021-07-13</td>\n",
       "      <td>48</td>\n",
       "      <td>2021 Apple 12.9-inch iPad Pro (Wi‑Fi, 128GB) -...</td>\n",
       "      <td>4.8</td>\n",
       "      <td>406</td>\n",
       "      <td>NaN</td>\n",
       "    </tr>\n",
       "    <tr>\n",
       "      <th>16299</th>\n",
       "      <td>2021-07-13</td>\n",
       "      <td>100</td>\n",
       "      <td>2020 Apple MacBook Pro with Apple M1 Chip (13-...</td>\n",
       "      <td>4.8</td>\n",
       "      <td>2,841</td>\n",
       "      <td>NaN</td>\n",
       "    </tr>\n",
       "    <tr>\n",
       "      <th>16331</th>\n",
       "      <td>2021-07-14</td>\n",
       "      <td>32</td>\n",
       "      <td>Cable Management Organizer Kit 183 PCS, Includ...</td>\n",
       "      <td>4.4</td>\n",
       "      <td>73</td>\n",
       "      <td>NaN</td>\n",
       "    </tr>\n",
       "  </tbody>\n",
       "</table>\n",
       "<p>159 rows × 6 columns</p>\n",
       "</div>"
      ],
      "text/plain": [
       "             date  number                                               name  \\\n",
       "19     2021-02-01      20                     Nintendo Switch Pro Controller   \n",
       "61     2021-02-01      62         Super Mario 3D All-Stars - Nintendo Switch   \n",
       "89     2021-02-01      90       Super Smash Bros. Ultimate - Nintendo Switch   \n",
       "124    2021-02-02      25                     Nintendo Switch Pro Controller   \n",
       "140    2021-02-02      41  New Apple iPad (10.2-inch, Wi-Fi, 32GB) - Spac...   \n",
       "...           ...     ...                                                ...   \n",
       "15881  2021-07-09      82  Fire TV Stick streaming media player with Alex...   \n",
       "16139  2021-07-12      40  2021 Apple 12.9-inch iPad Pro (Wi‑Fi, 128GB) -...   \n",
       "16247  2021-07-13      48  2021 Apple 12.9-inch iPad Pro (Wi‑Fi, 128GB) -...   \n",
       "16299  2021-07-13     100  2020 Apple MacBook Pro with Apple M1 Chip (13-...   \n",
       "16331  2021-07-14      32  Cable Management Organizer Kit 183 PCS, Includ...   \n",
       "\n",
       "      rating n_reviews  price  \n",
       "19       4.9    35,492    NaN  \n",
       "61       4.8    33,272    NaN  \n",
       "89       4.9    38,645    NaN  \n",
       "124      4.9    35,622    NaN  \n",
       "140      4.9    22,316    NaN  \n",
       "...      ...       ...    ...  \n",
       "15881    4.7   459,118    NaN  \n",
       "16139    4.8       389    NaN  \n",
       "16247    4.8       406    NaN  \n",
       "16299    4.8     2,841    NaN  \n",
       "16331    4.4        73    NaN  \n",
       "\n",
       "[159 rows x 6 columns]"
      ]
     },
     "execution_count": 6,
     "metadata": {},
     "output_type": "execute_result"
    }
   ],
   "source": [
    "Amazon_devices[Amazon_devices['price'].isnull()]"
   ]
  },
  {
   "cell_type": "code",
   "execution_count": 7,
   "metadata": {},
   "outputs": [],
   "source": [
    "#Filling null values\n",
    "Amazon_devices['price'] = Amazon_devices['price'].fillna(0)"
   ]
  },
  {
   "cell_type": "code",
   "execution_count": 8,
   "metadata": {},
   "outputs": [
    {
     "data": {
      "text/plain": [
       "0        39.99\n",
       "1        24.99\n",
       "2        44.99\n",
       "3        44.99\n",
       "4        39.00\n",
       "         ...  \n",
       "18095    28.73\n",
       "18096    99.99\n",
       "18097    39.99\n",
       "18098    69.99\n",
       "18099    30.99\n",
       "Name: price, Length: 18100, dtype: float64"
      ]
     },
     "execution_count": 8,
     "metadata": {},
     "output_type": "execute_result"
    }
   ],
   "source": [
    "Amazon_devices['price']"
   ]
  },
  {
   "cell_type": "code",
   "execution_count": 9,
   "metadata": {},
   "outputs": [],
   "source": [
    "#Changing the price column to float\n",
    "Amazon_devices['price'] = Amazon_devices['price'].astype(float)"
   ]
  },
  {
   "cell_type": "code",
   "execution_count": 10,
   "metadata": {},
   "outputs": [
    {
     "data": {
      "text/plain": [
       "0"
      ]
     },
     "execution_count": 10,
     "metadata": {},
     "output_type": "execute_result"
    }
   ],
   "source": [
    "#Checking for any remaining null values\n",
    "Amazon_devices['price'].isnull().sum()"
   ]
  },
  {
   "cell_type": "code",
   "execution_count": 11,
   "metadata": {},
   "outputs": [],
   "source": [
    "#Removing the comma to allow easier conversion \n",
    "Amazon_devices['n_reviews'] = Amazon_devices['n_reviews'].str.replace(',', '' , regex = True)"
   ]
  },
  {
   "cell_type": "code",
   "execution_count": 12,
   "metadata": {},
   "outputs": [
    {
     "data": {
      "text/plain": [
       "0        512797\n",
       "1        328652\n",
       "2        298030\n",
       "3        138241\n",
       "4         62702\n",
       "          ...  \n",
       "18095     25512\n",
       "18096     60859\n",
       "18097     12196\n",
       "18098     71566\n",
       "18099      9157\n",
       "Name: n_reviews, Length: 18100, dtype: object"
      ]
     },
     "execution_count": 12,
     "metadata": {},
     "output_type": "execute_result"
    }
   ],
   "source": [
    "Amazon_devices['n_reviews']"
   ]
  },
  {
   "cell_type": "code",
   "execution_count": 13,
   "metadata": {},
   "outputs": [],
   "source": [
    "#Replacing string values to 0 allow conversion of data type \n",
    "Amazon_devices['n_reviews'] = Amazon_devices['n_reviews'].replace('No customer reviews yet', 0)"
   ]
  },
  {
   "cell_type": "code",
   "execution_count": 14,
   "metadata": {},
   "outputs": [
    {
     "data": {
      "text/html": [
       "<div>\n",
       "<style scoped>\n",
       "    .dataframe tbody tr th:only-of-type {\n",
       "        vertical-align: middle;\n",
       "    }\n",
       "\n",
       "    .dataframe tbody tr th {\n",
       "        vertical-align: top;\n",
       "    }\n",
       "\n",
       "    .dataframe thead th {\n",
       "        text-align: right;\n",
       "    }\n",
       "</style>\n",
       "<table border=\"1\" class=\"dataframe\">\n",
       "  <thead>\n",
       "    <tr style=\"text-align: right;\">\n",
       "      <th></th>\n",
       "      <th>date</th>\n",
       "      <th>number</th>\n",
       "      <th>name</th>\n",
       "      <th>rating</th>\n",
       "      <th>n_reviews</th>\n",
       "      <th>price</th>\n",
       "    </tr>\n",
       "  </thead>\n",
       "  <tbody>\n",
       "    <tr>\n",
       "      <th>16</th>\n",
       "      <td>2021-02-01</td>\n",
       "      <td>17</td>\n",
       "      <td>All-new Echo Show 10 (3rd Gen) | HD smart disp...</td>\n",
       "      <td>Not available</td>\n",
       "      <td>0</td>\n",
       "      <td>249.99</td>\n",
       "    </tr>\n",
       "    <tr>\n",
       "      <th>128</th>\n",
       "      <td>2021-02-02</td>\n",
       "      <td>29</td>\n",
       "      <td>All-new Echo Show 10 (3rd Gen) | HD smart disp...</td>\n",
       "      <td>Not available</td>\n",
       "      <td>0</td>\n",
       "      <td>249.99</td>\n",
       "    </tr>\n",
       "    <tr>\n",
       "      <th>232</th>\n",
       "      <td>2021-02-03</td>\n",
       "      <td>33</td>\n",
       "      <td>All-new Echo Show 10 (3rd Gen) | HD smart disp...</td>\n",
       "      <td>Not available</td>\n",
       "      <td>0</td>\n",
       "      <td>249.99</td>\n",
       "    </tr>\n",
       "    <tr>\n",
       "      <th>334</th>\n",
       "      <td>2021-02-04</td>\n",
       "      <td>35</td>\n",
       "      <td>All-new Echo Show 10 (3rd Gen) | HD smart disp...</td>\n",
       "      <td>Not available</td>\n",
       "      <td>0</td>\n",
       "      <td>249.99</td>\n",
       "    </tr>\n",
       "    <tr>\n",
       "      <th>537</th>\n",
       "      <td>2021-02-06</td>\n",
       "      <td>38</td>\n",
       "      <td>Binoculars 20x50, HD Professional/Waterproof B...</td>\n",
       "      <td>Not available</td>\n",
       "      <td>0</td>\n",
       "      <td>0.00</td>\n",
       "    </tr>\n",
       "    <tr>\n",
       "      <th>...</th>\n",
       "      <td>...</td>\n",
       "      <td>...</td>\n",
       "      <td>...</td>\n",
       "      <td>...</td>\n",
       "      <td>...</td>\n",
       "      <td>...</td>\n",
       "    </tr>\n",
       "    <tr>\n",
       "      <th>17858</th>\n",
       "      <td>2021-07-29</td>\n",
       "      <td>59</td>\n",
       "      <td>Mini Spy Camera - 1080p Hidden Camera With Aud...</td>\n",
       "      <td>Not available</td>\n",
       "      <td>0</td>\n",
       "      <td>49.99</td>\n",
       "    </tr>\n",
       "    <tr>\n",
       "      <th>17929</th>\n",
       "      <td>2021-07-30</td>\n",
       "      <td>30</td>\n",
       "      <td>Mini Spy Camera - 1080p Hidden Camera With Aud...</td>\n",
       "      <td>Not available</td>\n",
       "      <td>0</td>\n",
       "      <td>49.99</td>\n",
       "    </tr>\n",
       "    <tr>\n",
       "      <th>17947</th>\n",
       "      <td>2021-07-30</td>\n",
       "      <td>48</td>\n",
       "      <td>Echo Dot (4th Gen) Limited Edition | Diane von...</td>\n",
       "      <td>Not available</td>\n",
       "      <td>0</td>\n",
       "      <td>59.99</td>\n",
       "    </tr>\n",
       "    <tr>\n",
       "      <th>18032</th>\n",
       "      <td>2021-07-31</td>\n",
       "      <td>33</td>\n",
       "      <td>Mini Spy Camera - 1080p Hidden Camera With Aud...</td>\n",
       "      <td>Not available</td>\n",
       "      <td>0</td>\n",
       "      <td>49.99</td>\n",
       "    </tr>\n",
       "    <tr>\n",
       "      <th>18044</th>\n",
       "      <td>2021-07-31</td>\n",
       "      <td>45</td>\n",
       "      <td>Echo Dot (4th Gen) Limited Edition | Diane von...</td>\n",
       "      <td>Not available</td>\n",
       "      <td>0</td>\n",
       "      <td>59.99</td>\n",
       "    </tr>\n",
       "  </tbody>\n",
       "</table>\n",
       "<p>141 rows × 6 columns</p>\n",
       "</div>"
      ],
      "text/plain": [
       "             date  number                                               name  \\\n",
       "16     2021-02-01      17  All-new Echo Show 10 (3rd Gen) | HD smart disp...   \n",
       "128    2021-02-02      29  All-new Echo Show 10 (3rd Gen) | HD smart disp...   \n",
       "232    2021-02-03      33  All-new Echo Show 10 (3rd Gen) | HD smart disp...   \n",
       "334    2021-02-04      35  All-new Echo Show 10 (3rd Gen) | HD smart disp...   \n",
       "537    2021-02-06      38  Binoculars 20x50, HD Professional/Waterproof B...   \n",
       "...           ...     ...                                                ...   \n",
       "17858  2021-07-29      59  Mini Spy Camera - 1080p Hidden Camera With Aud...   \n",
       "17929  2021-07-30      30  Mini Spy Camera - 1080p Hidden Camera With Aud...   \n",
       "17947  2021-07-30      48  Echo Dot (4th Gen) Limited Edition | Diane von...   \n",
       "18032  2021-07-31      33  Mini Spy Camera - 1080p Hidden Camera With Aud...   \n",
       "18044  2021-07-31      45  Echo Dot (4th Gen) Limited Edition | Diane von...   \n",
       "\n",
       "              rating n_reviews   price  \n",
       "16     Not available         0  249.99  \n",
       "128    Not available         0  249.99  \n",
       "232    Not available         0  249.99  \n",
       "334    Not available         0  249.99  \n",
       "537    Not available         0    0.00  \n",
       "...              ...       ...     ...  \n",
       "17858  Not available         0   49.99  \n",
       "17929  Not available         0   49.99  \n",
       "17947  Not available         0   59.99  \n",
       "18032  Not available         0   49.99  \n",
       "18044  Not available         0   59.99  \n",
       "\n",
       "[141 rows x 6 columns]"
      ]
     },
     "execution_count": 14,
     "metadata": {},
     "output_type": "execute_result"
    }
   ],
   "source": [
    "#Confirming replacement\n",
    "Amazon_devices[Amazon_devices['n_reviews'] == 0]"
   ]
  },
  {
   "cell_type": "code",
   "execution_count": 15,
   "metadata": {},
   "outputs": [],
   "source": [
    "#Converting 'n_reviews column' from object to integer\n",
    "Amazon_devices['n_reviews'] = Amazon_devices['n_reviews'].astype('int64')"
   ]
  },
  {
   "cell_type": "code",
   "execution_count": 16,
   "metadata": {},
   "outputs": [
    {
     "data": {
      "text/plain": [
       "date         0\n",
       "number       0\n",
       "name         0\n",
       "rating       0\n",
       "n_reviews    0\n",
       "price        0\n",
       "dtype: int64"
      ]
     },
     "execution_count": 16,
     "metadata": {},
     "output_type": "execute_result"
    }
   ],
   "source": [
    "#Confirming if there's any null values remaining \n",
    "Amazon_devices.isnull().sum()"
   ]
  },
  {
   "cell_type": "code",
   "execution_count": 17,
   "metadata": {},
   "outputs": [],
   "source": [
    "# Converting the remaining string values to 0 \n",
    "Amazon_devices['rating'] = Amazon_devices['rating'].replace('Not available', 0)"
   ]
  },
  {
   "cell_type": "code",
   "execution_count": 18,
   "metadata": {},
   "outputs": [],
   "source": [
    "#Converting the 'rating' column to a float due to decimal points\n",
    "Amazon_devices['rating'] = Amazon_devices['rating'].astype(float)"
   ]
  },
  {
   "cell_type": "code",
   "execution_count": 19,
   "metadata": {},
   "outputs": [
    {
     "data": {
      "text/plain": [
       "0"
      ]
     },
     "execution_count": 19,
     "metadata": {},
     "output_type": "execute_result"
    }
   ],
   "source": [
    "#Confirming if any strings are remaining\n",
    "Amazon_devices['rating'].isnull().sum()"
   ]
  },
  {
   "cell_type": "code",
   "execution_count": 20,
   "metadata": {},
   "outputs": [],
   "source": [
    "#Converting the date column from object to date type \n",
    "Amazon_devices['date'] = pd.to_datetime(Amazon_devices['date'])"
   ]
  },
  {
   "cell_type": "code",
   "execution_count": 21,
   "metadata": {},
   "outputs": [
    {
     "data": {
      "text/plain": [
       "date         datetime64[ns]\n",
       "number                int64\n",
       "name                 object\n",
       "rating              float64\n",
       "n_reviews             int64\n",
       "price               float64\n",
       "dtype: object"
      ]
     },
     "execution_count": 21,
     "metadata": {},
     "output_type": "execute_result"
    }
   ],
   "source": [
    "#Checking the datatypes of all columns \n",
    "Amazon_devices.dtypes"
   ]
  },
  {
   "attachments": {},
   "cell_type": "markdown",
   "metadata": {},
   "source": [
    "- <u> ***Analysing the dataset*** </u>"
   ]
  },
  {
   "cell_type": "code",
   "execution_count": 22,
   "metadata": {},
   "outputs": [
    {
     "data": {
      "text/plain": [
       "name\n",
       "Blink Outdoor - wireless, weather-resistant HD security camera, two-year battery life, motion detection, set up in…         45182.11\n",
       "2020 Apple iPad (10.2-inch, Wi-Fi, 128GB) - Space Gray (8th Generation)                                                     32783.68\n",
       "Acer Aspire 5 Slim Laptop, 15.6 inches Full HD IPS Display, AMD Ryzen 3 3200U, Vega 3 Graphics, 4GB DDR4, 128GB SSD…        27833.44\n",
       "Fitbit Versa 2 Health and Fitness Smartwatch with Heart Rate, Music, Alexa Built-In, Sleep and Swim Tracking, Black…        27705.07\n",
       "Ring Stick Up Cam Battery HD security camera with custom privacy controls, Simple setup, Works with Alexa - Black           26926.98\n",
       "                                                                                                                              ...   \n",
       "Victure 1080P FHD Baby Monitor Pet Camera 2.4G Wireless Indoor Home Security Camera with Two-Way Audio Motion Detection…        0.00\n",
       "andfive Smart Watch, Fitness Tracker for Women, IP68 Waterproof Smartwatch with Pedometer, 1.4\" Full Touch Screen…              0.00\n",
       "Fujifilm Instax Mini Disney Princess Film - 10 Exposures (Short Dated - Expires 2021)                                           0.00\n",
       "Fujifilm Instax Mini Link Smartphone Printer Bundle Special Edition                                                             0.00\n",
       "Wyze Cam v3 1080p HD Indoor/Outdoor Video Camera with Color Night Vision                                                        0.00\n",
       "Name: price, Length: 710, dtype: float64"
      ]
     },
     "execution_count": 22,
     "metadata": {},
     "output_type": "execute_result"
    }
   ],
   "source": [
    "#Checking what are the most expensive products\n",
    "expensive_proucts = Amazon_devices.groupby('name')['price'].sum().sort_values(ascending = False)\n",
    "expensive_proucts"
   ]
  },
  {
   "cell_type": "code",
   "execution_count": 23,
   "metadata": {},
   "outputs": [
    {
     "data": {
      "text/html": [
       "<div>\n",
       "<style scoped>\n",
       "    .dataframe tbody tr th:only-of-type {\n",
       "        vertical-align: middle;\n",
       "    }\n",
       "\n",
       "    .dataframe tbody tr th {\n",
       "        vertical-align: top;\n",
       "    }\n",
       "\n",
       "    .dataframe thead th {\n",
       "        text-align: right;\n",
       "    }\n",
       "</style>\n",
       "<table border=\"1\" class=\"dataframe\">\n",
       "  <thead>\n",
       "    <tr style=\"text-align: right;\">\n",
       "      <th></th>\n",
       "      <th>date</th>\n",
       "      <th>number</th>\n",
       "      <th>name</th>\n",
       "      <th>rating</th>\n",
       "      <th>n_reviews</th>\n",
       "      <th>price</th>\n",
       "      <th>month</th>\n",
       "    </tr>\n",
       "  </thead>\n",
       "  <tbody>\n",
       "    <tr>\n",
       "      <th>0</th>\n",
       "      <td>2021-02-01</td>\n",
       "      <td>1</td>\n",
       "      <td>Fire TV Stick 4K streaming device with Alexa V...</td>\n",
       "      <td>4.7</td>\n",
       "      <td>512797</td>\n",
       "      <td>39.99</td>\n",
       "      <td>2</td>\n",
       "    </tr>\n",
       "  </tbody>\n",
       "</table>\n",
       "</div>"
      ],
      "text/plain": [
       "        date  number                                               name  \\\n",
       "0 2021-02-01       1  Fire TV Stick 4K streaming device with Alexa V...   \n",
       "\n",
       "   rating  n_reviews  price  month  \n",
       "0     4.7     512797  39.99      2  "
      ]
     },
     "execution_count": 23,
     "metadata": {},
     "output_type": "execute_result"
    }
   ],
   "source": [
    "Amazon_devices['month'] = Amazon_devices['date'].dt.month\n",
    "Amazon_devices.head(1)"
   ]
  },
  {
   "cell_type": "code",
   "execution_count": 24,
   "metadata": {},
   "outputs": [
    {
     "data": {
      "text/plain": [
       "month  name                                                                                                                 \n",
       "6      Blink Outdoor - wireless, weather-resistant HD security camera, two-year battery life, motion detection, set up in…      14834.61\n",
       "7      Blink Outdoor - wireless, weather-resistant HD security camera, two-year battery life, motion detection, set up in…      14455.29\n",
       "       DJI Mini 2 – Ultralight and Foldable Drone Quadcopter, 3-Axis Gimbal with 4K Camera, 12MP Photo, 31 Mins Flight Time…    13926.00\n",
       "5      Blink Outdoor - wireless, weather-resistant HD security camera, two-year battery life, motion detection, set up in…      13421.37\n",
       "       2020 Apple iPad (10.2-inch, Wi-Fi, 128GB) - Space Gray (8th Generation)                                                  12485.82\n",
       "                                                                                                                                  ...   \n",
       "2      Super Smash Bros. Ultimate - Nintendo Switch                                                                                 0.00\n",
       "       Samsung Electronics Galaxy Tab A 8.0\"\" 64 GB WiFi Tablet Black - SM-T290NZKEXAR                                              0.00\n",
       "       Super Mario 3D All-Stars - Nintendo Switch                                                                                   0.00\n",
       "6      andfive Smart Watch, Fitness Tracker for Women, IP68 Waterproof Smartwatch with Pedometer, 1.4\" Full Touch Screen…           0.00\n",
       "5      Wyze Cam v3 1080p HD Indoor/Outdoor Video Camera with Color Night Vision                                                     0.00\n",
       "Name: price, Length: 1470, dtype: float64"
      ]
     },
     "execution_count": 24,
     "metadata": {},
     "output_type": "execute_result"
    }
   ],
   "source": [
    "exp_products_month = Amazon_devices.groupby(['month', 'name'])['price'].sum().sort_values(ascending = False)\n",
    "exp_products_month"
   ]
  },
  {
   "cell_type": "code",
   "execution_count": 25,
   "metadata": {},
   "outputs": [
    {
     "data": {
      "text/plain": [
       "month\n",
       "2    228100.24\n",
       "3    262456.83\n",
       "4    205835.54\n",
       "5    205338.48\n",
       "6    268440.43\n",
       "7    252184.34\n",
       "Name: price, dtype: float64"
      ]
     },
     "execution_count": 25,
     "metadata": {},
     "output_type": "execute_result"
    }
   ],
   "source": [
    "monthly_total = Amazon_devices.groupby('month')['price'].sum()\n",
    "monthly_total"
   ]
  },
  {
   "cell_type": "code",
   "execution_count": 26,
   "metadata": {},
   "outputs": [
    {
     "data": {
      "image/png": "[encoded data removed]",
      "text/plain": [
       "<Figure size 1440x576 with 1 Axes>"
      ]
     },
     "metadata": {},
     "output_type": "display_data"
    }
   ],
   "source": [
    "plt.figure(figsize = (20,8))\n",
    "plt.bar( x = monthly_total.index,\n",
    "        height = monthly_total.values)\n",
    "plt.show()"
   ]
  },
  {
   "cell_type": "code",
   "execution_count": 27,
   "metadata": {},
   "outputs": [
    {
     "data": {
      "text/plain": [
       "month\n",
       "2    137357651\n",
       "3    161514034\n",
       "4    298166688\n",
       "5    308607286\n",
       "6    248079686\n",
       "7    233084890\n",
       "Name: n_reviews, dtype: int64"
      ]
     },
     "execution_count": 27,
     "metadata": {},
     "output_type": "execute_result"
    }
   ],
   "source": [
    "monthly_reviews = Amazon_devices.groupby('month')['n_reviews'].sum()\n",
    "monthly_reviews"
   ]
  },
  {
   "cell_type": "code",
   "execution_count": 28,
   "metadata": {},
   "outputs": [
    {
     "data": {
      "image/png": "[encoded data removed]",
      "text/plain": [
       "<Figure size 1440x576 with 1 Axes>"
      ]
     },
     "metadata": {},
     "output_type": "display_data"
    }
   ],
   "source": [
    "plt.figure(figsize = (20,8))\n",
    "plt.bar( x = monthly_reviews.index,\n",
    "        height = monthly_reviews.values)\n",
    "plt.yticks(ticks = plt.yticks()[0],\n",
    "           labels = plt.yticks()[0])\n",
    "plt.show()"
   ]
  },
  {
   "cell_type": "code",
   "execution_count": 29,
   "metadata": {},
   "outputs": [
    {
     "data": {
      "text/html": [
       "<div>\n",
       "<style scoped>\n",
       "    .dataframe tbody tr th:only-of-type {\n",
       "        vertical-align: middle;\n",
       "    }\n",
       "\n",
       "    .dataframe tbody tr th {\n",
       "        vertical-align: top;\n",
       "    }\n",
       "\n",
       "    .dataframe thead th {\n",
       "        text-align: right;\n",
       "    }\n",
       "</style>\n",
       "<table border=\"1\" class=\"dataframe\">\n",
       "  <thead>\n",
       "    <tr style=\"text-align: right;\">\n",
       "      <th></th>\n",
       "      <th>date</th>\n",
       "      <th>number</th>\n",
       "      <th>name</th>\n",
       "      <th>rating</th>\n",
       "      <th>n_reviews</th>\n",
       "      <th>price</th>\n",
       "      <th>month</th>\n",
       "    </tr>\n",
       "  </thead>\n",
       "  <tbody>\n",
       "    <tr>\n",
       "      <th>10761</th>\n",
       "      <td>2021-05-19</td>\n",
       "      <td>62</td>\n",
       "      <td>Echo Dot (3rd Gen) - Smart speaker with Alexa ...</td>\n",
       "      <td>4.7</td>\n",
       "      <td>1136023</td>\n",
       "      <td>35.19</td>\n",
       "      <td>5</td>\n",
       "    </tr>\n",
       "    <tr>\n",
       "      <th>10764</th>\n",
       "      <td>2021-05-19</td>\n",
       "      <td>65</td>\n",
       "      <td>Echo Dot (3rd Gen) - Smart speaker with Alexa ...</td>\n",
       "      <td>4.7</td>\n",
       "      <td>1136023</td>\n",
       "      <td>35.19</td>\n",
       "      <td>5</td>\n",
       "    </tr>\n",
       "    <tr>\n",
       "      <th>10706</th>\n",
       "      <td>2021-05-19</td>\n",
       "      <td>7</td>\n",
       "      <td>Echo Dot (3rd Gen) - Smart speaker with Alexa ...</td>\n",
       "      <td>4.7</td>\n",
       "      <td>1136023</td>\n",
       "      <td>35.19</td>\n",
       "      <td>5</td>\n",
       "    </tr>\n",
       "    <tr>\n",
       "      <th>10683</th>\n",
       "      <td>2021-05-18</td>\n",
       "      <td>84</td>\n",
       "      <td>Echo Dot (3rd Gen) - Smart speaker with Alexa ...</td>\n",
       "      <td>4.7</td>\n",
       "      <td>1135632</td>\n",
       "      <td>29.99</td>\n",
       "      <td>5</td>\n",
       "    </tr>\n",
       "    <tr>\n",
       "      <th>10669</th>\n",
       "      <td>2021-05-18</td>\n",
       "      <td>70</td>\n",
       "      <td>Echo Dot (3rd Gen) - Smart speaker with Alexa ...</td>\n",
       "      <td>4.7</td>\n",
       "      <td>1135632</td>\n",
       "      <td>29.99</td>\n",
       "      <td>5</td>\n",
       "    </tr>\n",
       "    <tr>\n",
       "      <th>...</th>\n",
       "      <td>...</td>\n",
       "      <td>...</td>\n",
       "      <td>...</td>\n",
       "      <td>...</td>\n",
       "      <td>...</td>\n",
       "      <td>...</td>\n",
       "      <td>...</td>\n",
       "    </tr>\n",
       "    <tr>\n",
       "      <th>10883</th>\n",
       "      <td>2021-05-20</td>\n",
       "      <td>84</td>\n",
       "      <td>2021 Apple TV 4K (32GB)</td>\n",
       "      <td>0.0</td>\n",
       "      <td>0</td>\n",
       "      <td>179.00</td>\n",
       "      <td>5</td>\n",
       "    </tr>\n",
       "    <tr>\n",
       "      <th>10708</th>\n",
       "      <td>2021-05-19</td>\n",
       "      <td>9</td>\n",
       "      <td>Binoculars 12x25, HD Professional/Waterproof B...</td>\n",
       "      <td>0.0</td>\n",
       "      <td>0</td>\n",
       "      <td>0.00</td>\n",
       "      <td>5</td>\n",
       "    </tr>\n",
       "    <tr>\n",
       "      <th>11005</th>\n",
       "      <td>2021-05-22</td>\n",
       "      <td>6</td>\n",
       "      <td>Wyze Cam v3 1080p HD Indoor/Outdoor Video Came...</td>\n",
       "      <td>0.0</td>\n",
       "      <td>0</td>\n",
       "      <td>0.00</td>\n",
       "      <td>5</td>\n",
       "    </tr>\n",
       "    <tr>\n",
       "      <th>9849</th>\n",
       "      <td>2021-05-10</td>\n",
       "      <td>50</td>\n",
       "      <td>Acer R240HY bidx 23.8-Inch IPS HDMI DVI VGA (1...</td>\n",
       "      <td>0.0</td>\n",
       "      <td>0</td>\n",
       "      <td>129.00</td>\n",
       "      <td>5</td>\n",
       "    </tr>\n",
       "    <tr>\n",
       "      <th>11105</th>\n",
       "      <td>2021-05-23</td>\n",
       "      <td>6</td>\n",
       "      <td>Wyze Cam v3 1080p HD Indoor/Outdoor Video Came...</td>\n",
       "      <td>0.0</td>\n",
       "      <td>0</td>\n",
       "      <td>0.00</td>\n",
       "      <td>5</td>\n",
       "    </tr>\n",
       "  </tbody>\n",
       "</table>\n",
       "<p>3100 rows × 7 columns</p>\n",
       "</div>"
      ],
      "text/plain": [
       "            date  number                                               name  \\\n",
       "10761 2021-05-19      62  Echo Dot (3rd Gen) - Smart speaker with Alexa ...   \n",
       "10764 2021-05-19      65  Echo Dot (3rd Gen) - Smart speaker with Alexa ...   \n",
       "10706 2021-05-19       7  Echo Dot (3rd Gen) - Smart speaker with Alexa ...   \n",
       "10683 2021-05-18      84  Echo Dot (3rd Gen) - Smart speaker with Alexa ...   \n",
       "10669 2021-05-18      70  Echo Dot (3rd Gen) - Smart speaker with Alexa ...   \n",
       "...          ...     ...                                                ...   \n",
       "10883 2021-05-20      84                            2021 Apple TV 4K (32GB)   \n",
       "10708 2021-05-19       9  Binoculars 12x25, HD Professional/Waterproof B...   \n",
       "11005 2021-05-22       6  Wyze Cam v3 1080p HD Indoor/Outdoor Video Came...   \n",
       "9849  2021-05-10      50  Acer R240HY bidx 23.8-Inch IPS HDMI DVI VGA (1...   \n",
       "11105 2021-05-23       6  Wyze Cam v3 1080p HD Indoor/Outdoor Video Came...   \n",
       "\n",
       "       rating  n_reviews   price  month  \n",
       "10761     4.7    1136023   35.19      5  \n",
       "10764     4.7    1136023   35.19      5  \n",
       "10706     4.7    1136023   35.19      5  \n",
       "10683     4.7    1135632   29.99      5  \n",
       "10669     4.7    1135632   29.99      5  \n",
       "...       ...        ...     ...    ...  \n",
       "10883     0.0          0  179.00      5  \n",
       "10708     0.0          0    0.00      5  \n",
       "11005     0.0          0    0.00      5  \n",
       "9849      0.0          0  129.00      5  \n",
       "11105     0.0          0    0.00      5  \n",
       "\n",
       "[3100 rows x 7 columns]"
      ]
     },
     "execution_count": 29,
     "metadata": {},
     "output_type": "execute_result"
    }
   ],
   "source": [
    "Amazon_devices[Amazon_devices['month'] == 5].sort_values('n_reviews',ascending = False)"
   ]
  },
  {
   "attachments": {},
   "cell_type": "markdown",
   "metadata": {},
   "source": [
    "<u> REMEMBER TO CHECK DUPLICATE VALUES </u>"
   ]
  },
  {
   "cell_type": "code",
   "execution_count": 30,
   "metadata": {},
   "outputs": [
    {
     "data": {
      "text/html": [
       "<div>\n",
       "<style scoped>\n",
       "    .dataframe tbody tr th:only-of-type {\n",
       "        vertical-align: middle;\n",
       "    }\n",
       "\n",
       "    .dataframe tbody tr th {\n",
       "        vertical-align: top;\n",
       "    }\n",
       "\n",
       "    .dataframe thead th {\n",
       "        text-align: right;\n",
       "    }\n",
       "</style>\n",
       "<table border=\"1\" class=\"dataframe\">\n",
       "  <thead>\n",
       "    <tr style=\"text-align: right;\">\n",
       "      <th></th>\n",
       "      <th>date</th>\n",
       "      <th>number</th>\n",
       "      <th>name</th>\n",
       "      <th>rating</th>\n",
       "      <th>n_reviews</th>\n",
       "      <th>price</th>\n",
       "      <th>month</th>\n",
       "    </tr>\n",
       "  </thead>\n",
       "  <tbody>\n",
       "    <tr>\n",
       "      <th>10761</th>\n",
       "      <td>2021-05-19</td>\n",
       "      <td>62</td>\n",
       "      <td>Echo Dot (3rd Gen) - Smart speaker with Alexa ...</td>\n",
       "      <td>4.7</td>\n",
       "      <td>1136023</td>\n",
       "      <td>35.19</td>\n",
       "      <td>5</td>\n",
       "    </tr>\n",
       "    <tr>\n",
       "      <th>10762</th>\n",
       "      <td>2021-05-19</td>\n",
       "      <td>63</td>\n",
       "      <td>All-new Echo Dot (4th Gen) | Smart speaker wit...</td>\n",
       "      <td>4.7</td>\n",
       "      <td>247333</td>\n",
       "      <td>34.43</td>\n",
       "      <td>5</td>\n",
       "    </tr>\n",
       "    <tr>\n",
       "      <th>10763</th>\n",
       "      <td>2021-05-19</td>\n",
       "      <td>64</td>\n",
       "      <td>New Apple AirTag 4 Pack</td>\n",
       "      <td>4.6</td>\n",
       "      <td>400</td>\n",
       "      <td>99.00</td>\n",
       "      <td>5</td>\n",
       "    </tr>\n",
       "    <tr>\n",
       "      <th>10764</th>\n",
       "      <td>2021-05-19</td>\n",
       "      <td>65</td>\n",
       "      <td>Echo Dot (3rd Gen) - Smart speaker with Alexa ...</td>\n",
       "      <td>4.7</td>\n",
       "      <td>1136023</td>\n",
       "      <td>35.19</td>\n",
       "      <td>5</td>\n",
       "    </tr>\n",
       "    <tr>\n",
       "      <th>10765</th>\n",
       "      <td>2021-05-19</td>\n",
       "      <td>66</td>\n",
       "      <td>TR Industrial Multi-Purpose UV Resistant Black...</td>\n",
       "      <td>4.7</td>\n",
       "      <td>15562</td>\n",
       "      <td>7.47</td>\n",
       "      <td>5</td>\n",
       "    </tr>\n",
       "    <tr>\n",
       "      <th>...</th>\n",
       "      <td>...</td>\n",
       "      <td>...</td>\n",
       "      <td>...</td>\n",
       "      <td>...</td>\n",
       "      <td>...</td>\n",
       "      <td>...</td>\n",
       "      <td>...</td>\n",
       "    </tr>\n",
       "    <tr>\n",
       "      <th>18095</th>\n",
       "      <td>2021-07-31</td>\n",
       "      <td>96</td>\n",
       "      <td>Tile Slim (2020) 1-pack - Slim &amp; Sleek Bluetoo...</td>\n",
       "      <td>4.6</td>\n",
       "      <td>25512</td>\n",
       "      <td>28.73</td>\n",
       "      <td>7</td>\n",
       "    </tr>\n",
       "    <tr>\n",
       "      <th>18096</th>\n",
       "      <td>2021-07-31</td>\n",
       "      <td>97</td>\n",
       "      <td>Blink Outdoor - wireless, weather-resistant HD...</td>\n",
       "      <td>4.4</td>\n",
       "      <td>60859</td>\n",
       "      <td>99.99</td>\n",
       "      <td>7</td>\n",
       "    </tr>\n",
       "    <tr>\n",
       "      <th>18097</th>\n",
       "      <td>2021-07-31</td>\n",
       "      <td>98</td>\n",
       "      <td>EVISTR 16GB Digital Voice Recorder Voice Activ...</td>\n",
       "      <td>4.4</td>\n",
       "      <td>12196</td>\n",
       "      <td>39.99</td>\n",
       "      <td>7</td>\n",
       "    </tr>\n",
       "    <tr>\n",
       "      <th>18098</th>\n",
       "      <td>2021-07-31</td>\n",
       "      <td>99</td>\n",
       "      <td>Echo (4th Gen) | With premium sound, smart hom...</td>\n",
       "      <td>4.7</td>\n",
       "      <td>71566</td>\n",
       "      <td>69.99</td>\n",
       "      <td>7</td>\n",
       "    </tr>\n",
       "    <tr>\n",
       "      <th>18099</th>\n",
       "      <td>2021-07-31</td>\n",
       "      <td>100</td>\n",
       "      <td>2 Pack Surge Protector Power Strip with 6 Outl...</td>\n",
       "      <td>4.8</td>\n",
       "      <td>9157</td>\n",
       "      <td>30.99</td>\n",
       "      <td>7</td>\n",
       "    </tr>\n",
       "  </tbody>\n",
       "</table>\n",
       "<p>7339 rows × 7 columns</p>\n",
       "</div>"
      ],
      "text/plain": [
       "            date  number                                               name  \\\n",
       "10761 2021-05-19      62  Echo Dot (3rd Gen) - Smart speaker with Alexa ...   \n",
       "10762 2021-05-19      63  All-new Echo Dot (4th Gen) | Smart speaker wit...   \n",
       "10763 2021-05-19      64                            New Apple AirTag 4 Pack   \n",
       "10764 2021-05-19      65  Echo Dot (3rd Gen) - Smart speaker with Alexa ...   \n",
       "10765 2021-05-19      66  TR Industrial Multi-Purpose UV Resistant Black...   \n",
       "...          ...     ...                                                ...   \n",
       "18095 2021-07-31      96  Tile Slim (2020) 1-pack - Slim & Sleek Bluetoo...   \n",
       "18096 2021-07-31      97  Blink Outdoor - wireless, weather-resistant HD...   \n",
       "18097 2021-07-31      98  EVISTR 16GB Digital Voice Recorder Voice Activ...   \n",
       "18098 2021-07-31      99  Echo (4th Gen) | With premium sound, smart hom...   \n",
       "18099 2021-07-31     100  2 Pack Surge Protector Power Strip with 6 Outl...   \n",
       "\n",
       "       rating  n_reviews  price  month  \n",
       "10761     4.7    1136023  35.19      5  \n",
       "10762     4.7     247333  34.43      5  \n",
       "10763     4.6        400  99.00      5  \n",
       "10764     4.7    1136023  35.19      5  \n",
       "10765     4.7      15562   7.47      5  \n",
       "...       ...        ...    ...    ...  \n",
       "18095     4.6      25512  28.73      7  \n",
       "18096     4.4      60859  99.99      7  \n",
       "18097     4.4      12196  39.99      7  \n",
       "18098     4.7      71566  69.99      7  \n",
       "18099     4.8       9157  30.99      7  \n",
       "\n",
       "[7339 rows x 7 columns]"
      ]
     },
     "execution_count": 30,
     "metadata": {},
     "output_type": "execute_result"
    }
   ],
   "source": [
    "Amazon_devices[10761:]"
   ]
  },
  {
   "cell_type": "code",
   "execution_count": 31,
   "metadata": {},
   "outputs": [
    {
     "data": {
      "image/png": "[encoded data removed]",
      "text/plain": [
       "<Figure size 1440x576 with 1 Axes>"
      ]
     },
     "metadata": {},
     "output_type": "display_data"
    }
   ],
   "source": [
    "plt.figure(figsize = (20,8))\n",
    "sns.scatterplot(x='price', y='n_reviews', data = Amazon_devices,)\n",
    "plt.xlabel('Price', weight = 'bold')\n",
    "plt.ylabel('Reviews', weight = 'bold')\n",
    "plt.yticks(ticks= plt.yticks()[0], labels=plt.yticks()[0])\n",
    "plt.xlim(0,Amazon_devices['price'].max())\n",
    "plt.ylim(0,Amazon_devices['n_reviews'].max())\n",
    "plt.title('Correlation between price and Reviews', fontsize = 12, weight = 'bold')\n",
    "plt.show()"
   ]
  },
  {
   "cell_type": "code",
   "execution_count": 32,
   "metadata": {},
   "outputs": [
    {
     "data": {
      "image/png": "[encoded data removed]",
      "text/plain": [
       "<Figure size 1440x576 with 1 Axes>"
      ]
     },
     "metadata": {},
     "output_type": "display_data"
    }
   ],
   "source": [
    "plt.figure(figsize = (20,8))\n",
    "sns.scatterplot(x='rating', y='n_reviews', data = Amazon_devices)\n",
    "plt.xlabel('Ratings', weight = 'bold')\n",
    "plt.ylabel('Reviews', weight = 'bold')\n",
    "plt.yticks(ticks= plt.yticks()[0], labels=plt.yticks()[0])\n",
    "plt.ylim(0,Amazon_devices['n_reviews'].max())\n",
    "plt.title('Correlation between Ratings and Reviews', fontsize =12, weight = 'bold')\n",
    "plt.show()"
   ]
  },
  {
   "cell_type": "code",
   "execution_count": 33,
   "metadata": {},
   "outputs": [
    {
     "data": {
      "image/png": "[encoded data removed]",
      "text/plain": [
       "<Figure size 1440x576 with 1 Axes>"
      ]
     },
     "metadata": {},
     "output_type": "display_data"
    }
   ],
   "source": [
    "plt.figure(figsize = (20,8))\n",
    "sns.scatterplot(x='rating', y='price', data = Amazon_devices)\n",
    "plt.xlabel('Ratings', weight = 'bold')\n",
    "plt.ylabel('Price', weight = 'bold')\n",
    "plt.yticks(ticks= plt.yticks()[0], labels=plt.yticks()[0])\n",
    "plt.title('Correlation between Ratings and Price', fontsize = 12, weight = 'bold')\n",
    "plt.ylim(0,Amazon_devices['price'].max())\n",
    "plt.show() "
   ]
  },
  {
   "cell_type": "code",
   "execution_count": 34,
   "metadata": {},
   "outputs": [
    {
     "name": "stdout",
     "output_type": "stream",
     "text": [
      "Correlation between number of reviews and ratings: 0.06739304763469903\n"
     ]
    }
   ],
   "source": [
    "correlation = Amazon_devices['n_reviews'].corr(Amazon_devices['rating'])\n",
    "print(\"Correlation between number of reviews and ratings:\", correlation)"
   ]
  },
  {
   "cell_type": "code",
   "execution_count": 35,
   "metadata": {},
   "outputs": [
    {
     "data": {
      "text/html": [
       "<div>\n",
       "<style scoped>\n",
       "    .dataframe tbody tr th:only-of-type {\n",
       "        vertical-align: middle;\n",
       "    }\n",
       "\n",
       "    .dataframe tbody tr th {\n",
       "        vertical-align: top;\n",
       "    }\n",
       "\n",
       "    .dataframe thead th {\n",
       "        text-align: right;\n",
       "    }\n",
       "</style>\n",
       "<table border=\"1\" class=\"dataframe\">\n",
       "  <thead>\n",
       "    <tr style=\"text-align: right;\">\n",
       "      <th></th>\n",
       "      <th>number</th>\n",
       "      <th>rating</th>\n",
       "      <th>n_reviews</th>\n",
       "      <th>price</th>\n",
       "      <th>month</th>\n",
       "    </tr>\n",
       "  </thead>\n",
       "  <tbody>\n",
       "    <tr>\n",
       "      <th>number</th>\n",
       "      <td>1.000000e+00</td>\n",
       "      <td>-0.018727</td>\n",
       "      <td>-0.304020</td>\n",
       "      <td>0.083421</td>\n",
       "      <td>3.409447e-15</td>\n",
       "    </tr>\n",
       "    <tr>\n",
       "      <th>rating</th>\n",
       "      <td>-1.872682e-02</td>\n",
       "      <td>1.000000</td>\n",
       "      <td>0.067393</td>\n",
       "      <td>0.056224</td>\n",
       "      <td>-4.885546e-02</td>\n",
       "    </tr>\n",
       "    <tr>\n",
       "      <th>n_reviews</th>\n",
       "      <td>-3.040196e-01</td>\n",
       "      <td>0.067393</td>\n",
       "      <td>1.000000</td>\n",
       "      <td>-0.096260</td>\n",
       "      <td>6.428651e-02</td>\n",
       "    </tr>\n",
       "    <tr>\n",
       "      <th>price</th>\n",
       "      <td>8.342119e-02</td>\n",
       "      <td>0.056224</td>\n",
       "      <td>-0.096260</td>\n",
       "      <td>1.000000</td>\n",
       "      <td>5.887885e-03</td>\n",
       "    </tr>\n",
       "    <tr>\n",
       "      <th>month</th>\n",
       "      <td>3.409447e-15</td>\n",
       "      <td>-0.048855</td>\n",
       "      <td>0.064287</td>\n",
       "      <td>0.005888</td>\n",
       "      <td>1.000000e+00</td>\n",
       "    </tr>\n",
       "  </tbody>\n",
       "</table>\n",
       "</div>"
      ],
      "text/plain": [
       "                 number    rating  n_reviews     price         month\n",
       "number     1.000000e+00 -0.018727  -0.304020  0.083421  3.409447e-15\n",
       "rating    -1.872682e-02  1.000000   0.067393  0.056224 -4.885546e-02\n",
       "n_reviews -3.040196e-01  0.067393   1.000000 -0.096260  6.428651e-02\n",
       "price      8.342119e-02  0.056224  -0.096260  1.000000  5.887885e-03\n",
       "month      3.409447e-15 -0.048855   0.064287  0.005888  1.000000e+00"
      ]
     },
     "execution_count": 35,
     "metadata": {},
     "output_type": "execute_result"
    }
   ],
   "source": [
    "Amazon_devices.corr() "
   ]
  },
  {
   "cell_type": "code",
   "execution_count": 36,
   "metadata": {},
   "outputs": [
    {
     "data": {
      "image/png": "[encoded data removed]",
      "text/plain": [
       "<Figure size 864x432 with 2 Axes>"
      ]
     },
     "metadata": {},
     "output_type": "display_data"
    }
   ],
   "source": [
    "plt.figure(figsize=(12,6))\n",
    "sns.heatmap(Amazon_devices.corr(), cmap=\"YlGnBu\")\n",
    "plt.show()"
   ]
  },
  {
   "cell_type": "code",
   "execution_count": 42,
   "metadata": {},
   "outputs": [
    {
     "data": {
      "text/plain": [
       "0        Fire TV Stick 4K streaming device with Alexa V...\n",
       "1        Amazon Smart Plug, works with Alexa – A Certif...\n",
       "2        Echo Show 5 -- Smart display with Alexa – stay...\n",
       "3        All-new Echo Dot (4th Gen, 2020 release) | Sma...\n",
       "4        Roku Streaming Stick+ | HD/4K/HDR Streaming De...\n",
       "                               ...                        \n",
       "18095    Tile Slim (2020) 1-pack - Slim & Sleek Bluetoo...\n",
       "18096    Blink Outdoor - wireless, weather-resistant HD...\n",
       "18097    EVISTR 16GB Digital Voice Recorder Voice Activ...\n",
       "18098    Echo (4th Gen) | With premium sound, smart hom...\n",
       "18099    2 Pack Surge Protector Power Strip with 6 Outl...\n",
       "Name: name, Length: 18100, dtype: object"
      ]
     },
     "execution_count": 42,
     "metadata": {},
     "output_type": "execute_result"
    }
   ],
   "source": [
    "Amazon_devices['name']"
   ]
  }
 ],
 "metadata": {
  "kernelspec": {
   "display_name": "base",
   "language": "python",
   "name": "python3"
  },
  "language_info": {
   "codemirror_mode": {
    "name": "ipython",
    "version": 3
   },
   "file_extension": ".py",
   "mimetype": "text/x-python",
   "name": "python",
   "nbconvert_exporter": "python",
   "pygments_lexer": "ipython3",
   "version": "3.9.12"
  },
  "orig_nbformat": 4
 },
 "nbformat": 4,
 "nbformat_minor": 2
}
