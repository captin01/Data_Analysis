{
 "cells": [
  {
   "cell_type": "code",
   "execution_count": 1,
   "metadata": {},
   "outputs": [],
   "source": [
    "import pandas as pd\n",
    "import matplotlib.pyplot as plt\n",
    "import seaborn as sns\n",
    "sns.set()"
   ]
  },
  {
   "cell_type": "code",
   "execution_count": 2,
   "metadata": {},
   "outputs": [
    {
     "data": {
      "text/html": [
       "<div>\n",
       "<style scoped>\n",
       "    .dataframe tbody tr th:only-of-type {\n",
       "        vertical-align: middle;\n",
       "    }\n",
       "\n",
       "    .dataframe tbody tr th {\n",
       "        vertical-align: top;\n",
       "    }\n",
       "\n",
       "    .dataframe thead th {\n",
       "        text-align: right;\n",
       "    }\n",
       "</style>\n",
       "<table border=\"1\" class=\"dataframe\">\n",
       "  <thead>\n",
       "    <tr style=\"text-align: right;\">\n",
       "      <th></th>\n",
       "      <th>work_year</th>\n",
       "      <th>experience_level</th>\n",
       "      <th>employment_type</th>\n",
       "      <th>job_title</th>\n",
       "      <th>salary</th>\n",
       "      <th>salary_currency</th>\n",
       "      <th>salary_in_usd</th>\n",
       "      <th>employee_residence</th>\n",
       "      <th>remote_ratio</th>\n",
       "      <th>company_location</th>\n",
       "      <th>company_size</th>\n",
       "    </tr>\n",
       "  </thead>\n",
       "  <tbody>\n",
       "    <tr>\n",
       "      <th>0</th>\n",
       "      <td>2023</td>\n",
       "      <td>SE</td>\n",
       "      <td>FT</td>\n",
       "      <td>Principal Data Scientist</td>\n",
       "      <td>80000</td>\n",
       "      <td>EUR</td>\n",
       "      <td>85847</td>\n",
       "      <td>ES</td>\n",
       "      <td>100</td>\n",
       "      <td>ES</td>\n",
       "      <td>L</td>\n",
       "    </tr>\n",
       "    <tr>\n",
       "      <th>1</th>\n",
       "      <td>2023</td>\n",
       "      <td>MI</td>\n",
       "      <td>CT</td>\n",
       "      <td>ML Engineer</td>\n",
       "      <td>30000</td>\n",
       "      <td>USD</td>\n",
       "      <td>30000</td>\n",
       "      <td>US</td>\n",
       "      <td>100</td>\n",
       "      <td>US</td>\n",
       "      <td>S</td>\n",
       "    </tr>\n",
       "    <tr>\n",
       "      <th>2</th>\n",
       "      <td>2023</td>\n",
       "      <td>MI</td>\n",
       "      <td>CT</td>\n",
       "      <td>ML Engineer</td>\n",
       "      <td>25500</td>\n",
       "      <td>USD</td>\n",
       "      <td>25500</td>\n",
       "      <td>US</td>\n",
       "      <td>100</td>\n",
       "      <td>US</td>\n",
       "      <td>S</td>\n",
       "    </tr>\n",
       "    <tr>\n",
       "      <th>3</th>\n",
       "      <td>2023</td>\n",
       "      <td>SE</td>\n",
       "      <td>FT</td>\n",
       "      <td>Data Scientist</td>\n",
       "      <td>175000</td>\n",
       "      <td>USD</td>\n",
       "      <td>175000</td>\n",
       "      <td>CA</td>\n",
       "      <td>100</td>\n",
       "      <td>CA</td>\n",
       "      <td>M</td>\n",
       "    </tr>\n",
       "    <tr>\n",
       "      <th>4</th>\n",
       "      <td>2023</td>\n",
       "      <td>SE</td>\n",
       "      <td>FT</td>\n",
       "      <td>Data Scientist</td>\n",
       "      <td>120000</td>\n",
       "      <td>USD</td>\n",
       "      <td>120000</td>\n",
       "      <td>CA</td>\n",
       "      <td>100</td>\n",
       "      <td>CA</td>\n",
       "      <td>M</td>\n",
       "    </tr>\n",
       "    <tr>\n",
       "      <th>...</th>\n",
       "      <td>...</td>\n",
       "      <td>...</td>\n",
       "      <td>...</td>\n",
       "      <td>...</td>\n",
       "      <td>...</td>\n",
       "      <td>...</td>\n",
       "      <td>...</td>\n",
       "      <td>...</td>\n",
       "      <td>...</td>\n",
       "      <td>...</td>\n",
       "      <td>...</td>\n",
       "    </tr>\n",
       "    <tr>\n",
       "      <th>3750</th>\n",
       "      <td>2020</td>\n",
       "      <td>SE</td>\n",
       "      <td>FT</td>\n",
       "      <td>Data Scientist</td>\n",
       "      <td>412000</td>\n",
       "      <td>USD</td>\n",
       "      <td>412000</td>\n",
       "      <td>US</td>\n",
       "      <td>100</td>\n",
       "      <td>US</td>\n",
       "      <td>L</td>\n",
       "    </tr>\n",
       "    <tr>\n",
       "      <th>3751</th>\n",
       "      <td>2021</td>\n",
       "      <td>MI</td>\n",
       "      <td>FT</td>\n",
       "      <td>Principal Data Scientist</td>\n",
       "      <td>151000</td>\n",
       "      <td>USD</td>\n",
       "      <td>151000</td>\n",
       "      <td>US</td>\n",
       "      <td>100</td>\n",
       "      <td>US</td>\n",
       "      <td>L</td>\n",
       "    </tr>\n",
       "    <tr>\n",
       "      <th>3752</th>\n",
       "      <td>2020</td>\n",
       "      <td>EN</td>\n",
       "      <td>FT</td>\n",
       "      <td>Data Scientist</td>\n",
       "      <td>105000</td>\n",
       "      <td>USD</td>\n",
       "      <td>105000</td>\n",
       "      <td>US</td>\n",
       "      <td>100</td>\n",
       "      <td>US</td>\n",
       "      <td>S</td>\n",
       "    </tr>\n",
       "    <tr>\n",
       "      <th>3753</th>\n",
       "      <td>2020</td>\n",
       "      <td>EN</td>\n",
       "      <td>CT</td>\n",
       "      <td>Business Data Analyst</td>\n",
       "      <td>100000</td>\n",
       "      <td>USD</td>\n",
       "      <td>100000</td>\n",
       "      <td>US</td>\n",
       "      <td>100</td>\n",
       "      <td>US</td>\n",
       "      <td>L</td>\n",
       "    </tr>\n",
       "    <tr>\n",
       "      <th>3754</th>\n",
       "      <td>2021</td>\n",
       "      <td>SE</td>\n",
       "      <td>FT</td>\n",
       "      <td>Data Science Manager</td>\n",
       "      <td>7000000</td>\n",
       "      <td>INR</td>\n",
       "      <td>94665</td>\n",
       "      <td>IN</td>\n",
       "      <td>50</td>\n",
       "      <td>IN</td>\n",
       "      <td>L</td>\n",
       "    </tr>\n",
       "  </tbody>\n",
       "</table>\n",
       "<p>3755 rows × 11 columns</p>\n",
       "</div>"
      ],
      "text/plain": [
       "      work_year experience_level employment_type                 job_title  \\\n",
       "0          2023               SE              FT  Principal Data Scientist   \n",
       "1          2023               MI              CT               ML Engineer   \n",
       "2          2023               MI              CT               ML Engineer   \n",
       "3          2023               SE              FT            Data Scientist   \n",
       "4          2023               SE              FT            Data Scientist   \n",
       "...         ...              ...             ...                       ...   \n",
       "3750       2020               SE              FT            Data Scientist   \n",
       "3751       2021               MI              FT  Principal Data Scientist   \n",
       "3752       2020               EN              FT            Data Scientist   \n",
       "3753       2020               EN              CT     Business Data Analyst   \n",
       "3754       2021               SE              FT      Data Science Manager   \n",
       "\n",
       "       salary salary_currency  salary_in_usd employee_residence  remote_ratio  \\\n",
       "0       80000             EUR          85847                 ES           100   \n",
       "1       30000             USD          30000                 US           100   \n",
       "2       25500             USD          25500                 US           100   \n",
       "3      175000             USD         175000                 CA           100   \n",
       "4      120000             USD         120000                 CA           100   \n",
       "...       ...             ...            ...                ...           ...   \n",
       "3750   412000             USD         412000                 US           100   \n",
       "3751   151000             USD         151000                 US           100   \n",
       "3752   105000             USD         105000                 US           100   \n",
       "3753   100000             USD         100000                 US           100   \n",
       "3754  7000000             INR          94665                 IN            50   \n",
       "\n",
       "     company_location company_size  \n",
       "0                  ES            L  \n",
       "1                  US            S  \n",
       "2                  US            S  \n",
       "3                  CA            M  \n",
       "4                  CA            M  \n",
       "...               ...          ...  \n",
       "3750               US            L  \n",
       "3751               US            L  \n",
       "3752               US            S  \n",
       "3753               US            L  \n",
       "3754               IN            L  \n",
       "\n",
       "[3755 rows x 11 columns]"
      ]
     },
     "execution_count": 2,
     "metadata": {},
     "output_type": "execute_result"
    }
   ],
   "source": [
    "df = pd.read_csv('ds_salaries.csv')\n",
    "df"
   ]
  },
  {
   "cell_type": "code",
   "execution_count": 3,
   "metadata": {},
   "outputs": [
    {
     "data": {
      "text/plain": [
       "work_year             0\n",
       "experience_level      0\n",
       "employment_type       0\n",
       "job_title             0\n",
       "salary                0\n",
       "salary_currency       0\n",
       "salary_in_usd         0\n",
       "employee_residence    0\n",
       "remote_ratio          0\n",
       "company_location      0\n",
       "company_size          0\n",
       "dtype: int64"
      ]
     },
     "execution_count": 3,
     "metadata": {},
     "output_type": "execute_result"
    }
   ],
   "source": [
    "df.isnull().sum()"
   ]
  },
  {
   "cell_type": "code",
   "execution_count": 4,
   "metadata": {},
   "outputs": [
    {
     "name": "stdout",
     "output_type": "stream",
     "text": [
      "<class 'pandas.core.frame.DataFrame'>\n",
      "RangeIndex: 3755 entries, 0 to 3754\n",
      "Data columns (total 11 columns):\n",
      " #   Column              Non-Null Count  Dtype \n",
      "---  ------              --------------  ----- \n",
      " 0   work_year           3755 non-null   int64 \n",
      " 1   experience_level    3755 non-null   object\n",
      " 2   employment_type     3755 non-null   object\n",
      " 3   job_title           3755 non-null   object\n",
      " 4   salary              3755 non-null   int64 \n",
      " 5   salary_currency     3755 non-null   object\n",
      " 6   salary_in_usd       3755 non-null   int64 \n",
      " 7   employee_residence  3755 non-null   object\n",
      " 8   remote_ratio        3755 non-null   int64 \n",
      " 9   company_location    3755 non-null   object\n",
      " 10  company_size        3755 non-null   object\n",
      "dtypes: int64(4), object(7)\n",
      "memory usage: 322.8+ KB\n"
     ]
    }
   ],
   "source": [
    "df.info()"
   ]
  },
  {
   "cell_type": "code",
   "execution_count": 5,
   "metadata": {},
   "outputs": [
    {
     "data": {
      "text/plain": [
       "93"
      ]
     },
     "execution_count": 5,
     "metadata": {},
     "output_type": "execute_result"
    }
   ],
   "source": [
    "df.job_title.nunique()"
   ]
  },
  {
   "cell_type": "code",
   "execution_count": 6,
   "metadata": {},
   "outputs": [
    {
     "data": {
      "text/plain": [
       "72"
      ]
     },
     "execution_count": 6,
     "metadata": {},
     "output_type": "execute_result"
    }
   ],
   "source": [
    "df.company_location.nunique()"
   ]
  },
  {
   "cell_type": "code",
   "execution_count": 7,
   "metadata": {},
   "outputs": [
    {
     "data": {
      "text/plain": [
       "job_title                      work_year\n",
       "3D Computer Vision Researcher  2021          2\n",
       "                               2022          2\n",
       "AI Developer                   2023          8\n",
       "                               2022          3\n",
       "AI Programmer                  2022          1\n",
       "                                            ..\n",
       "Research Scientist             2021         10\n",
       "                               2020          2\n",
       "Software Data Engineer         2023          2\n",
       "Staff Data Analyst             2020          1\n",
       "Staff Data Scientist           2021          1\n",
       "Name: work_year, Length: 200, dtype: int64"
      ]
     },
     "execution_count": 7,
     "metadata": {},
     "output_type": "execute_result"
    }
   ],
   "source": [
    "df.groupby('job_title')['work_year'].value_counts()"
   ]
  },
  {
   "cell_type": "code",
   "execution_count": 8,
   "metadata": {},
   "outputs": [
    {
     "data": {
      "text/plain": [
       "job_title\n",
       "Data Engineer                148497164\n",
       "Data Scientist               118330603\n",
       "Data Analyst                  66534331\n",
       "Machine Learning Engineer     44705620\n",
       "Data Architect                16333091\n",
       "                               ...    \n",
       "Principal Data Architect         38154\n",
       "Compliance Data Analyst          30000\n",
       "Staff Data Analyst               15000\n",
       "Product Data Scientist            8000\n",
       "Power BI Developer                5409\n",
       "Name: salary_in_usd, Length: 93, dtype: int64"
      ]
     },
     "execution_count": 8,
     "metadata": {},
     "output_type": "execute_result"
    }
   ],
   "source": [
    "df.groupby('job_title')['salary_in_usd'].sum().sort_values(ascending=False)"
   ]
  },
  {
   "cell_type": "code",
   "execution_count": 9,
   "metadata": {},
   "outputs": [
    {
     "data": {
      "text/plain": [
       "job_title\n",
       "Data Engineer                148497164\n",
       "Data Scientist               118330603\n",
       "Data Analyst                  66534331\n",
       "Machine Learning Engineer     44705620\n",
       "Data Architect                16333091\n",
       "Name: salary_in_usd, dtype: int64"
      ]
     },
     "execution_count": 9,
     "metadata": {},
     "output_type": "execute_result"
    }
   ],
   "source": [
    "top_5_salaries = df.groupby('job_title')['salary_in_usd'].sum().sort_values(ascending=False).head(5)\n",
    "top_5_salaries"
   ]
  },
  {
   "cell_type": "code",
   "execution_count": 10,
   "metadata": {},
   "outputs": [
    {
     "data": {
      "image/png": "[encoded data removed]",
      "text/plain": [
       "<Figure size 864x432 with 1 Axes>"
      ]
     },
     "metadata": {},
     "output_type": "display_data"
    }
   ],
   "source": [
    "#plotting top_5 total salaries per job_title\n",
    "plt.figure(figsize=(12,6))\n",
    "plt.bar(x= top_5_salaries.index,\n",
    "        height= top_5_salaries.values,\n",
    "        color = 'Grey')\n",
    "plt.yticks(ticks=plt.yticks()[0],labels=plt.yticks()[0] )\n",
    "plt.xlabel('Job title', weight= 'bold')\n",
    "plt.ylabel('total amount in usd', weight= 'bold')\n",
    "plt.title('Top Data Jobs ', fontsize = 12, weight ='bold')\n",
    "plt.show()"
   ]
  },
  {
   "cell_type": "code",
   "execution_count": 11,
   "metadata": {},
   "outputs": [
    {
     "data": {
      "text/plain": [
       "company_location\n",
       "US    138587808\n",
       "GB      4534515\n",
       "ES      1236672\n",
       "CA      1185200\n",
       "GR       473417\n",
       "DE       379559\n",
       "PR       335000\n",
       "PT       322694\n",
       "LT       189624\n",
       "NL       175020\n",
       "MX       165511\n",
       "FR       135280\n",
       "IN       131683\n",
       "SI       123405\n",
       "BR       120000\n",
       "IE       101943\n",
       "AU        75050\n",
       "AT        74130\n",
       "JP        41689\n",
       "TR        40119\n",
       "PL        28476\n",
       "MT        28369\n",
       "VN        12000\n",
       "Name: salary_in_usd, dtype: int64"
      ]
     },
     "execution_count": 11,
     "metadata": {},
     "output_type": "execute_result"
    }
   ],
   "source": [
    "#checking total amount paid to data engineers across different locations\n",
    "DE = df[df.job_title == 'Data Engineer']\n",
    "DE_location = DE.groupby('company_location')['salary_in_usd'].sum().sort_values(ascending= False)\n",
    "DE_location\n"
   ]
  },
  {
   "cell_type": "code",
   "execution_count": 12,
   "metadata": {},
   "outputs": [
    {
     "data": {
      "text/plain": [
       "company_size\n",
       "M    451290619\n",
       "L     53708646\n",
       "S     11577549\n",
       "Name: salary_in_usd, dtype: int64"
      ]
     },
     "execution_count": 12,
     "metadata": {},
     "output_type": "execute_result"
    }
   ],
   "source": [
    "df.groupby('company_size')['salary_in_usd'].sum().sort_values(ascending= False)"
   ]
  },
  {
   "cell_type": "code",
   "execution_count": 13,
   "metadata": {},
   "outputs": [
    {
     "data": {
      "text/plain": [
       "<AxesSubplot:xlabel='company_size', ylabel='salary_in_usd'>"
      ]
     },
     "execution_count": 13,
     "metadata": {},
     "output_type": "execute_result"
    },
    {
     "data": {
      "image/png": "[encoded data removed]",
      "text/plain": [
       "<Figure size 864x432 with 1 Axes>"
      ]
     },
     "metadata": {},
     "output_type": "display_data"
    }
   ],
   "source": [
    "plt.figure(figsize= (12,6))\n",
    "sns.scatterplot(x= 'company_size', y= 'salary_in_usd', data= df, hue= 'experience_level')"
   ]
  },
  {
   "attachments": {},
   "cell_type": "markdown",
   "metadata": {},
   "source": [
    "- Does company size affect Job role diversity ?"
   ]
  },
  {
   "cell_type": "code",
   "execution_count": 14,
   "metadata": {},
   "outputs": [
    {
     "data": {
      "text/plain": [
       "company_size  job_title                         \n",
       "L             Data Scientist                        99\n",
       "              Data Engineer                         79\n",
       "              Data Analyst                          38\n",
       "              Machine Learning Engineer             37\n",
       "              Applied Scientist                     30\n",
       "                                                    ..\n",
       "S             Machine Learning Software Engineer     1\n",
       "              Marketing Data Analyst                 1\n",
       "              Principal Data Analyst                 1\n",
       "              Principal Data Scientist               1\n",
       "              Product Data Analyst                   1\n",
       "Name: job_title, Length: 179, dtype: int64"
      ]
     },
     "execution_count": 14,
     "metadata": {},
     "output_type": "execute_result"
    }
   ],
   "source": [
    "size_diversity = df.groupby('company_size')['job_title'].value_counts()\n",
    "size_diversity"
   ]
  },
  {
   "cell_type": "code",
   "execution_count": 15,
   "metadata": {},
   "outputs": [
    {
     "data": {
      "text/plain": [
       "job_title\n",
       "Data Scientist                         99\n",
       "Data Engineer                          79\n",
       "Data Analyst                           38\n",
       "Machine Learning Engineer              37\n",
       "Applied Scientist                      30\n",
       "                                       ..\n",
       "Principal Data Architect                1\n",
       "Principal Data Engineer                 1\n",
       "Principal Machine Learning Engineer     1\n",
       "Product Data Scientist                  1\n",
       "Software Data Engineer                  1\n",
       "Name: job_title, Length: 67, dtype: int64"
      ]
     },
     "execution_count": 15,
     "metadata": {},
     "output_type": "execute_result"
    }
   ],
   "source": [
    "size_diversity.loc['L']"
   ]
  },
  {
   "cell_type": "code",
   "execution_count": 16,
   "metadata": {},
   "outputs": [
    {
     "data": {
      "text/plain": [
       "job_title\n",
       "Data Engineer                953\n",
       "Data Scientist               713\n",
       "Data Analyst                 556\n",
       "Machine Learning Engineer    234\n",
       "Analytics Engineer           101\n",
       "                            ... \n",
       "Principal Data Analyst         1\n",
       "Principal Data Engineer        1\n",
       "Software Data Engineer         1\n",
       "Staff Data Analyst             1\n",
       "Staff Data Scientist           1\n",
       "Name: job_title, Length: 72, dtype: int64"
      ]
     },
     "execution_count": 16,
     "metadata": {},
     "output_type": "execute_result"
    }
   ],
   "source": [
    "size_diversity.loc['M']"
   ]
  },
  {
   "cell_type": "code",
   "execution_count": 17,
   "metadata": {},
   "outputs": [
    {
     "data": {
      "text/plain": [
       "job_title\n",
       "Data Scientist                        28\n",
       "Data Analyst                          18\n",
       "Machine Learning Engineer             18\n",
       "Data Engineer                          8\n",
       "Machine Learning Scientist             7\n",
       "ML Engineer                            6\n",
       "AI Scientist                           5\n",
       "Computer Vision Engineer               4\n",
       "Lead Data Engineer                     4\n",
       "Research Scientist                     4\n",
       "AI Developer                           3\n",
       "BI Data Analyst                        3\n",
       "Big Data Engineer                      3\n",
       "Data Science Consultant                3\n",
       "Lead Data Scientist                    3\n",
       "3D Computer Vision Researcher          2\n",
       "Cloud Data Engineer                    2\n",
       "Computer Vision Software Engineer      2\n",
       "Machine Learning Developer             2\n",
       "NLP Engineer                           2\n",
       "Research Engineer                      2\n",
       "Analytics Engineer                     1\n",
       "Applied Data Scientist                 1\n",
       "Applied Machine Learning Engineer      1\n",
       "Applied Machine Learning Scientist     1\n",
       "Autonomous Vehicle Technician          1\n",
       "BI Analyst                             1\n",
       "Data Analytics Consultant              1\n",
       "Data Analytics Engineer                1\n",
       "Data DevOps Engineer                   1\n",
       "Data Science Lead                      1\n",
       "Director of Data Science               1\n",
       "Head of Data                           1\n",
       "Head of Data Science                   1\n",
       "Machine Learning Researcher            1\n",
       "Machine Learning Software Engineer     1\n",
       "Marketing Data Analyst                 1\n",
       "Principal Data Analyst                 1\n",
       "Principal Data Scientist               1\n",
       "Product Data Analyst                   1\n",
       "Name: job_title, dtype: int64"
      ]
     },
     "execution_count": 17,
     "metadata": {},
     "output_type": "execute_result"
    }
   ],
   "source": [
    "size_diversity.loc['S']"
   ]
  },
  {
   "cell_type": "code",
   "execution_count": 19,
   "metadata": {},
   "outputs": [
    {
     "data": {
      "text/plain": [
       "array([2023, 2022, 2020, 2021], dtype=int64)"
      ]
     },
     "execution_count": 19,
     "metadata": {},
     "output_type": "execute_result"
    }
   ],
   "source": [
    "\n",
    "df.work_year.unique()"
   ]
  },
  {
   "cell_type": "code",
   "execution_count": 20,
   "metadata": {},
   "outputs": [
    {
     "data": {
      "text/plain": [
       "work_year\n",
       "2020      76\n",
       "2021     230\n",
       "2022    1664\n",
       "2023    1785\n",
       "Name: job_title, dtype: int64"
      ]
     },
     "execution_count": 20,
     "metadata": {},
     "output_type": "execute_result"
    }
   ],
   "source": [
    "yr_comp = df.groupby('work_year')['job_title'].count()\n",
    "yr_comp"
   ]
  },
  {
   "cell_type": "code",
   "execution_count": 21,
   "metadata": {},
   "outputs": [
    {
     "data": {
      "image/png": "[encoded data removed]",
      "text/plain": [
       "<Figure size 864x432 with 1 Axes>"
      ]
     },
     "metadata": {},
     "output_type": "display_data"
    }
   ],
   "source": [
    "plt.figure(figsize = (12,6))\n",
    "plt.plot(yr_comp.index,\n",
    "         yr_comp.values)\n",
    "plt.show()"
   ]
  },
  {
   "cell_type": "code",
   "execution_count": 22,
   "metadata": {},
   "outputs": [
    {
     "data": {
      "text/plain": [
       "work_year\n",
       "2020      7015000\n",
       "2021     21640058\n",
       "2022    221875465\n",
       "2023    266046291\n",
       "Name: salary_in_usd, dtype: int64"
      ]
     },
     "execution_count": 22,
     "metadata": {},
     "output_type": "execute_result"
    }
   ],
   "source": [
    "yr_sal_comp = df.groupby('work_year')['salary_in_usd'].sum()\n",
    "yr_sal_comp"
   ]
  },
  {
   "cell_type": "code",
   "execution_count": 23,
   "metadata": {},
   "outputs": [
    {
     "data": {
      "image/png": "[encoded data removed]",
      "text/plain": [
       "<Figure size 864x432 with 1 Axes>"
      ]
     },
     "metadata": {},
     "output_type": "display_data"
    }
   ],
   "source": [
    "plt.figure(figsize = (12,6))\n",
    "plt.bar(x = yr_sal_comp.index,\n",
    "        height = yr_sal_comp.values,\n",
    "        color = 'Grey')\n",
    "plt.yticks(ticks = plt.yticks()[0],\n",
    "           labels = plt.yticks()[0])\n",
    "plt.show()"
   ]
  },
  {
   "cell_type": "code",
   "execution_count": 24,
   "metadata": {},
   "outputs": [
    {
     "data": {
      "image/png": "[encoded data removed]",
      "text/plain": [
       "<Figure size 1440x576 with 2 Axes>"
      ]
     },
     "metadata": {},
     "output_type": "display_data"
    }
   ],
   "source": [
    "#remember to remove gridlines\n",
    "\n",
    "fig, ax = plt.subplots(figsize = (20,8))\n",
    "\n",
    "ax.bar(yr_sal_comp.index,\n",
    "       yr_sal_comp.values,\n",
    "       color = 'Grey')\n",
    "ax.set_yticks(ticks = plt.yticks()[0],\n",
    "           labels = plt.yticks()[0])\n",
    "ax.set_ylabel('total salary paid per year in usd', \n",
    "              weight = 'bold',\n",
    "              color = 'Grey')\n",
    "ax.tick_params(axis = 'y',\n",
    "               width = 2)\n",
    "ax1 = ax.twinx()\n",
    "ax1.plot(yr_comp.index,\n",
    "         yr_comp.values,\n",
    "         color = 'Midnightblue',\n",
    "         marker = 'D')\n",
    "ax1.set_ylabel('no of jobs', \n",
    "               weight = 'bold',\n",
    "               color = 'Midnightblue')\n",
    "ax1.tick_params(axis = 'y',\n",
    "                width = 2,\n",
    "                colors = 'Midnightblue')"
   ]
  },
  {
   "cell_type": "code",
   "execution_count": 44,
   "metadata": {},
   "outputs": [
    {
     "data": {
      "text/plain": [
       "company_location\n",
       "US    461538909\n",
       "GB     14945089\n",
       "CA     11476839\n",
       "DE      4944173\n",
       "ES      4441057\n",
       "FR      2248717\n",
       "IN      1751469\n",
       "AU      1120468\n",
       "NL      1023598\n",
       "MX       971511\n",
       "Name: salary_in_usd, dtype: int64"
      ]
     },
     "execution_count": 44,
     "metadata": {},
     "output_type": "execute_result"
    }
   ],
   "source": [
    "y = df.groupby('company_location')['salary_in_usd'].sum().sort_values(ascending = False)\n",
    "y.head(10)"
   ]
  },
  {
   "cell_type": "code",
   "execution_count": 46,
   "metadata": {},
   "outputs": [
    {
     "data": {
      "image/png": "[encoded data removed]",
      "text/plain": [
       "<Figure size 864x432 with 1 Axes>"
      ]
     },
     "metadata": {},
     "output_type": "display_data"
    }
   ],
   "source": [
    "plt.figure(figsize = (12,6))\n",
    "plt.bar(x = y.head(10).index,\n",
    "        height = y.head(10).values)\n",
    "plt.show()"
   ]
  },
  {
   "cell_type": "code",
   "execution_count": 50,
   "metadata": {},
   "outputs": [
    {
     "data": {
      "text/plain": [
       "SE    2516\n",
       "MI     805\n",
       "EN     320\n",
       "EX     114\n",
       "Name: experience_level, dtype: int64"
      ]
     },
     "execution_count": 50,
     "metadata": {},
     "output_type": "execute_result"
    }
   ],
   "source": [
    "exp_lvl = df.experience_level.value_counts()\n",
    "exp_lvl"
   ]
  },
  {
   "cell_type": "code",
   "execution_count": 53,
   "metadata": {},
   "outputs": [
    {
     "data": {
      "image/png": "[encoded data removed]",
      "text/plain": [
       "<Figure size 864x432 with 1 Axes>"
      ]
     },
     "metadata": {},
     "output_type": "display_data"
    }
   ],
   "source": [
    "plt.figure(figsize = (12,6))\n",
    "plt.bar(x = exp_lvl.index,\n",
    "        height = exp_lvl.values,\n",
    "        color = 'Grey')\n",
    "plt.xlabel('Experience level', weight = 'bold')\n",
    "plt.ylabel('Number of employees', weight =  'bold')\n",
    "plt.title('Difference in number of experienced roles', fontsize = 12, weight = 'bold')\n",
    "plt.show()"
   ]
  },
  {
   "cell_type": "code",
   "execution_count": 78,
   "metadata": {},
   "outputs": [
    {
     "data": {
      "text/plain": [
       "0       L\n",
       "1       S\n",
       "2       S\n",
       "3       M\n",
       "4       M\n",
       "       ..\n",
       "3750    L\n",
       "3751    L\n",
       "3752    S\n",
       "3753    L\n",
       "3754    L\n",
       "Name: company_size, Length: 3755, dtype: object"
      ]
     },
     "execution_count": 78,
     "metadata": {},
     "output_type": "execute_result"
    }
   ],
   "source": [
    "comp_size = df.company_size\n",
    "comp_size"
   ]
  },
  {
   "cell_type": "code",
   "execution_count": 82,
   "metadata": {},
   "outputs": [
    {
     "data": {
      "text/plain": [
       "<AxesSubplot:>"
      ]
     },
     "execution_count": 82,
     "metadata": {},
     "output_type": "execute_result"
    },
    {
     "data": {
      "image/png": "[encoded data removed]",
      "text/plain": [
       "<Figure size 864x432 with 1 Axes>"
      ]
     },
     "metadata": {},
     "output_type": "display_data"
    }
   ],
   "source": [
    "plt.figure(figsize=(12,6))\n",
    "sns.scatterplot(x= comp_size.values,\n",
    "                y = comp_size.index,\n",
    "                hue = df.experience_level)"
   ]
  },
  {
   "cell_type": "code",
   "execution_count": 47,
   "metadata": {},
   "outputs": [
    {
     "data": {
      "text/html": [
       "<div>\n",
       "<style scoped>\n",
       "    .dataframe tbody tr th:only-of-type {\n",
       "        vertical-align: middle;\n",
       "    }\n",
       "\n",
       "    .dataframe tbody tr th {\n",
       "        vertical-align: top;\n",
       "    }\n",
       "\n",
       "    .dataframe thead th {\n",
       "        text-align: right;\n",
       "    }\n",
       "</style>\n",
       "<table border=\"1\" class=\"dataframe\">\n",
       "  <thead>\n",
       "    <tr style=\"text-align: right;\">\n",
       "      <th></th>\n",
       "      <th>work_year</th>\n",
       "      <th>experience_level</th>\n",
       "      <th>employment_type</th>\n",
       "      <th>job_title</th>\n",
       "      <th>salary</th>\n",
       "      <th>salary_currency</th>\n",
       "      <th>salary_in_usd</th>\n",
       "      <th>employee_residence</th>\n",
       "      <th>remote_ratio</th>\n",
       "      <th>company_location</th>\n",
       "      <th>company_size</th>\n",
       "    </tr>\n",
       "  </thead>\n",
       "  <tbody>\n",
       "    <tr>\n",
       "      <th>0</th>\n",
       "      <td>2023</td>\n",
       "      <td>SE</td>\n",
       "      <td>FT</td>\n",
       "      <td>Principal Data Scientist</td>\n",
       "      <td>80000</td>\n",
       "      <td>EUR</td>\n",
       "      <td>85847</td>\n",
       "      <td>ES</td>\n",
       "      <td>100</td>\n",
       "      <td>ES</td>\n",
       "      <td>L</td>\n",
       "    </tr>\n",
       "    <tr>\n",
       "      <th>1</th>\n",
       "      <td>2023</td>\n",
       "      <td>MI</td>\n",
       "      <td>CT</td>\n",
       "      <td>ML Engineer</td>\n",
       "      <td>30000</td>\n",
       "      <td>USD</td>\n",
       "      <td>30000</td>\n",
       "      <td>US</td>\n",
       "      <td>100</td>\n",
       "      <td>US</td>\n",
       "      <td>S</td>\n",
       "    </tr>\n",
       "    <tr>\n",
       "      <th>2</th>\n",
       "      <td>2023</td>\n",
       "      <td>MI</td>\n",
       "      <td>CT</td>\n",
       "      <td>ML Engineer</td>\n",
       "      <td>25500</td>\n",
       "      <td>USD</td>\n",
       "      <td>25500</td>\n",
       "      <td>US</td>\n",
       "      <td>100</td>\n",
       "      <td>US</td>\n",
       "      <td>S</td>\n",
       "    </tr>\n",
       "    <tr>\n",
       "      <th>3</th>\n",
       "      <td>2023</td>\n",
       "      <td>SE</td>\n",
       "      <td>FT</td>\n",
       "      <td>Data Scientist</td>\n",
       "      <td>175000</td>\n",
       "      <td>USD</td>\n",
       "      <td>175000</td>\n",
       "      <td>CA</td>\n",
       "      <td>100</td>\n",
       "      <td>CA</td>\n",
       "      <td>M</td>\n",
       "    </tr>\n",
       "    <tr>\n",
       "      <th>4</th>\n",
       "      <td>2023</td>\n",
       "      <td>SE</td>\n",
       "      <td>FT</td>\n",
       "      <td>Data Scientist</td>\n",
       "      <td>120000</td>\n",
       "      <td>USD</td>\n",
       "      <td>120000</td>\n",
       "      <td>CA</td>\n",
       "      <td>100</td>\n",
       "      <td>CA</td>\n",
       "      <td>M</td>\n",
       "    </tr>\n",
       "    <tr>\n",
       "      <th>...</th>\n",
       "      <td>...</td>\n",
       "      <td>...</td>\n",
       "      <td>...</td>\n",
       "      <td>...</td>\n",
       "      <td>...</td>\n",
       "      <td>...</td>\n",
       "      <td>...</td>\n",
       "      <td>...</td>\n",
       "      <td>...</td>\n",
       "      <td>...</td>\n",
       "      <td>...</td>\n",
       "    </tr>\n",
       "    <tr>\n",
       "      <th>3750</th>\n",
       "      <td>2020</td>\n",
       "      <td>SE</td>\n",
       "      <td>FT</td>\n",
       "      <td>Data Scientist</td>\n",
       "      <td>412000</td>\n",
       "      <td>USD</td>\n",
       "      <td>412000</td>\n",
       "      <td>US</td>\n",
       "      <td>100</td>\n",
       "      <td>US</td>\n",
       "      <td>L</td>\n",
       "    </tr>\n",
       "    <tr>\n",
       "      <th>3751</th>\n",
       "      <td>2021</td>\n",
       "      <td>MI</td>\n",
       "      <td>FT</td>\n",
       "      <td>Principal Data Scientist</td>\n",
       "      <td>151000</td>\n",
       "      <td>USD</td>\n",
       "      <td>151000</td>\n",
       "      <td>US</td>\n",
       "      <td>100</td>\n",
       "      <td>US</td>\n",
       "      <td>L</td>\n",
       "    </tr>\n",
       "    <tr>\n",
       "      <th>3752</th>\n",
       "      <td>2020</td>\n",
       "      <td>EN</td>\n",
       "      <td>FT</td>\n",
       "      <td>Data Scientist</td>\n",
       "      <td>105000</td>\n",
       "      <td>USD</td>\n",
       "      <td>105000</td>\n",
       "      <td>US</td>\n",
       "      <td>100</td>\n",
       "      <td>US</td>\n",
       "      <td>S</td>\n",
       "    </tr>\n",
       "    <tr>\n",
       "      <th>3753</th>\n",
       "      <td>2020</td>\n",
       "      <td>EN</td>\n",
       "      <td>CT</td>\n",
       "      <td>Business Data Analyst</td>\n",
       "      <td>100000</td>\n",
       "      <td>USD</td>\n",
       "      <td>100000</td>\n",
       "      <td>US</td>\n",
       "      <td>100</td>\n",
       "      <td>US</td>\n",
       "      <td>L</td>\n",
       "    </tr>\n",
       "    <tr>\n",
       "      <th>3754</th>\n",
       "      <td>2021</td>\n",
       "      <td>SE</td>\n",
       "      <td>FT</td>\n",
       "      <td>Data Science Manager</td>\n",
       "      <td>7000000</td>\n",
       "      <td>INR</td>\n",
       "      <td>94665</td>\n",
       "      <td>IN</td>\n",
       "      <td>50</td>\n",
       "      <td>IN</td>\n",
       "      <td>L</td>\n",
       "    </tr>\n",
       "  </tbody>\n",
       "</table>\n",
       "<p>3755 rows × 11 columns</p>\n",
       "</div>"
      ],
      "text/plain": [
       "      work_year experience_level employment_type                 job_title  \\\n",
       "0          2023               SE              FT  Principal Data Scientist   \n",
       "1          2023               MI              CT               ML Engineer   \n",
       "2          2023               MI              CT               ML Engineer   \n",
       "3          2023               SE              FT            Data Scientist   \n",
       "4          2023               SE              FT            Data Scientist   \n",
       "...         ...              ...             ...                       ...   \n",
       "3750       2020               SE              FT            Data Scientist   \n",
       "3751       2021               MI              FT  Principal Data Scientist   \n",
       "3752       2020               EN              FT            Data Scientist   \n",
       "3753       2020               EN              CT     Business Data Analyst   \n",
       "3754       2021               SE              FT      Data Science Manager   \n",
       "\n",
       "       salary salary_currency  salary_in_usd employee_residence  remote_ratio  \\\n",
       "0       80000             EUR          85847                 ES           100   \n",
       "1       30000             USD          30000                 US           100   \n",
       "2       25500             USD          25500                 US           100   \n",
       "3      175000             USD         175000                 CA           100   \n",
       "4      120000             USD         120000                 CA           100   \n",
       "...       ...             ...            ...                ...           ...   \n",
       "3750   412000             USD         412000                 US           100   \n",
       "3751   151000             USD         151000                 US           100   \n",
       "3752   105000             USD         105000                 US           100   \n",
       "3753   100000             USD         100000                 US           100   \n",
       "3754  7000000             INR          94665                 IN            50   \n",
       "\n",
       "     company_location company_size  \n",
       "0                  ES            L  \n",
       "1                  US            S  \n",
       "2                  US            S  \n",
       "3                  CA            M  \n",
       "4                  CA            M  \n",
       "...               ...          ...  \n",
       "3750               US            L  \n",
       "3751               US            L  \n",
       "3752               US            S  \n",
       "3753               US            L  \n",
       "3754               IN            L  \n",
       "\n",
       "[3755 rows x 11 columns]"
      ]
     },
     "execution_count": 47,
     "metadata": {},
     "output_type": "execute_result"
    }
   ],
   "source": [
    "df"
   ]
  },
  {
   "cell_type": "code",
   "execution_count": 66,
   "metadata": {},
   "outputs": [
    {
     "data": {
      "text/html": [
       "<div>\n",
       "<style scoped>\n",
       "    .dataframe tbody tr th:only-of-type {\n",
       "        vertical-align: middle;\n",
       "    }\n",
       "\n",
       "    .dataframe tbody tr th {\n",
       "        vertical-align: top;\n",
       "    }\n",
       "\n",
       "    .dataframe thead th {\n",
       "        text-align: right;\n",
       "    }\n",
       "</style>\n",
       "<table border=\"1\" class=\"dataframe\">\n",
       "  <thead>\n",
       "    <tr style=\"text-align: right;\">\n",
       "      <th></th>\n",
       "      <th>work_year</th>\n",
       "      <th>experience_level</th>\n",
       "      <th>employment_type</th>\n",
       "      <th>job_title</th>\n",
       "      <th>salary</th>\n",
       "      <th>salary_currency</th>\n",
       "      <th>salary_in_usd</th>\n",
       "      <th>employee_residence</th>\n",
       "      <th>remote_ratio</th>\n",
       "      <th>company_location</th>\n",
       "    </tr>\n",
       "    <tr>\n",
       "      <th>company_size</th>\n",
       "      <th></th>\n",
       "      <th></th>\n",
       "      <th></th>\n",
       "      <th></th>\n",
       "      <th></th>\n",
       "      <th></th>\n",
       "      <th></th>\n",
       "      <th></th>\n",
       "      <th></th>\n",
       "      <th></th>\n",
       "    </tr>\n",
       "  </thead>\n",
       "  <tbody>\n",
       "    <tr>\n",
       "      <th>L</th>\n",
       "      <td>100</td>\n",
       "      <td>100</td>\n",
       "      <td>100</td>\n",
       "      <td>100</td>\n",
       "      <td>100</td>\n",
       "      <td>100</td>\n",
       "      <td>100</td>\n",
       "      <td>100</td>\n",
       "      <td>100</td>\n",
       "      <td>100</td>\n",
       "    </tr>\n",
       "    <tr>\n",
       "      <th>M</th>\n",
       "      <td>171</td>\n",
       "      <td>171</td>\n",
       "      <td>171</td>\n",
       "      <td>171</td>\n",
       "      <td>171</td>\n",
       "      <td>171</td>\n",
       "      <td>171</td>\n",
       "      <td>171</td>\n",
       "      <td>171</td>\n",
       "      <td>171</td>\n",
       "    </tr>\n",
       "    <tr>\n",
       "      <th>S</th>\n",
       "      <td>49</td>\n",
       "      <td>49</td>\n",
       "      <td>49</td>\n",
       "      <td>49</td>\n",
       "      <td>49</td>\n",
       "      <td>49</td>\n",
       "      <td>49</td>\n",
       "      <td>49</td>\n",
       "      <td>49</td>\n",
       "      <td>49</td>\n",
       "    </tr>\n",
       "  </tbody>\n",
       "</table>\n",
       "</div>"
      ],
      "text/plain": [
       "              work_year  experience_level  employment_type  job_title  salary  \\\n",
       "company_size                                                                    \n",
       "L                   100               100              100        100     100   \n",
       "M                   171               171              171        171     171   \n",
       "S                    49                49               49         49      49   \n",
       "\n",
       "              salary_currency  salary_in_usd  employee_residence  \\\n",
       "company_size                                                       \n",
       "L                         100            100                 100   \n",
       "M                         171            171                 171   \n",
       "S                          49             49                  49   \n",
       "\n",
       "              remote_ratio  company_location  \n",
       "company_size                                  \n",
       "L                      100               100  \n",
       "M                      171               171  \n",
       "S                       49                49  "
      ]
     },
     "execution_count": 66,
     "metadata": {},
     "output_type": "execute_result"
    }
   ],
   "source": [
    "EN2 = df[df.experience_level == 'EN'].groupby('company_size').count()\n",
    "EN2"
   ]
  },
  {
   "cell_type": "code",
   "execution_count": 69,
   "metadata": {},
   "outputs": [
    {
     "data": {
      "text/plain": [
       "company_size  experience_level\n",
       "L             SE                   207\n",
       "              MI                   134\n",
       "              EN                   100\n",
       "              EX                    13\n",
       "M             SE                  2266\n",
       "              MI                   621\n",
       "              EN                   171\n",
       "              EX                    95\n",
       "S             MI                    50\n",
       "              EN                    49\n",
       "              SE                    43\n",
       "              EX                     6\n",
       "Name: experience_level, dtype: int64"
      ]
     },
     "execution_count": 69,
     "metadata": {},
     "output_type": "execute_result"
    }
   ],
   "source": [
    "df.groupby('company_size')['experience_level'].value_counts()"
   ]
  },
  {
   "cell_type": "code",
   "execution_count": null,
   "metadata": {},
   "outputs": [],
   "source": []
  }
 ],
 "metadata": {
  "kernelspec": {
   "display_name": "base",
   "language": "python",
   "name": "python3"
  },
  "language_info": {
   "codemirror_mode": {
    "name": "ipython",
    "version": 3
   },
   "file_extension": ".py",
   "mimetype": "text/x-python",
   "name": "python",
   "nbconvert_exporter": "python",
   "pygments_lexer": "ipython3",
   "version": "3.9.12"
  },
  "orig_nbformat": 4
 },
 "nbformat": 4,
 "nbformat_minor": 2
}
