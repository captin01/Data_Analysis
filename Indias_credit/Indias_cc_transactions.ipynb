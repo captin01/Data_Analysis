{
 "cells": [
  {
   "attachments": {},
   "cell_type": "markdown",
   "metadata": {},
   "source": [
    "### Importing libraries"
   ]
  },
  {
   "cell_type": "code",
   "execution_count": 3,
   "metadata": {},
   "outputs": [],
   "source": [
    "import pandas as pd\n",
    "import matplotlib.pyplot as plt"
   ]
  },
  {
   "cell_type": "code",
   "execution_count": 4,
   "metadata": {},
   "outputs": [
    {
     "data": {
      "text/html": [
       "<div>\n",
       "<style scoped>\n",
       "    .dataframe tbody tr th:only-of-type {\n",
       "        vertical-align: middle;\n",
       "    }\n",
       "\n",
       "    .dataframe tbody tr th {\n",
       "        vertical-align: top;\n",
       "    }\n",
       "\n",
       "    .dataframe thead th {\n",
       "        text-align: right;\n",
       "    }\n",
       "</style>\n",
       "<table border=\"1\" class=\"dataframe\">\n",
       "  <thead>\n",
       "    <tr style=\"text-align: right;\">\n",
       "      <th></th>\n",
       "      <th>index</th>\n",
       "      <th>City</th>\n",
       "      <th>Date</th>\n",
       "      <th>Card Type</th>\n",
       "      <th>Exp Type</th>\n",
       "      <th>Gender</th>\n",
       "      <th>Amount</th>\n",
       "    </tr>\n",
       "  </thead>\n",
       "  <tbody>\n",
       "    <tr>\n",
       "      <th>0</th>\n",
       "      <td>0</td>\n",
       "      <td>Delhi, India</td>\n",
       "      <td>29-Oct-14</td>\n",
       "      <td>Gold</td>\n",
       "      <td>Bills</td>\n",
       "      <td>F</td>\n",
       "      <td>82475</td>\n",
       "    </tr>\n",
       "    <tr>\n",
       "      <th>1</th>\n",
       "      <td>1</td>\n",
       "      <td>Greater Mumbai, India</td>\n",
       "      <td>22-Aug-14</td>\n",
       "      <td>Platinum</td>\n",
       "      <td>Bills</td>\n",
       "      <td>F</td>\n",
       "      <td>32555</td>\n",
       "    </tr>\n",
       "    <tr>\n",
       "      <th>2</th>\n",
       "      <td>2</td>\n",
       "      <td>Bengaluru, India</td>\n",
       "      <td>27-Aug-14</td>\n",
       "      <td>Silver</td>\n",
       "      <td>Bills</td>\n",
       "      <td>F</td>\n",
       "      <td>101738</td>\n",
       "    </tr>\n",
       "    <tr>\n",
       "      <th>3</th>\n",
       "      <td>3</td>\n",
       "      <td>Greater Mumbai, India</td>\n",
       "      <td>12-Apr-14</td>\n",
       "      <td>Signature</td>\n",
       "      <td>Bills</td>\n",
       "      <td>F</td>\n",
       "      <td>123424</td>\n",
       "    </tr>\n",
       "    <tr>\n",
       "      <th>4</th>\n",
       "      <td>4</td>\n",
       "      <td>Bengaluru, India</td>\n",
       "      <td>5-May-15</td>\n",
       "      <td>Gold</td>\n",
       "      <td>Bills</td>\n",
       "      <td>F</td>\n",
       "      <td>171574</td>\n",
       "    </tr>\n",
       "    <tr>\n",
       "      <th>5</th>\n",
       "      <td>5</td>\n",
       "      <td>Delhi, India</td>\n",
       "      <td>8-Sep-14</td>\n",
       "      <td>Silver</td>\n",
       "      <td>Bills</td>\n",
       "      <td>F</td>\n",
       "      <td>100036</td>\n",
       "    </tr>\n",
       "    <tr>\n",
       "      <th>6</th>\n",
       "      <td>6</td>\n",
       "      <td>Delhi, India</td>\n",
       "      <td>24-Feb-15</td>\n",
       "      <td>Gold</td>\n",
       "      <td>Bills</td>\n",
       "      <td>F</td>\n",
       "      <td>143250</td>\n",
       "    </tr>\n",
       "    <tr>\n",
       "      <th>7</th>\n",
       "      <td>7</td>\n",
       "      <td>Greater Mumbai, India</td>\n",
       "      <td>26-Jun-14</td>\n",
       "      <td>Platinum</td>\n",
       "      <td>Bills</td>\n",
       "      <td>F</td>\n",
       "      <td>150980</td>\n",
       "    </tr>\n",
       "    <tr>\n",
       "      <th>8</th>\n",
       "      <td>8</td>\n",
       "      <td>Delhi, India</td>\n",
       "      <td>28-Mar-14</td>\n",
       "      <td>Silver</td>\n",
       "      <td>Bills</td>\n",
       "      <td>F</td>\n",
       "      <td>192247</td>\n",
       "    </tr>\n",
       "    <tr>\n",
       "      <th>9</th>\n",
       "      <td>9</td>\n",
       "      <td>Delhi, India</td>\n",
       "      <td>1-Sep-14</td>\n",
       "      <td>Platinum</td>\n",
       "      <td>Bills</td>\n",
       "      <td>F</td>\n",
       "      <td>67932</td>\n",
       "    </tr>\n",
       "  </tbody>\n",
       "</table>\n",
       "</div>"
      ],
      "text/plain": [
       "   index                   City       Date  Card Type Exp Type Gender  Amount\n",
       "0      0           Delhi, India  29-Oct-14       Gold    Bills      F   82475\n",
       "1      1  Greater Mumbai, India  22-Aug-14   Platinum    Bills      F   32555\n",
       "2      2       Bengaluru, India  27-Aug-14     Silver    Bills      F  101738\n",
       "3      3  Greater Mumbai, India  12-Apr-14  Signature    Bills      F  123424\n",
       "4      4       Bengaluru, India   5-May-15       Gold    Bills      F  171574\n",
       "5      5           Delhi, India   8-Sep-14     Silver    Bills      F  100036\n",
       "6      6           Delhi, India  24-Feb-15       Gold    Bills      F  143250\n",
       "7      7  Greater Mumbai, India  26-Jun-14   Platinum    Bills      F  150980\n",
       "8      8           Delhi, India  28-Mar-14     Silver    Bills      F  192247\n",
       "9      9           Delhi, India   1-Sep-14   Platinum    Bills      F   67932"
      ]
     },
     "execution_count": 4,
     "metadata": {},
     "output_type": "execute_result"
    }
   ],
   "source": [
    "india_cc = pd.read_csv(\"Credit card transactions - India - Simple.csv\")\n",
    "india_cc.head(10)"
   ]
  },
  {
   "cell_type": "code",
   "execution_count": 5,
   "metadata": {},
   "outputs": [
    {
     "data": {
      "text/plain": [
       "(26052, 7)"
      ]
     },
     "execution_count": 5,
     "metadata": {},
     "output_type": "execute_result"
    }
   ],
   "source": [
    "india_cc.shape"
   ]
  },
  {
   "cell_type": "code",
   "execution_count": 6,
   "metadata": {},
   "outputs": [
    {
     "name": "stdout",
     "output_type": "stream",
     "text": [
      "       Amount  Amount_usd\n",
      "0       82475         990\n",
      "1       32555         391\n",
      "2      101738        1221\n",
      "3      123424        1481\n",
      "4      171574        2059\n",
      "...       ...         ...\n",
      "26047  128191        1538\n",
      "26048  246316        2956\n",
      "26049  265019        3180\n",
      "26050   88174        1058\n",
      "26051  184410        2213\n",
      "\n",
      "[26052 rows x 2 columns]\n"
     ]
    }
   ],
   "source": [
    "#Converting the amount to USD using the current exchange rate of (0.012)\n",
    "\n",
    "exchange_rate = 0.012  \n",
    "india_cc['Amount_usd'] = (india_cc['Amount'] * exchange_rate).round().astype('Int64')\n",
    "\n",
    "print(india_cc[['Amount', 'Amount_usd']])"
   ]
  },
  {
   "cell_type": "code",
   "execution_count": 7,
   "metadata": {},
   "outputs": [
    {
     "data": {
      "text/html": [
       "<div>\n",
       "<style scoped>\n",
       "    .dataframe tbody tr th:only-of-type {\n",
       "        vertical-align: middle;\n",
       "    }\n",
       "\n",
       "    .dataframe tbody tr th {\n",
       "        vertical-align: top;\n",
       "    }\n",
       "\n",
       "    .dataframe thead th {\n",
       "        text-align: right;\n",
       "    }\n",
       "</style>\n",
       "<table border=\"1\" class=\"dataframe\">\n",
       "  <thead>\n",
       "    <tr style=\"text-align: right;\">\n",
       "      <th></th>\n",
       "      <th>index</th>\n",
       "      <th>City</th>\n",
       "      <th>Date</th>\n",
       "      <th>Card Type</th>\n",
       "      <th>Exp Type</th>\n",
       "      <th>Gender</th>\n",
       "      <th>Amount</th>\n",
       "      <th>Amount_usd</th>\n",
       "    </tr>\n",
       "  </thead>\n",
       "  <tbody>\n",
       "    <tr>\n",
       "      <th>0</th>\n",
       "      <td>0</td>\n",
       "      <td>Delhi, India</td>\n",
       "      <td>29-Oct-14</td>\n",
       "      <td>Gold</td>\n",
       "      <td>Bills</td>\n",
       "      <td>F</td>\n",
       "      <td>82475</td>\n",
       "      <td>990</td>\n",
       "    </tr>\n",
       "    <tr>\n",
       "      <th>1</th>\n",
       "      <td>1</td>\n",
       "      <td>Greater Mumbai, India</td>\n",
       "      <td>22-Aug-14</td>\n",
       "      <td>Platinum</td>\n",
       "      <td>Bills</td>\n",
       "      <td>F</td>\n",
       "      <td>32555</td>\n",
       "      <td>391</td>\n",
       "    </tr>\n",
       "    <tr>\n",
       "      <th>2</th>\n",
       "      <td>2</td>\n",
       "      <td>Bengaluru, India</td>\n",
       "      <td>27-Aug-14</td>\n",
       "      <td>Silver</td>\n",
       "      <td>Bills</td>\n",
       "      <td>F</td>\n",
       "      <td>101738</td>\n",
       "      <td>1221</td>\n",
       "    </tr>\n",
       "    <tr>\n",
       "      <th>3</th>\n",
       "      <td>3</td>\n",
       "      <td>Greater Mumbai, India</td>\n",
       "      <td>12-Apr-14</td>\n",
       "      <td>Signature</td>\n",
       "      <td>Bills</td>\n",
       "      <td>F</td>\n",
       "      <td>123424</td>\n",
       "      <td>1481</td>\n",
       "    </tr>\n",
       "    <tr>\n",
       "      <th>4</th>\n",
       "      <td>4</td>\n",
       "      <td>Bengaluru, India</td>\n",
       "      <td>5-May-15</td>\n",
       "      <td>Gold</td>\n",
       "      <td>Bills</td>\n",
       "      <td>F</td>\n",
       "      <td>171574</td>\n",
       "      <td>2059</td>\n",
       "    </tr>\n",
       "    <tr>\n",
       "      <th>5</th>\n",
       "      <td>5</td>\n",
       "      <td>Delhi, India</td>\n",
       "      <td>8-Sep-14</td>\n",
       "      <td>Silver</td>\n",
       "      <td>Bills</td>\n",
       "      <td>F</td>\n",
       "      <td>100036</td>\n",
       "      <td>1200</td>\n",
       "    </tr>\n",
       "    <tr>\n",
       "      <th>6</th>\n",
       "      <td>6</td>\n",
       "      <td>Delhi, India</td>\n",
       "      <td>24-Feb-15</td>\n",
       "      <td>Gold</td>\n",
       "      <td>Bills</td>\n",
       "      <td>F</td>\n",
       "      <td>143250</td>\n",
       "      <td>1719</td>\n",
       "    </tr>\n",
       "    <tr>\n",
       "      <th>7</th>\n",
       "      <td>7</td>\n",
       "      <td>Greater Mumbai, India</td>\n",
       "      <td>26-Jun-14</td>\n",
       "      <td>Platinum</td>\n",
       "      <td>Bills</td>\n",
       "      <td>F</td>\n",
       "      <td>150980</td>\n",
       "      <td>1812</td>\n",
       "    </tr>\n",
       "    <tr>\n",
       "      <th>8</th>\n",
       "      <td>8</td>\n",
       "      <td>Delhi, India</td>\n",
       "      <td>28-Mar-14</td>\n",
       "      <td>Silver</td>\n",
       "      <td>Bills</td>\n",
       "      <td>F</td>\n",
       "      <td>192247</td>\n",
       "      <td>2307</td>\n",
       "    </tr>\n",
       "    <tr>\n",
       "      <th>9</th>\n",
       "      <td>9</td>\n",
       "      <td>Delhi, India</td>\n",
       "      <td>1-Sep-14</td>\n",
       "      <td>Platinum</td>\n",
       "      <td>Bills</td>\n",
       "      <td>F</td>\n",
       "      <td>67932</td>\n",
       "      <td>815</td>\n",
       "    </tr>\n",
       "  </tbody>\n",
       "</table>\n",
       "</div>"
      ],
      "text/plain": [
       "   index                   City       Date  Card Type Exp Type Gender  Amount  \\\n",
       "0      0           Delhi, India  29-Oct-14       Gold    Bills      F   82475   \n",
       "1      1  Greater Mumbai, India  22-Aug-14   Platinum    Bills      F   32555   \n",
       "2      2       Bengaluru, India  27-Aug-14     Silver    Bills      F  101738   \n",
       "3      3  Greater Mumbai, India  12-Apr-14  Signature    Bills      F  123424   \n",
       "4      4       Bengaluru, India   5-May-15       Gold    Bills      F  171574   \n",
       "5      5           Delhi, India   8-Sep-14     Silver    Bills      F  100036   \n",
       "6      6           Delhi, India  24-Feb-15       Gold    Bills      F  143250   \n",
       "7      7  Greater Mumbai, India  26-Jun-14   Platinum    Bills      F  150980   \n",
       "8      8           Delhi, India  28-Mar-14     Silver    Bills      F  192247   \n",
       "9      9           Delhi, India   1-Sep-14   Platinum    Bills      F   67932   \n",
       "\n",
       "   Amount_usd  \n",
       "0         990  \n",
       "1         391  \n",
       "2        1221  \n",
       "3        1481  \n",
       "4        2059  \n",
       "5        1200  \n",
       "6        1719  \n",
       "7        1812  \n",
       "8        2307  \n",
       "9         815  "
      ]
     },
     "execution_count": 7,
     "metadata": {},
     "output_type": "execute_result"
    }
   ],
   "source": [
    "india_cc.head(10)\n"
   ]
  },
  {
   "attachments": {},
   "cell_type": "markdown",
   "metadata": {},
   "source": [
    "- checking for missing data"
   ]
  },
  {
   "cell_type": "code",
   "execution_count": 8,
   "metadata": {},
   "outputs": [
    {
     "data": {
      "text/plain": [
       "index         0\n",
       "City          0\n",
       "Date          0\n",
       "Card Type     0\n",
       "Exp Type      0\n",
       "Gender        0\n",
       "Amount        0\n",
       "Amount_usd    0\n",
       "dtype: int64"
      ]
     },
     "execution_count": 8,
     "metadata": {},
     "output_type": "execute_result"
    }
   ],
   "source": [
    "india_cc.isnull().sum()"
   ]
  },
  {
   "attachments": {},
   "cell_type": "markdown",
   "metadata": {},
   "source": [
    "- confirming column dtypes"
   ]
  },
  {
   "cell_type": "code",
   "execution_count": 9,
   "metadata": {},
   "outputs": [
    {
     "data": {
      "text/plain": [
       "index          int64\n",
       "City          object\n",
       "Date          object\n",
       "Card Type     object\n",
       "Exp Type      object\n",
       "Gender        object\n",
       "Amount         int64\n",
       "Amount_usd     Int64\n",
       "dtype: object"
      ]
     },
     "execution_count": 9,
     "metadata": {},
     "output_type": "execute_result"
    }
   ],
   "source": [
    "india_cc.dtypes"
   ]
  },
  {
   "attachments": {},
   "cell_type": "markdown",
   "metadata": {},
   "source": [
    "- converting Date column to datetime type"
   ]
  },
  {
   "cell_type": "code",
   "execution_count": 10,
   "metadata": {},
   "outputs": [
    {
     "data": {
      "text/plain": [
       "index                  int64\n",
       "City                  object\n",
       "Date          datetime64[ns]\n",
       "Card Type             object\n",
       "Exp Type              object\n",
       "Gender                object\n",
       "Amount                 int64\n",
       "Amount_usd             Int64\n",
       "dtype: object"
      ]
     },
     "execution_count": 10,
     "metadata": {},
     "output_type": "execute_result"
    }
   ],
   "source": [
    "india_cc['Date'] = pd.to_datetime(india_cc['Date'])\n",
    "india_cc.dtypes"
   ]
  },
  {
   "attachments": {},
   "cell_type": "markdown",
   "metadata": {},
   "source": [
    "- Adding a month and year column "
   ]
  },
  {
   "cell_type": "code",
   "execution_count": 11,
   "metadata": {},
   "outputs": [],
   "source": [
    "#month \n",
    "india_cc.insert( 3,'Month', india_cc.Date.dt.month)"
   ]
  },
  {
   "cell_type": "code",
   "execution_count": 12,
   "metadata": {},
   "outputs": [],
   "source": [
    "#Year\n",
    "india_cc.insert( 4,'Year', india_cc.Date.dt.year)"
   ]
  },
  {
   "cell_type": "code",
   "execution_count": 13,
   "metadata": {},
   "outputs": [
    {
     "data": {
      "text/html": [
       "<div>\n",
       "<style scoped>\n",
       "    .dataframe tbody tr th:only-of-type {\n",
       "        vertical-align: middle;\n",
       "    }\n",
       "\n",
       "    .dataframe tbody tr th {\n",
       "        vertical-align: top;\n",
       "    }\n",
       "\n",
       "    .dataframe thead th {\n",
       "        text-align: right;\n",
       "    }\n",
       "</style>\n",
       "<table border=\"1\" class=\"dataframe\">\n",
       "  <thead>\n",
       "    <tr style=\"text-align: right;\">\n",
       "      <th></th>\n",
       "      <th>index</th>\n",
       "      <th>City</th>\n",
       "      <th>Date</th>\n",
       "      <th>Month</th>\n",
       "      <th>Year</th>\n",
       "      <th>Card Type</th>\n",
       "      <th>Exp Type</th>\n",
       "      <th>Gender</th>\n",
       "      <th>Amount</th>\n",
       "      <th>Amount_usd</th>\n",
       "    </tr>\n",
       "  </thead>\n",
       "  <tbody>\n",
       "    <tr>\n",
       "      <th>0</th>\n",
       "      <td>0</td>\n",
       "      <td>Delhi, India</td>\n",
       "      <td>2014-10-29</td>\n",
       "      <td>10</td>\n",
       "      <td>2014</td>\n",
       "      <td>Gold</td>\n",
       "      <td>Bills</td>\n",
       "      <td>F</td>\n",
       "      <td>82475</td>\n",
       "      <td>990</td>\n",
       "    </tr>\n",
       "    <tr>\n",
       "      <th>1</th>\n",
       "      <td>1</td>\n",
       "      <td>Greater Mumbai, India</td>\n",
       "      <td>2014-08-22</td>\n",
       "      <td>8</td>\n",
       "      <td>2014</td>\n",
       "      <td>Platinum</td>\n",
       "      <td>Bills</td>\n",
       "      <td>F</td>\n",
       "      <td>32555</td>\n",
       "      <td>391</td>\n",
       "    </tr>\n",
       "    <tr>\n",
       "      <th>2</th>\n",
       "      <td>2</td>\n",
       "      <td>Bengaluru, India</td>\n",
       "      <td>2014-08-27</td>\n",
       "      <td>8</td>\n",
       "      <td>2014</td>\n",
       "      <td>Silver</td>\n",
       "      <td>Bills</td>\n",
       "      <td>F</td>\n",
       "      <td>101738</td>\n",
       "      <td>1221</td>\n",
       "    </tr>\n",
       "    <tr>\n",
       "      <th>3</th>\n",
       "      <td>3</td>\n",
       "      <td>Greater Mumbai, India</td>\n",
       "      <td>2014-04-12</td>\n",
       "      <td>4</td>\n",
       "      <td>2014</td>\n",
       "      <td>Signature</td>\n",
       "      <td>Bills</td>\n",
       "      <td>F</td>\n",
       "      <td>123424</td>\n",
       "      <td>1481</td>\n",
       "    </tr>\n",
       "    <tr>\n",
       "      <th>4</th>\n",
       "      <td>4</td>\n",
       "      <td>Bengaluru, India</td>\n",
       "      <td>2015-05-05</td>\n",
       "      <td>5</td>\n",
       "      <td>2015</td>\n",
       "      <td>Gold</td>\n",
       "      <td>Bills</td>\n",
       "      <td>F</td>\n",
       "      <td>171574</td>\n",
       "      <td>2059</td>\n",
       "    </tr>\n",
       "  </tbody>\n",
       "</table>\n",
       "</div>"
      ],
      "text/plain": [
       "   index                   City       Date  Month  Year  Card Type Exp Type  \\\n",
       "0      0           Delhi, India 2014-10-29     10  2014       Gold    Bills   \n",
       "1      1  Greater Mumbai, India 2014-08-22      8  2014   Platinum    Bills   \n",
       "2      2       Bengaluru, India 2014-08-27      8  2014     Silver    Bills   \n",
       "3      3  Greater Mumbai, India 2014-04-12      4  2014  Signature    Bills   \n",
       "4      4       Bengaluru, India 2015-05-05      5  2015       Gold    Bills   \n",
       "\n",
       "  Gender  Amount  Amount_usd  \n",
       "0      F   82475         990  \n",
       "1      F   32555         391  \n",
       "2      F  101738        1221  \n",
       "3      F  123424        1481  \n",
       "4      F  171574        2059  "
      ]
     },
     "execution_count": 13,
     "metadata": {},
     "output_type": "execute_result"
    }
   ],
   "source": [
    "india_cc.head(5)"
   ]
  },
  {
   "attachments": {},
   "cell_type": "markdown",
   "metadata": {},
   "source": [
    "- removing excess texts from the City column"
   ]
  },
  {
   "cell_type": "code",
   "execution_count": 14,
   "metadata": {},
   "outputs": [
    {
     "data": {
      "text/plain": [
       "0             Delhi\n",
       "1    Greater Mumbai\n",
       "2         Bengaluru\n",
       "3    Greater Mumbai\n",
       "4         Bengaluru\n",
       "5             Delhi\n",
       "6             Delhi\n",
       "7    Greater Mumbai\n",
       "8             Delhi\n",
       "9             Delhi\n",
       "Name: City, dtype: object"
      ]
     },
     "execution_count": 14,
     "metadata": {},
     "output_type": "execute_result"
    }
   ],
   "source": [
    "india_cc['City'] = india_cc['City'].str.replace(', India', '')\n",
    "india_cc['City'].head(10)"
   ]
  },
  {
   "cell_type": "code",
   "execution_count": 15,
   "metadata": {},
   "outputs": [
    {
     "data": {
      "text/html": [
       "<div>\n",
       "<style scoped>\n",
       "    .dataframe tbody tr th:only-of-type {\n",
       "        vertical-align: middle;\n",
       "    }\n",
       "\n",
       "    .dataframe tbody tr th {\n",
       "        vertical-align: top;\n",
       "    }\n",
       "\n",
       "    .dataframe thead th {\n",
       "        text-align: right;\n",
       "    }\n",
       "</style>\n",
       "<table border=\"1\" class=\"dataframe\">\n",
       "  <thead>\n",
       "    <tr style=\"text-align: right;\">\n",
       "      <th></th>\n",
       "      <th>index</th>\n",
       "      <th>City</th>\n",
       "      <th>Date</th>\n",
       "      <th>Month</th>\n",
       "      <th>Year</th>\n",
       "      <th>Card Type</th>\n",
       "      <th>Exp Type</th>\n",
       "      <th>Gender</th>\n",
       "      <th>Amount</th>\n",
       "      <th>Amount_usd</th>\n",
       "    </tr>\n",
       "  </thead>\n",
       "  <tbody>\n",
       "    <tr>\n",
       "      <th>80</th>\n",
       "      <td>80</td>\n",
       "      <td>Greater Mumbai</td>\n",
       "      <td>2014-10-14</td>\n",
       "      <td>10</td>\n",
       "      <td>2014</td>\n",
       "      <td>Platinum</td>\n",
       "      <td>Bills</td>\n",
       "      <td>F</td>\n",
       "      <td>998077</td>\n",
       "      <td>11977</td>\n",
       "    </tr>\n",
       "    <tr>\n",
       "      <th>134</th>\n",
       "      <td>134</td>\n",
       "      <td>Delhi</td>\n",
       "      <td>2013-10-27</td>\n",
       "      <td>10</td>\n",
       "      <td>2013</td>\n",
       "      <td>Gold</td>\n",
       "      <td>Bills</td>\n",
       "      <td>F</td>\n",
       "      <td>996754</td>\n",
       "      <td>11961</td>\n",
       "    </tr>\n",
       "    <tr>\n",
       "      <th>254</th>\n",
       "      <td>254</td>\n",
       "      <td>Ahmedabad</td>\n",
       "      <td>2015-04-17</td>\n",
       "      <td>4</td>\n",
       "      <td>2015</td>\n",
       "      <td>Gold</td>\n",
       "      <td>Bills</td>\n",
       "      <td>F</td>\n",
       "      <td>996291</td>\n",
       "      <td>11955</td>\n",
       "    </tr>\n",
       "    <tr>\n",
       "      <th>183</th>\n",
       "      <td>183</td>\n",
       "      <td>Ahmedabad</td>\n",
       "      <td>2014-08-27</td>\n",
       "      <td>8</td>\n",
       "      <td>2014</td>\n",
       "      <td>Platinum</td>\n",
       "      <td>Bills</td>\n",
       "      <td>F</td>\n",
       "      <td>995634</td>\n",
       "      <td>11948</td>\n",
       "    </tr>\n",
       "    <tr>\n",
       "      <th>330</th>\n",
       "      <td>330</td>\n",
       "      <td>Delhi</td>\n",
       "      <td>2014-06-07</td>\n",
       "      <td>6</td>\n",
       "      <td>2014</td>\n",
       "      <td>Signature</td>\n",
       "      <td>Bills</td>\n",
       "      <td>F</td>\n",
       "      <td>994537</td>\n",
       "      <td>11934</td>\n",
       "    </tr>\n",
       "    <tr>\n",
       "      <th>343</th>\n",
       "      <td>343</td>\n",
       "      <td>Greater Mumbai</td>\n",
       "      <td>2014-09-06</td>\n",
       "      <td>9</td>\n",
       "      <td>2014</td>\n",
       "      <td>Signature</td>\n",
       "      <td>Bills</td>\n",
       "      <td>F</td>\n",
       "      <td>994184</td>\n",
       "      <td>11930</td>\n",
       "    </tr>\n",
       "    <tr>\n",
       "      <th>68</th>\n",
       "      <td>68</td>\n",
       "      <td>Greater Mumbai</td>\n",
       "      <td>2014-03-22</td>\n",
       "      <td>3</td>\n",
       "      <td>2014</td>\n",
       "      <td>Gold</td>\n",
       "      <td>Bills</td>\n",
       "      <td>F</td>\n",
       "      <td>991685</td>\n",
       "      <td>11900</td>\n",
       "    </tr>\n",
       "    <tr>\n",
       "      <th>141</th>\n",
       "      <td>141</td>\n",
       "      <td>Greater Mumbai</td>\n",
       "      <td>2013-10-04</td>\n",
       "      <td>10</td>\n",
       "      <td>2013</td>\n",
       "      <td>Gold</td>\n",
       "      <td>Bills</td>\n",
       "      <td>F</td>\n",
       "      <td>990700</td>\n",
       "      <td>11888</td>\n",
       "    </tr>\n",
       "    <tr>\n",
       "      <th>28</th>\n",
       "      <td>28</td>\n",
       "      <td>Bengaluru</td>\n",
       "      <td>2015-01-18</td>\n",
       "      <td>1</td>\n",
       "      <td>2015</td>\n",
       "      <td>Platinum</td>\n",
       "      <td>Bills</td>\n",
       "      <td>F</td>\n",
       "      <td>987935</td>\n",
       "      <td>11855</td>\n",
       "    </tr>\n",
       "    <tr>\n",
       "      <th>17</th>\n",
       "      <td>17</td>\n",
       "      <td>Greater Mumbai</td>\n",
       "      <td>2015-03-30</td>\n",
       "      <td>3</td>\n",
       "      <td>2015</td>\n",
       "      <td>Gold</td>\n",
       "      <td>Bills</td>\n",
       "      <td>F</td>\n",
       "      <td>986379</td>\n",
       "      <td>11837</td>\n",
       "    </tr>\n",
       "  </tbody>\n",
       "</table>\n",
       "</div>"
      ],
      "text/plain": [
       "     index            City       Date  Month  Year  Card Type Exp Type Gender  \\\n",
       "80      80  Greater Mumbai 2014-10-14     10  2014   Platinum    Bills      F   \n",
       "134    134           Delhi 2013-10-27     10  2013       Gold    Bills      F   \n",
       "254    254       Ahmedabad 2015-04-17      4  2015       Gold    Bills      F   \n",
       "183    183       Ahmedabad 2014-08-27      8  2014   Platinum    Bills      F   \n",
       "330    330           Delhi 2014-06-07      6  2014  Signature    Bills      F   \n",
       "343    343  Greater Mumbai 2014-09-06      9  2014  Signature    Bills      F   \n",
       "68      68  Greater Mumbai 2014-03-22      3  2014       Gold    Bills      F   \n",
       "141    141  Greater Mumbai 2013-10-04     10  2013       Gold    Bills      F   \n",
       "28      28       Bengaluru 2015-01-18      1  2015   Platinum    Bills      F   \n",
       "17      17  Greater Mumbai 2015-03-30      3  2015       Gold    Bills      F   \n",
       "\n",
       "     Amount  Amount_usd  \n",
       "80   998077       11977  \n",
       "134  996754       11961  \n",
       "254  996291       11955  \n",
       "183  995634       11948  \n",
       "330  994537       11934  \n",
       "343  994184       11930  \n",
       "68   991685       11900  \n",
       "141  990700       11888  \n",
       "28   987935       11855  \n",
       "17   986379       11837  "
      ]
     },
     "execution_count": 15,
     "metadata": {},
     "output_type": "execute_result"
    }
   ],
   "source": [
    "india_cc.sort_values('Amount', ascending= False).head(10)"
   ]
  },
  {
   "attachments": {},
   "cell_type": "markdown",
   "metadata": {},
   "source": [
    "-  Gender with the highest total amount ?"
   ]
  },
  {
   "cell_type": "code",
   "execution_count": 16,
   "metadata": {},
   "outputs": [
    {
     "data": {
      "text/plain": [
       "Gender\n",
       "F    13680\n",
       "M    12372\n",
       "Name: index, dtype: int64"
      ]
     },
     "execution_count": 16,
     "metadata": {},
     "output_type": "execute_result"
    }
   ],
   "source": [
    "#Checking the number of female users compared to male users\n",
    "india_cc.groupby('Gender')['index'].count()"
   ]
  },
  {
   "cell_type": "code",
   "execution_count": 17,
   "metadata": {},
   "outputs": [
    {
     "data": {
      "text/plain": [
       "Gender\n",
       "F    26463720\n",
       "M    22434300\n",
       "Name: Amount_usd, dtype: Int64"
      ]
     },
     "execution_count": 17,
     "metadata": {},
     "output_type": "execute_result"
    }
   ],
   "source": [
    "amount_by_gender = india_cc.groupby('Gender')['Amount_usd'].sum()\n",
    "amount_by_gender"
   ]
  },
  {
   "cell_type": "code",
   "execution_count": 18,
   "metadata": {},
   "outputs": [
    {
     "data": {
      "image/png": "[encoded data removed]",
      "text/plain": [
       "<Figure size 648x648 with 1 Axes>"
      ]
     },
     "metadata": {
      "needs_background": "light"
     },
     "output_type": "display_data"
    }
   ],
   "source": [
    "plt.figure(figsize= (9,9))\n",
    "plt.bar( x= amount_by_gender.index,\n",
    "        height= amount_by_gender.values ,\n",
    "        color ='Grey')\n",
    "plt.xlabel('gender')\n",
    "plt.ylabel('amount in usd (Million)')\n",
    "plt.yticks(ticks=plt.yticks()[0], labels=plt.yticks()[0].astype(int))\n",
    "plt.title('Overral amount by gender', fontsize = 12, fontweight = 'bold' )\n",
    "plt.show()"
   ]
  },
  {
   "attachments": {},
   "cell_type": "markdown",
   "metadata": {},
   "source": [
    "- Which Date, Month and  Year had the highest and lowest total amount ?"
   ]
  },
  {
   "cell_type": "code",
   "execution_count": 19,
   "metadata": {},
   "outputs": [
    {
     "data": {
      "text/plain": [
       "Date\n",
       "2014-10-07    135393\n",
       "2014-09-20    127535\n",
       "2014-08-11    126972\n",
       "2015-01-12    125982\n",
       "2013-10-13    125279\n",
       "               ...  \n",
       "2014-05-09     47191\n",
       "2014-07-17     47115\n",
       "2014-12-19     46718\n",
       "2014-08-29     44455\n",
       "2014-01-18     40902\n",
       "Name: Amount_usd, Length: 600, dtype: Int64"
      ]
     },
     "execution_count": 19,
     "metadata": {},
     "output_type": "execute_result"
    }
   ],
   "source": [
    "#Getting total amount of each day\n",
    "amount_by_date = india_cc.groupby('Date')['Amount_usd'].sum()\n",
    "amount_by_date.sort_values(ascending= False)"
   ]
  },
  {
   "cell_type": "code",
   "execution_count": 78,
   "metadata": {},
   "outputs": [
    {
     "data": {
      "text/plain": [
       "Month\n",
       "1     5174524\n",
       "10    5038182\n",
       "12    5003192\n",
       "4     4996717\n",
       "3     4920685\n",
       "11    4849307\n",
       "2     4602157\n",
       "5     4505472\n",
       "8     2621442\n",
       "9     2514725\n",
       "7     2375761\n",
       "6     2295856\n",
       "Name: Amount_usd, dtype: Int64"
      ]
     },
     "execution_count": 78,
     "metadata": {},
     "output_type": "execute_result"
    }
   ],
   "source": [
    "#Getting total amount of each month \n",
    "amount_by_month = india_cc.groupby('Month')['Amount_usd'].sum()\n",
    "amount_by_month.sort_values(ascending = False)"
   ]
  },
  {
   "cell_type": "code",
   "execution_count": 81,
   "metadata": {},
   "outputs": [
    {
     "data": {
      "text/plain": [
       "Year\n",
       "2014    29456560\n",
       "2015    12077731\n",
       "2013     7363729\n",
       "Name: Amount_usd, dtype: Int64"
      ]
     },
     "execution_count": 81,
     "metadata": {},
     "output_type": "execute_result"
    }
   ],
   "source": [
    "#Getting total amount of each year \n",
    "amount_by_year = india_cc.groupby('Year')['Amount_usd'].sum().sort_values(ascending = False)\n",
    "amount_by_year"
   ]
  },
  {
   "cell_type": "code",
   "execution_count": 82,
   "metadata": {},
   "outputs": [
    {
     "data": {
      "text/plain": [
       "Text(0.5, 1.0, 'Total amount generated per year')"
      ]
     },
     "execution_count": 82,
     "metadata": {},
     "output_type": "execute_result"
    },
    {
     "data": {
      "image/png": "[encoded data removed]",
      "text/plain": [
       "<Figure size 648x648 with 1 Axes>"
      ]
     },
     "metadata": {
      "needs_background": "light"
     },
     "output_type": "display_data"
    }
   ],
   "source": [
    "#plotting bar graph to compare the total amount generated per year.\n",
    "plt.figure(figsize = (9,9))\n",
    "plt.bar(x = amount_by_year.index,\n",
    "        height = amount_by_year.values,\n",
    "        color = 'grey')\n",
    "plt.ylabel('Amount in millions ', fontweight = 'bold')\n",
    "plt.xlabel('Years', fontweight = 'bold')\n",
    "plt.yticks(ticks=plt.yticks()[0], labels=plt.yticks()[0].astype(int))\n",
    "plt.title('Total amount generated per year', fontsize =12, fontweight = 'bold')"
   ]
  },
  {
   "cell_type": "code",
   "execution_count": 23,
   "metadata": {},
   "outputs": [
    {
     "data": {
      "text/plain": [
       "Year  Month\n",
       "2013  10       2488327\n",
       "      11       2304196\n",
       "      12       2571206\n",
       "2014  1        2491798\n",
       "      2        2270642\n",
       "      3        2438819\n",
       "      4        2499408\n",
       "      5        2421157\n",
       "      6        2295856\n",
       "      7        2375761\n",
       "      8        2621442\n",
       "      9        2514725\n",
       "      10       2549855\n",
       "      11       2545111\n",
       "      12       2431986\n",
       "2015  1        2682726\n",
       "      2        2331515\n",
       "      3        2481866\n",
       "      4        2497309\n",
       "      5        2084315\n",
       "Name: Amount_usd, dtype: Int64"
      ]
     },
     "execution_count": 23,
     "metadata": {},
     "output_type": "execute_result"
    }
   ],
   "source": [
    "amount_by__year_month = india_cc.groupby(['Year', 'Month'])['Amount_usd'].sum()\n",
    "amount_by__year_month"
   ]
  },
  {
   "attachments": {},
   "cell_type": "markdown",
   "metadata": {},
   "source": [
    "- finding any correlation in spending between months "
   ]
  },
  {
   "cell_type": "code",
   "execution_count": 83,
   "metadata": {},
   "outputs": [
    {
     "data": {
      "image/png": "[encoded data removed]",
      "text/plain": [
       "<Figure size 1440x504 with 1 Axes>"
      ]
     },
     "metadata": {
      "needs_background": "light"
     },
     "output_type": "display_data"
    }
   ],
   "source": [
    "plt.figure(figsize = (20,7))\n",
    "plt.plot(amount_by_month.index, amount_by_month.values,)\n",
    "plt.xlabel('Month and Year', fontweight = 'bold')\n",
    "plt.ylabel('Total Amount Spent in USD (Thousands)', fontweight = 'bold')\n",
    "plt.yticks(ticks=plt.yticks()[0], labels=plt.yticks()[0].astype(int))\n",
    "plt.title('Total Amount Spent per year and month', fontsize = 12, fontweight = 'bold')\n",
    "plt.show()"
   ]
  },
  {
   "attachments": {},
   "cell_type": "markdown",
   "metadata": {},
   "source": [
    "- avg & max amount  of transactions per gender "
   ]
  },
  {
   "cell_type": "code",
   "execution_count": 25,
   "metadata": {},
   "outputs": [
    {
     "data": {
      "text/plain": [
       "Gender\n",
       "F    1934.0\n",
       "M    1813.0\n",
       "Name: Amount_usd, dtype: Float64"
      ]
     },
     "execution_count": 25,
     "metadata": {},
     "output_type": "execute_result"
    }
   ],
   "source": [
    "#Average amount\n",
    "india_cc.groupby('Gender')['Amount_usd'].mean().round(0)"
   ]
  },
  {
   "cell_type": "code",
   "execution_count": 26,
   "metadata": {},
   "outputs": [
    {
     "data": {
      "text/plain": [
       "Gender\n",
       "F    11977\n",
       "M     3600\n",
       "Name: Amount_usd, dtype: Int64"
      ]
     },
     "execution_count": 26,
     "metadata": {},
     "output_type": "execute_result"
    }
   ],
   "source": [
    "#Max amount\n",
    "india_cc.groupby('Gender')['Amount_usd'].max()"
   ]
  },
  {
   "attachments": {},
   "cell_type": "markdown",
   "metadata": {},
   "source": [
    "- Location\n",
    "- Which city has the highest and lowest total amount generated ?"
   ]
  },
  {
   "cell_type": "code",
   "execution_count": 27,
   "metadata": {},
   "outputs": [
    {
     "data": {
      "text/plain": [
       "City\n",
       "Greater Mumbai    6921018\n",
       "Bengaluru         6867903\n",
       "Ahmedabad         6813542\n",
       "Delhi             6683169\n",
       "Kolkata           1385600\n",
       "Name: Amount_usd, dtype: Int64"
      ]
     },
     "execution_count": 27,
     "metadata": {},
     "output_type": "execute_result"
    }
   ],
   "source": [
    "#Highest\n",
    "india_cc.groupby('City')['Amount_usd'].sum().sort_values( ascending = False).head(5)"
   ]
  },
  {
   "cell_type": "code",
   "execution_count": 28,
   "metadata": {},
   "outputs": [
    {
     "data": {
      "text/plain": [
       "City\n",
       "Fazilka          179\n",
       "Mahbubnagar      185\n",
       "Bahraich         291\n",
       "Tirur            313\n",
       "Changanassery    361\n",
       "Name: Amount_usd, dtype: Int64"
      ]
     },
     "execution_count": 28,
     "metadata": {},
     "output_type": "execute_result"
    }
   ],
   "source": [
    "#Lowest\n",
    "india_cc.groupby('City')['Amount_usd'].sum().sort_values( ascending = True).head(5)"
   ]
  },
  {
   "cell_type": "code",
   "execution_count": 29,
   "metadata": {},
   "outputs": [
    {
     "data": {
      "text/plain": [
       "City            Gender\n",
       "Greater Mumbai  F         4051398\n",
       "Bengaluru       F         3974378\n",
       "Delhi           F         3884320\n",
       "Ahmedabad       F         3830059\n",
       "                M         2983483\n",
       "                           ...   \n",
       "Dhoraji         M              62\n",
       "Titlagarh       F              56\n",
       "Ambejogai       M              52\n",
       "Uravakonda      F              50\n",
       "Bahraich        F              15\n",
       "Name: Amount_usd, Length: 1876, dtype: Int64"
      ]
     },
     "execution_count": 29,
     "metadata": {},
     "output_type": "execute_result"
    }
   ],
   "source": [
    "amount_by_city_gender = india_cc.groupby(['City', 'Gender'])['Amount_usd'].sum()\n",
    "amount_by_city_gender.sort_values(ascending= False)"
   ]
  },
  {
   "cell_type": "code",
   "execution_count": 30,
   "metadata": {},
   "outputs": [
    {
     "data": {
      "text/plain": [
       "Gender\n",
       "F    4051398\n",
       "M    2869620\n",
       "Name: Amount_usd, dtype: Int64"
      ]
     },
     "execution_count": 30,
     "metadata": {},
     "output_type": "execute_result"
    }
   ],
   "source": [
    "#Gender comparsion \n",
    "amount_by_mumbai_gender = amount_by_city_gender.loc['Greater Mumbai', :]\n",
    "amount_by_mumbai_gender"
   ]
  },
  {
   "cell_type": "code",
   "execution_count": 31,
   "metadata": {},
   "outputs": [
    {
     "data": {
      "image/png": "[encoded data removed]",
      "text/plain": [
       "<Figure size 648x648 with 1 Axes>"
      ]
     },
     "metadata": {
      "needs_background": "light"
     },
     "output_type": "display_data"
    }
   ],
   "source": [
    "plt.figure(figsize= (9,9))\n",
    "plt.bar( x= amount_by_mumbai_gender.index,\n",
    "        height= amount_by_mumbai_gender.values ,\n",
    "        color ='Grey')\n",
    "plt.xlabel('gender')\n",
    "plt.ylabel('amount in usd (million)')\n",
    "plt.yticks(ticks=plt.yticks()[0], labels=plt.yticks()[0].astype(int))\n",
    "plt.title('Greater Mumbai total amount per gender ', fontsize = 12, fontweight = 'bold' )\n",
    "plt.show()"
   ]
  },
  {
   "cell_type": "code",
   "execution_count": 32,
   "metadata": {},
   "outputs": [
    {
     "data": {
      "text/plain": [
       "Gender\n",
       "M    179\n",
       "Name: Amount_usd, dtype: Int64"
      ]
     },
     "execution_count": 32,
     "metadata": {},
     "output_type": "execute_result"
    }
   ],
   "source": [
    "amount_by_fazilka_gender = amount_by_city_gender.loc['Fazilka',:]\n",
    "amount_by_fazilka_gender\n"
   ]
  },
  {
   "cell_type": "code",
   "execution_count": 33,
   "metadata": {},
   "outputs": [
    {
     "data": {
      "text/html": [
       "<div>\n",
       "<style scoped>\n",
       "    .dataframe tbody tr th:only-of-type {\n",
       "        vertical-align: middle;\n",
       "    }\n",
       "\n",
       "    .dataframe tbody tr th {\n",
       "        vertical-align: top;\n",
       "    }\n",
       "\n",
       "    .dataframe thead th {\n",
       "        text-align: right;\n",
       "    }\n",
       "</style>\n",
       "<table border=\"1\" class=\"dataframe\">\n",
       "  <thead>\n",
       "    <tr style=\"text-align: right;\">\n",
       "      <th></th>\n",
       "      <th>index</th>\n",
       "      <th>City</th>\n",
       "      <th>Date</th>\n",
       "      <th>Month</th>\n",
       "      <th>Year</th>\n",
       "      <th>Card Type</th>\n",
       "      <th>Exp Type</th>\n",
       "      <th>Gender</th>\n",
       "      <th>Amount</th>\n",
       "      <th>Amount_usd</th>\n",
       "    </tr>\n",
       "  </thead>\n",
       "  <tbody>\n",
       "    <tr>\n",
       "      <th>19538</th>\n",
       "      <td>19538</td>\n",
       "      <td>Fazilka</td>\n",
       "      <td>2014-04-28</td>\n",
       "      <td>4</td>\n",
       "      <td>2014</td>\n",
       "      <td>Signature</td>\n",
       "      <td>Food</td>\n",
       "      <td>M</td>\n",
       "      <td>14949</td>\n",
       "      <td>179</td>\n",
       "    </tr>\n",
       "  </tbody>\n",
       "</table>\n",
       "</div>"
      ],
      "text/plain": [
       "       index     City       Date  Month  Year  Card Type Exp Type Gender  \\\n",
       "19538  19538  Fazilka 2014-04-28      4  2014  Signature     Food      M   \n",
       "\n",
       "       Amount  Amount_usd  \n",
       "19538   14949         179  "
      ]
     },
     "execution_count": 33,
     "metadata": {},
     "output_type": "execute_result"
    }
   ],
   "source": [
    "#Had to confirm i wasnt seeing my own things\n",
    "india_cc[india_cc['City'] == 'Fazilka']"
   ]
  },
  {
   "cell_type": "code",
   "execution_count": 34,
   "metadata": {},
   "outputs": [
    {
     "data": {
      "image/png": "[encoded data removed]",
      "text/plain": [
       "<Figure size 648x432 with 1 Axes>"
      ]
     },
     "metadata": {
      "needs_background": "light"
     },
     "output_type": "display_data"
    }
   ],
   "source": [
    "plt.figure(figsize= (9,6))\n",
    "plt.bar( x= amount_by_fazilka_gender.index,\n",
    "        height= amount_by_fazilka_gender.values,\n",
    "        color ='Grey')\n",
    "plt.xlabel('gender')\n",
    "plt.ylabel('amount in usd (dollars)')\n",
    "plt.title('Fazilka total amomunt per gender', fontsize = 12, fontweight= 'bold' )\n",
    "plt.show()"
   ]
  },
  {
   "attachments": {},
   "cell_type": "markdown",
   "metadata": {},
   "source": [
    "- cardtypes \n",
    "- Which card type is the most commonly used in each city?"
   ]
  },
  {
   "cell_type": "code",
   "execution_count": 35,
   "metadata": {},
   "outputs": [
    {
     "data": {
      "text/plain": [
       "array(['Gold', 'Platinum', 'Silver', 'Signature'], dtype=object)"
      ]
     },
     "execution_count": 35,
     "metadata": {},
     "output_type": "execute_result"
    }
   ],
   "source": [
    "#checking the unique card types\n",
    "india_cc['Card Type'].unique()"
   ]
  },
  {
   "cell_type": "code",
   "execution_count": 36,
   "metadata": {},
   "outputs": [
    {
     "data": {
      "text/plain": [
       "Card Type\n",
       "Silver       12835370\n",
       "Signature    12156536\n",
       "Platinum     12091693\n",
       "Gold         11814421\n",
       "Name: Amount_usd, dtype: Int64"
      ]
     },
     "execution_count": 36,
     "metadata": {},
     "output_type": "execute_result"
    }
   ],
   "source": [
    "#Amount generated overral by each card type\n",
    "Total_amount_per_card = india_cc.groupby('Card Type')['Amount_usd'].sum().sort_values(ascending = False)\n",
    "Total_amount_per_card"
   ]
  },
  {
   "cell_type": "code",
   "execution_count": 37,
   "metadata": {},
   "outputs": [
    {
     "data": {
      "image/png": "[encoded data removed]",
      "text/plain": [
       "<Figure size 648x648 with 1 Axes>"
      ]
     },
     "metadata": {
      "needs_background": "light"
     },
     "output_type": "display_data"
    }
   ],
   "source": [
    "plt.figure(figsize= (9,9))\n",
    "plt.bar( x= Total_amount_per_card.index,\n",
    "        height= Total_amount_per_card.values ,\n",
    "        color ='Grey')\n",
    "plt.xlabel('Card type')\n",
    "plt.ylabel('amount in usd (million)')\n",
    "plt.yticks(ticks=plt.yticks()[0], labels=plt.yticks()[0].astype(int))\n",
    "plt.title('Total amount per card type', fontsize = 12, fontweight = 'bold' )\n",
    "plt.show()"
   ]
  },
  {
   "cell_type": "code",
   "execution_count": 38,
   "metadata": {},
   "outputs": [
    {
     "data": {
      "text/plain": [
       "Card Type  City          \n",
       "Silver     Bengaluru         1897914\n",
       "           Greater Mumbai    1873696\n",
       "           Ahmedabad         1863658\n",
       "           Delhi             1836055\n",
       "Platinum   Ahmedabad         1765642\n",
       "                              ...   \n",
       "Signature  Vandavasi              25\n",
       "Silver     Nathdwara              20\n",
       "Signature  Sadulpur               17\n",
       "Gold       Dhamtari               17\n",
       "Platinum   Bahraich               15\n",
       "Name: Amount_usd, Length: 3104, dtype: Int64"
      ]
     },
     "execution_count": 38,
     "metadata": {},
     "output_type": "execute_result"
    }
   ],
   "source": [
    "india_cc.groupby(['Card Type', 'City'])['Amount_usd'].sum().sort_values(ascending = False)\n"
   ]
  },
  {
   "cell_type": "code",
   "execution_count": 39,
   "metadata": {},
   "outputs": [
    {
     "data": {
      "text/plain": [
       "City\n",
       "Bengaluru         1897914\n",
       "Greater Mumbai    1873696\n",
       "Ahmedabad         1863658\n",
       "Delhi             1836055\n",
       "Kolkata            363122\n",
       "Name: Amount_usd, dtype: Int64"
      ]
     },
     "execution_count": 39,
     "metadata": {},
     "output_type": "execute_result"
    }
   ],
   "source": [
    "#Checking top city contributers for silver(Highest overall card type)\n",
    "Silver_with_city = india_cc.groupby(['Card Type', 'City'])['Amount_usd'].sum().sort_values(ascending = False)\n",
    "top5_cities_silver = Silver_with_city.loc['Silver',:].head(5)\n",
    "top5_cities_silver"
   ]
  },
  {
   "cell_type": "code",
   "execution_count": 40,
   "metadata": {},
   "outputs": [
    {
     "data": {
      "image/png": "[encoded data removed]",
      "text/plain": [
       "<Figure size 648x648 with 1 Axes>"
      ]
     },
     "metadata": {
      "needs_background": "light"
     },
     "output_type": "display_data"
    }
   ],
   "source": [
    "plt.figure(figsize= (9,9))\n",
    "plt.bar( x= top5_cities_silver.index,\n",
    "        height= top5_cities_silver.values ,\n",
    "        color ='Grey')\n",
    "plt.xlabel('Cities')\n",
    "plt.ylabel('amount in usd (millions)')\n",
    "plt.yticks(ticks=plt.yticks()[0], labels=plt.yticks()[0].astype(int))\n",
    "plt.title('Top cities for silver type', fontsize = 12, fontweight = 'bold' )\n",
    "plt.show()"
   ]
  },
  {
   "cell_type": "code",
   "execution_count": 41,
   "metadata": {},
   "outputs": [
    {
     "data": {
      "text/plain": [
       "Gender\n",
       "F    1197776\n",
       "M     700138\n",
       "Name: Amount_usd, dtype: Int64"
      ]
     },
     "execution_count": 41,
     "metadata": {},
     "output_type": "execute_result"
    }
   ],
   "source": [
    "#Gender comparison for bengaluru\n",
    "silver = india_cc[india_cc['Card Type'] == 'Silver']\n",
    "silver_city_gender = silver.groupby(['City', 'Gender'])['Amount_usd'].sum()\n",
    "silver_bengaluru = silver_city_gender.loc['Bengaluru', :]\n",
    "silver_bengaluru    "
   ]
  },
  {
   "cell_type": "code",
   "execution_count": 42,
   "metadata": {},
   "outputs": [
    {
     "data": {
      "image/png": "[encoded data removed]",
      "text/plain": [
       "<Figure size 648x648 with 1 Axes>"
      ]
     },
     "metadata": {
      "needs_background": "light"
     },
     "output_type": "display_data"
    }
   ],
   "source": [
    "plt.figure(figsize= (9,9))\n",
    "plt.bar( x= silver_bengaluru.index,\n",
    "        height= silver_bengaluru.values ,\n",
    "        color ='Grey')\n",
    "plt.xlabel('gender')\n",
    "plt.ylabel('amount in usd (million)')\n",
    "plt.yticks(ticks=plt.yticks()[0], labels=plt.yticks()[0].astype(int))\n",
    "plt.title('Bengaluru gender comparison', fontsize = 12, fontweight = 'bold' )\n",
    "plt.show()"
   ]
  },
  {
   "cell_type": "code",
   "execution_count": 43,
   "metadata": {},
   "outputs": [
    {
     "data": {
      "text/plain": [
       "City\n",
       "Greater Mumbai    1655800\n",
       "Delhi             1635169\n",
       "Bengaluru         1618450\n",
       "Ahmedabad         1590521\n",
       "Chennai            359356\n",
       "Name: Amount_usd, dtype: Int64"
      ]
     },
     "execution_count": 43,
     "metadata": {},
     "output_type": "execute_result"
    }
   ],
   "source": [
    "#Checking top city contributers for gold (Lowest overall card type)\n",
    "Gold_with_city = india_cc.groupby(['Card Type', 'City'])['Amount_usd'].sum().sort_values(ascending = False)\n",
    "top5_cities_gold = Gold_with_city.loc['Gold',:].head(5)\n",
    "top5_cities_gold"
   ]
  },
  {
   "cell_type": "code",
   "execution_count": 44,
   "metadata": {},
   "outputs": [
    {
     "data": {
      "image/png": "[encoded data removed]",
      "text/plain": [
       "<Figure size 648x648 with 1 Axes>"
      ]
     },
     "metadata": {
      "needs_background": "light"
     },
     "output_type": "display_data"
    }
   ],
   "source": [
    "plt.figure(figsize= (9,9))\n",
    "plt.bar( x= top5_cities_gold.index,\n",
    "        height= top5_cities_gold.values ,\n",
    "        color ='Grey')\n",
    "plt.xlabel('Cities')\n",
    "plt.ylabel('amount in usd (million)')\n",
    "plt.yticks(ticks=plt.yticks()[0], labels=plt.yticks()[0].astype(int))\n",
    "plt.title('Top cities for gold type', fontsize = 12, fontweight = 'bold' )\n",
    "plt.show()"
   ]
  },
  {
   "cell_type": "code",
   "execution_count": 45,
   "metadata": {},
   "outputs": [
    {
     "data": {
      "text/plain": [
       "Gender\n",
       "F    926417\n",
       "M    729383\n",
       "Name: Amount_usd, dtype: Int64"
      ]
     },
     "execution_count": 45,
     "metadata": {},
     "output_type": "execute_result"
    }
   ],
   "source": [
    "#Gender comparison for Greater Mumbai\n",
    "Gold = india_cc[india_cc['Card Type'] == 'Gold']\n",
    "gold_city_gender = Gold.groupby(['City', 'Gender'])['Amount_usd'].sum()\n",
    "gold_greater_mumbai = gold_city_gender.loc['Greater Mumbai', :]\n",
    "gold_greater_mumbai"
   ]
  },
  {
   "cell_type": "code",
   "execution_count": 46,
   "metadata": {},
   "outputs": [
    {
     "data": {
      "image/png": "[encoded data removed]",
      "text/plain": [
       "<Figure size 648x432 with 1 Axes>"
      ]
     },
     "metadata": {
      "needs_background": "light"
     },
     "output_type": "display_data"
    }
   ],
   "source": [
    "plt.figure(figsize = (9,6))\n",
    "plt.bar(x = gold_greater_mumbai.index,\n",
    "        height = gold_greater_mumbai.values,\n",
    "        color = 'Grey')\n",
    "plt.ylabel('amount in usd (Thousands)')\n",
    "plt.xlabel('gender')\n",
    "plt.title('Gold gender comparison in Greater Mumbai', fontsize = 12, fontweight = 'bold')\n",
    "plt.show()"
   ]
  },
  {
   "attachments": {},
   "cell_type": "markdown",
   "metadata": {},
   "source": [
    "- What is the average amount spent per transaction for each card type"
   ]
  },
  {
   "cell_type": "code",
   "execution_count": 47,
   "metadata": {},
   "outputs": [
    {
     "data": {
      "text/plain": [
       "Card Type\n",
       "Gold         1856.0\n",
       "Platinum     1890.0\n",
       "Signature    1886.0\n",
       "Silver       1877.0\n",
       "Name: Amount_usd, dtype: Float64"
      ]
     },
     "execution_count": 47,
     "metadata": {},
     "output_type": "execute_result"
    }
   ],
   "source": [
    "india_cc.groupby('Card Type')['Amount_usd'].mean().round(0)"
   ]
  },
  {
   "attachments": {},
   "cell_type": "markdown",
   "metadata": {},
   "source": [
    "- What is the max amount spent per transaction for each card type"
   ]
  },
  {
   "cell_type": "code",
   "execution_count": 48,
   "metadata": {},
   "outputs": [
    {
     "data": {
      "text/plain": [
       "Card Type\n",
       "Gold         11961\n",
       "Platinum     11977\n",
       "Signature    11934\n",
       "Silver       11466\n",
       "Name: Amount_usd, dtype: Int64"
      ]
     },
     "execution_count": 48,
     "metadata": {},
     "output_type": "execute_result"
    }
   ],
   "source": [
    "india_cc.groupby('Card Type')['Amount_usd'].max()"
   ]
  },
  {
   "attachments": {},
   "cell_type": "markdown",
   "metadata": {},
   "source": [
    "- How does the amount spent vary by gender across different card types "
   ]
  },
  {
   "cell_type": "code",
   "execution_count": 49,
   "metadata": {},
   "outputs": [
    {
     "data": {
      "text/plain": [
       "Card Type  Gender\n",
       "Gold       F         6275150\n",
       "           M         5539271\n",
       "Platinum   F         6383264\n",
       "           M         5708429\n",
       "Signature  F         6576095\n",
       "           M         5580441\n",
       "Silver     F         7229211\n",
       "           M         5606159\n",
       "Name: Amount_usd, dtype: Int64"
      ]
     },
     "execution_count": 49,
     "metadata": {},
     "output_type": "execute_result"
    }
   ],
   "source": [
    "india_cc.groupby(['Card Type','Gender'])['Amount_usd'].sum()"
   ]
  },
  {
   "attachments": {},
   "cell_type": "markdown",
   "metadata": {},
   "source": [
    "- Expense type"
   ]
  },
  {
   "cell_type": "code",
   "execution_count": 50,
   "metadata": {},
   "outputs": [
    {
     "data": {
      "text/plain": [
       "Exp Type\n",
       "Bills            10884865\n",
       "Food              9896675\n",
       "Fuel              9469663\n",
       "Entertainment     8717240\n",
       "Grocery           8618512\n",
       "Travel            1311065\n",
       "Name: Amount_usd, dtype: Int64"
      ]
     },
     "execution_count": 50,
     "metadata": {},
     "output_type": "execute_result"
    }
   ],
   "source": [
    "Expense_type_total = india_cc.groupby('Exp Type')['Amount_usd'].sum().sort_values(ascending= False)\n",
    "Expense_type_total"
   ]
  },
  {
   "cell_type": "code",
   "execution_count": 51,
   "metadata": {},
   "outputs": [
    {
     "data": {
      "image/png": "[encoded data removed]",
      "text/plain": [
       "<Figure size 648x648 with 1 Axes>"
      ]
     },
     "metadata": {
      "needs_background": "light"
     },
     "output_type": "display_data"
    }
   ],
   "source": [
    "plt.figure(figsize= (9,9))\n",
    "plt.bar( x= Expense_type_total.index,\n",
    "        height= Expense_type_total.values ,\n",
    "        color ='Grey')\n",
    "plt.xlabel('Expenses')\n",
    "plt.ylabel('amount in usd (million)')\n",
    "plt.yticks(ticks=plt.yticks()[0], labels=plt.yticks()[0].astype(int))\n",
    "plt.title('Total amount per expense type', fontsize = 12, fontweight = 'bold' )\n",
    "plt.show()"
   ]
  },
  {
   "cell_type": "code",
   "execution_count": 52,
   "metadata": {},
   "outputs": [
    {
     "data": {
      "text/plain": [
       "Exp Type\n",
       "Bills            2143.53\n",
       "Entertainment    1830.58\n",
       "Grocery           1812.9\n",
       "Food             1811.58\n",
       "Fuel             1801.34\n",
       "Travel           1776.51\n",
       "Name: Amount_usd, dtype: Float64"
      ]
     },
     "execution_count": 52,
     "metadata": {},
     "output_type": "execute_result"
    }
   ],
   "source": [
    "#Average expense paid per expense type\n",
    "india_cc.groupby('Exp Type')['Amount_usd'].mean().sort_values(ascending = False).round(2)\n"
   ]
  },
  {
   "cell_type": "code",
   "execution_count": 53,
   "metadata": {},
   "outputs": [
    {
     "data": {
      "text/plain": [
       "Exp Type\n",
       "Bills            11977\n",
       "Entertainment     3599\n",
       "Fuel              3599\n",
       "Grocery           3599\n",
       "Food              3598\n",
       "Travel            3595\n",
       "Name: Amount_usd, dtype: Int64"
      ]
     },
     "execution_count": 53,
     "metadata": {},
     "output_type": "execute_result"
    }
   ],
   "source": [
    "#Max expense paid per expense type\n",
    "india_cc.groupby('Exp Type')['Amount_usd'].max().sort_values(ascending = False)"
   ]
  },
  {
   "attachments": {},
   "cell_type": "markdown",
   "metadata": {},
   "source": [
    "- find any correlation or similarity in expense spending "
   ]
  },
  {
   "attachments": {},
   "cell_type": "markdown",
   "metadata": {},
   "source": [
    "- *Bills*"
   ]
  },
  {
   "cell_type": "code",
   "execution_count": 54,
   "metadata": {},
   "outputs": [
    {
     "data": {
      "text/plain": [
       "Month\n",
       "1     5174524\n",
       "2     4602157\n",
       "3     4920685\n",
       "4     4996717\n",
       "5     4505472\n",
       "6     2295856\n",
       "7     2375761\n",
       "8     2621442\n",
       "9     2514725\n",
       "10    5038182\n",
       "11    4849307\n",
       "12    5003192\n",
       "Name: Amount_usd, dtype: Int64"
      ]
     },
     "execution_count": 54,
     "metadata": {},
     "output_type": "execute_result"
    }
   ],
   "source": [
    "#Bills\n",
    "bills_by_month = india_cc.groupby('Month')['Amount_usd'].sum()\n",
    "bills_by_month "
   ]
  },
  {
   "cell_type": "code",
   "execution_count": 55,
   "metadata": {},
   "outputs": [
    {
     "data": {
      "image/png": "[encoded data removed]",
      "text/plain": [
       "<Figure size 1440x432 with 1 Axes>"
      ]
     },
     "metadata": {
      "needs_background": "light"
     },
     "output_type": "display_data"
    }
   ],
   "source": [
    "plt.figure(figsize = (20,6))\n",
    "plt.plot(bills_by_month.index, bills_by_month.values,)\n",
    "plt.xlabel('date')\n",
    "plt.ylabel('Total Amount Spent in USD (Thousands)')\n",
    "plt.yticks(ticks=plt.yticks()[0], labels=plt.yticks()[0].astype(int))\n",
    "plt.title('Total bills Spent by Date', fontsize = 12, fontweight = 'bold')\n",
    "plt.show()"
   ]
  },
  {
   "cell_type": "code",
   "execution_count": 56,
   "metadata": {},
   "outputs": [],
   "source": [
    "bills_by_date = india_cc.groupby('Date')['Amount_usd'].sum()"
   ]
  },
  {
   "cell_type": "code",
   "execution_count": 57,
   "metadata": {},
   "outputs": [
    {
     "data": {
      "text/plain": [
       "81496.7"
      ]
     },
     "execution_count": 57,
     "metadata": {},
     "output_type": "execute_result"
    }
   ],
   "source": [
    "#Finding days where bills passed the average spending expense\n",
    "mean_of_sum_bills = round(bills_by_date.mean(),2)\n",
    "mean_of_sum_bills"
   ]
  },
  {
   "cell_type": "code",
   "execution_count": 58,
   "metadata": {},
   "outputs": [
    {
     "data": {
      "text/plain": [
       "Date\n",
       "2014-10-07    135393\n",
       "2014-09-20    127535\n",
       "2014-08-11    126972\n",
       "2015-01-12    125982\n",
       "2013-10-13    125279\n",
       "               ...  \n",
       "2014-10-14     82164\n",
       "2014-09-27     82088\n",
       "2014-12-06     82019\n",
       "2015-04-20     81890\n",
       "2015-04-29     81625\n",
       "Name: Amount_usd, Length: 282, dtype: Int64"
      ]
     },
     "execution_count": 58,
     "metadata": {},
     "output_type": "execute_result"
    }
   ],
   "source": [
    "days_above_avg_bills = bills_by_date[ bills_by_date >= 81496.67]\n",
    "days_above_avg_bills.sort_values(ascending = False)"
   ]
  },
  {
   "attachments": {},
   "cell_type": "markdown",
   "metadata": {},
   "source": [
    "- Top cities in each expense type "
   ]
  },
  {
   "cell_type": "code",
   "execution_count": 59,
   "metadata": {},
   "outputs": [
    {
     "data": {
      "text/plain": [
       "Exp Type       City          \n",
       "Bills          Greater Mumbai    1842784\n",
       "               Bengaluru         1697984\n",
       "               Ahmedabad         1695484\n",
       "               Delhi             1683003\n",
       "Food           Bengaluru         1485636\n",
       "                                  ...   \n",
       "Grocery        Dhamtari               17\n",
       "Entertainment  Rahuri                 17\n",
       "Food           Bahraich               15\n",
       "Grocery        Bhabua                 13\n",
       "Food           Murshidabad            12\n",
       "Name: Amount_usd, Length: 3500, dtype: Int64"
      ]
     },
     "execution_count": 59,
     "metadata": {},
     "output_type": "execute_result"
    }
   ],
   "source": [
    "exp_type_city = india_cc.groupby(['Exp Type', 'City'])['Amount_usd'].sum().sort_values(ascending= False)\n",
    "exp_type_city"
   ]
  },
  {
   "cell_type": "code",
   "execution_count": 60,
   "metadata": {},
   "outputs": [
    {
     "data": {
      "text/plain": [
       "City\n",
       "Greater Mumbai    1842784\n",
       "Bengaluru         1697984\n",
       "Ahmedabad         1695484\n",
       "Delhi             1683003\n",
       "Kolkata            258513\n",
       "Name: Amount_usd, dtype: Int64"
      ]
     },
     "execution_count": 60,
     "metadata": {},
     "output_type": "execute_result"
    }
   ],
   "source": [
    "bills_city = exp_type_city.loc['Bills'].head(5)\n",
    "bills_city"
   ]
  },
  {
   "cell_type": "code",
   "execution_count": 61,
   "metadata": {},
   "outputs": [
    {
     "data": {
      "text/plain": [
       "City\n",
       "Bengaluru         1485636\n",
       "Delhi             1441572\n",
       "Ahmedabad         1409599\n",
       "Greater Mumbai    1361453\n",
       "Surat              264993\n",
       "Name: Amount_usd, dtype: Int64"
      ]
     },
     "execution_count": 61,
     "metadata": {},
     "output_type": "execute_result"
    }
   ],
   "source": [
    "food_city = exp_type_city.loc['Food'].head(5)\n",
    "food_city"
   ]
  },
  {
   "cell_type": "code",
   "execution_count": 62,
   "metadata": {},
   "outputs": [
    {
     "data": {
      "text/plain": [
       "City\n",
       "Bengaluru         1416799\n",
       "Ahmedabad         1398004\n",
       "Greater Mumbai    1394813\n",
       "Delhi             1384193\n",
       "Pune               253706\n",
       "Name: Amount_usd, dtype: Int64"
      ]
     },
     "execution_count": 62,
     "metadata": {},
     "output_type": "execute_result"
    }
   ],
   "source": [
    "fuel_city =  exp_type_city.loc['Fuel'].head(5)\n",
    "fuel_city"
   ]
  },
  {
   "cell_type": "code",
   "execution_count": 63,
   "metadata": {},
   "outputs": [
    {
     "data": {
      "text/plain": [
       "City\n",
       "Ahmedabad         1170029\n",
       "Bengaluru         1152730\n",
       "Greater Mumbai    1147155\n",
       "Delhi             1059403\n",
       "Surat              293768\n",
       "Name: Amount_usd, dtype: Int64"
      ]
     },
     "execution_count": 63,
     "metadata": {},
     "output_type": "execute_result"
    }
   ],
   "source": [
    "entertainment_city =  exp_type_city.loc['Entertainment'].head(5)\n",
    "entertainment_city"
   ]
  },
  {
   "cell_type": "code",
   "execution_count": 64,
   "metadata": {},
   "outputs": [
    {
     "data": {
      "text/plain": [
       "City\n",
       "Greater Mumbai    1174813\n",
       "Ahmedabad         1140426\n",
       "Delhi             1114998\n",
       "Bengaluru         1114754\n",
       "Hyderabad          274218\n",
       "Name: Amount_usd, dtype: Int64"
      ]
     },
     "execution_count": 64,
     "metadata": {},
     "output_type": "execute_result"
    }
   ],
   "source": [
    "groceries_city =  exp_type_city.loc['Grocery'].head(5)\n",
    "groceries_city"
   ]
  },
  {
   "cell_type": "code",
   "execution_count": 65,
   "metadata": {},
   "outputs": [
    {
     "data": {
      "text/plain": [
       "City\n",
       "Chennai      194928\n",
       "Jaipur       183043\n",
       "Kanpur       180200\n",
       "Hyderabad    176879\n",
       "Pune         147634\n",
       "Name: Amount_usd, dtype: Int64"
      ]
     },
     "execution_count": 65,
     "metadata": {},
     "output_type": "execute_result"
    }
   ],
   "source": [
    "travel_city =  exp_type_city.loc['Travel'].head(5)\n",
    "travel_city"
   ]
  },
  {
   "cell_type": "code",
   "execution_count": 66,
   "metadata": {},
   "outputs": [
    {
     "data": {
      "text/html": [
       "<div>\n",
       "<style scoped>\n",
       "    .dataframe tbody tr th:only-of-type {\n",
       "        vertical-align: middle;\n",
       "    }\n",
       "\n",
       "    .dataframe tbody tr th {\n",
       "        vertical-align: top;\n",
       "    }\n",
       "\n",
       "    .dataframe thead th {\n",
       "        text-align: right;\n",
       "    }\n",
       "</style>\n",
       "<table border=\"1\" class=\"dataframe\">\n",
       "  <thead>\n",
       "    <tr style=\"text-align: right;\">\n",
       "      <th></th>\n",
       "      <th>index</th>\n",
       "      <th>City</th>\n",
       "      <th>Date</th>\n",
       "      <th>Month</th>\n",
       "      <th>Year</th>\n",
       "      <th>Card Type</th>\n",
       "      <th>Exp Type</th>\n",
       "      <th>Gender</th>\n",
       "      <th>Amount</th>\n",
       "      <th>Amount_usd</th>\n",
       "    </tr>\n",
       "  </thead>\n",
       "  <tbody>\n",
       "    <tr>\n",
       "      <th>0</th>\n",
       "      <td>0</td>\n",
       "      <td>Delhi</td>\n",
       "      <td>2014-10-29</td>\n",
       "      <td>10</td>\n",
       "      <td>2014</td>\n",
       "      <td>Gold</td>\n",
       "      <td>Bills</td>\n",
       "      <td>F</td>\n",
       "      <td>82475</td>\n",
       "      <td>990</td>\n",
       "    </tr>\n",
       "  </tbody>\n",
       "</table>\n",
       "</div>"
      ],
      "text/plain": [
       "   index   City       Date  Month  Year Card Type Exp Type Gender  Amount  \\\n",
       "0      0  Delhi 2014-10-29     10  2014      Gold    Bills      F   82475   \n",
       "\n",
       "   Amount_usd  \n",
       "0         990  "
      ]
     },
     "execution_count": 66,
     "metadata": {},
     "output_type": "execute_result"
    }
   ],
   "source": [
    "india_cc.head(1)"
   ]
  },
  {
   "attachments": {},
   "cell_type": "markdown",
   "metadata": {},
   "source": [
    "- what purpuse were the card types used for ?"
   ]
  },
  {
   "cell_type": "code",
   "execution_count": 67,
   "metadata": {},
   "outputs": [
    {
     "data": {
      "text/plain": [
       "Card Type  Exp Type     \n",
       "Gold       Bills            2706391\n",
       "           Entertainment    2081605\n",
       "           Food             2325081\n",
       "           Fuel             2332121\n",
       "           Grocery          1994947\n",
       "           Travel            374276\n",
       "Platinum   Bills            2664329\n",
       "           Entertainment    2227318\n",
       "           Food             2523826\n",
       "           Fuel             2328843\n",
       "           Grocery          2056331\n",
       "           Travel            291046\n",
       "Signature  Bills            2713397\n",
       "           Entertainment    2143783\n",
       "           Food             2474977\n",
       "           Fuel             2253588\n",
       "           Grocery          2240800\n",
       "           Travel            329991\n",
       "Silver     Bills            2800748\n",
       "           Entertainment    2264534\n",
       "           Food             2572791\n",
       "           Fuel             2555111\n",
       "           Grocery          2326434\n",
       "           Travel            315752\n",
       "Name: Amount_usd, dtype: Int64"
      ]
     },
     "execution_count": 67,
     "metadata": {},
     "output_type": "execute_result"
    }
   ],
   "source": [
    "card_type_expense = india_cc.groupby(['Card Type', 'Exp Type'])['Amount_usd'].sum()\n",
    "card_type_expense"
   ]
  },
  {
   "cell_type": "code",
   "execution_count": 68,
   "metadata": {},
   "outputs": [
    {
     "data": {
      "text/plain": [
       "Exp Type\n",
       "Bills            2800748\n",
       "Food             2572791\n",
       "Fuel             2555111\n",
       "Grocery          2326434\n",
       "Entertainment    2264534\n",
       "Travel            315752\n",
       "Name: Amount_usd, dtype: Int64"
      ]
     },
     "execution_count": 68,
     "metadata": {},
     "output_type": "execute_result"
    }
   ],
   "source": [
    "silver_expense = card_type_expense.loc['Silver', :].sort_values(ascending = False)\n",
    "silver_expense"
   ]
  },
  {
   "cell_type": "code",
   "execution_count": 69,
   "metadata": {},
   "outputs": [
    {
     "data": {
      "image/png": "[encoded data removed]",
      "text/plain": [
       "<Figure size 864x432 with 1 Axes>"
      ]
     },
     "metadata": {
      "needs_background": "light"
     },
     "output_type": "display_data"
    }
   ],
   "source": [
    "plt.figure(figsize = (12,6))\n",
    "plt.bar(x = silver_expense.index,\n",
    "        height = silver_expense.values,\n",
    "        color = 'Grey')\n",
    "plt.xlabel('Exp Type', fontweight = 'bold')\n",
    "plt.ylabel('Amount in usd (million)', fontweight = 'bold')\n",
    "plt.yticks(ticks=plt.yticks()[0], labels=plt.yticks()[0].astype(int))\n",
    "plt.title('Expense type used by  silver card type', fontweight = 'bold', fontsize = 12)\n",
    "plt.show()"
   ]
  },
  {
   "cell_type": "code",
   "execution_count": 70,
   "metadata": {},
   "outputs": [
    {
     "data": {
      "text/plain": [
       "Exp Type\n",
       "Bills            2706391\n",
       "Fuel             2332121\n",
       "Food             2325081\n",
       "Entertainment    2081605\n",
       "Grocery          1994947\n",
       "Travel            374276\n",
       "Name: Amount_usd, dtype: Int64"
      ]
     },
     "execution_count": 70,
     "metadata": {},
     "output_type": "execute_result"
    }
   ],
   "source": [
    "gold_expense = card_type_expense.loc['Gold',:].sort_values(ascending = False)\n",
    "gold_expense"
   ]
  },
  {
   "cell_type": "code",
   "execution_count": 71,
   "metadata": {},
   "outputs": [
    {
     "data": {
      "image/png": "[encoded data removed]",
      "text/plain": [
       "<Figure size 864x432 with 1 Axes>"
      ]
     },
     "metadata": {
      "needs_background": "light"
     },
     "output_type": "display_data"
    }
   ],
   "source": [
    "plt.figure(figsize = (12,6))\n",
    "plt.bar(x = gold_expense.index,\n",
    "        height = gold_expense.values,\n",
    "        color = 'Grey')\n",
    "plt.xlabel('Exp Type', fontweight = 'bold')\n",
    "plt.ylabel('Amount in usd (million)', fontweight = 'bold')\n",
    "plt.yticks(ticks=plt.yticks()[0], labels=plt.yticks()[0].astype(int))\n",
    "plt.title('Expense type used by gold card type', fontweight = 'bold', fontsize = 12)\n",
    "plt.show()"
   ]
  },
  {
   "cell_type": "code",
   "execution_count": 72,
   "metadata": {},
   "outputs": [
    {
     "data": {
      "text/plain": [
       "Exp Type\n",
       "Bills            2713397\n",
       "Food             2474977\n",
       "Fuel             2253588\n",
       "Grocery          2240800\n",
       "Entertainment    2143783\n",
       "Travel            329991\n",
       "Name: Amount_usd, dtype: Int64"
      ]
     },
     "execution_count": 72,
     "metadata": {},
     "output_type": "execute_result"
    }
   ],
   "source": [
    "signature_expense = card_type_expense.loc['Signature', :].sort_values(ascending = False)\n",
    "signature_expense"
   ]
  },
  {
   "cell_type": "code",
   "execution_count": 73,
   "metadata": {},
   "outputs": [
    {
     "data": {
      "image/png": "[encoded data removed]",
      "text/plain": [
       "<Figure size 864x432 with 1 Axes>"
      ]
     },
     "metadata": {
      "needs_background": "light"
     },
     "output_type": "display_data"
    }
   ],
   "source": [
    "plt.figure(figsize = (12,6))\n",
    "plt.bar(x = signature_expense.index,\n",
    "        height = signature_expense.values,\n",
    "        color = 'Grey')\n",
    "plt.xlabel('Exp Type', fontweight = 'bold')\n",
    "plt.ylabel('Amount in usd (million)', fontweight = 'bold')\n",
    "plt.yticks(ticks=plt.yticks()[0], labels=plt.yticks()[0].astype(int))\n",
    "plt.title('Expense type used by signature card type', fontweight = 'bold', fontsize = 12)\n",
    "plt.show()"
   ]
  },
  {
   "cell_type": "code",
   "execution_count": 74,
   "metadata": {},
   "outputs": [
    {
     "data": {
      "text/plain": [
       "Exp Type\n",
       "Bills            2664329\n",
       "Food             2523826\n",
       "Fuel             2328843\n",
       "Entertainment    2227318\n",
       "Grocery          2056331\n",
       "Travel            291046\n",
       "Name: Amount_usd, dtype: Int64"
      ]
     },
     "execution_count": 74,
     "metadata": {},
     "output_type": "execute_result"
    }
   ],
   "source": [
    "platinum_expense = card_type_expense.loc['Platinum', :].sort_values(ascending = False)\n",
    "platinum_expense"
   ]
  },
  {
   "cell_type": "code",
   "execution_count": 75,
   "metadata": {},
   "outputs": [
    {
     "data": {
      "image/png": "[encoded data removed]",
      "text/plain": [
       "<Figure size 864x432 with 1 Axes>"
      ]
     },
     "metadata": {
      "needs_background": "light"
     },
     "output_type": "display_data"
    }
   ],
   "source": [
    "plt.figure(figsize = (12,6))\n",
    "plt.bar(x = platinum_expense.index,\n",
    "        height = platinum_expense.values,\n",
    "        color = 'Grey')\n",
    "plt.xlabel('Exp Type', fontweight = 'bold')\n",
    "plt.ylabel('Amount in usd (million)', fontweight = 'bold')\n",
    "plt.yticks(ticks=plt.yticks()[0], labels=plt.yticks()[0].astype(int))\n",
    "plt.title('Expense type used by platinum card type', fontweight = 'bold', fontsize = 12)\n",
    "plt.show()"
   ]
  }
 ],
 "metadata": {
  "kernelspec": {
   "display_name": "base",
   "language": "python",
   "name": "python3"
  },
  "language_info": {
   "codemirror_mode": {
    "name": "ipython",
    "version": 3
   },
   "file_extension": ".py",
   "mimetype": "text/x-python",
   "name": "python",
   "nbconvert_exporter": "python",
   "pygments_lexer": "ipython3",
   "version": "3.9.12"
  },
  "orig_nbformat": 4
 },
 "nbformat": 4,
 "nbformat_minor": 2
}
