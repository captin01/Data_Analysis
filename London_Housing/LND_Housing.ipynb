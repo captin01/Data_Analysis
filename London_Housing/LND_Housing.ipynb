{
 "cells": [
  {
   "attachments": {},
   "cell_type": "markdown",
   "metadata": {},
   "source": [
    "- <u> ***Import libraries*** </u>"
   ]
  },
  {
   "cell_type": "code",
   "execution_count": 1,
   "metadata": {},
   "outputs": [],
   "source": [
    "import pandas as pd\n",
    "import seaborn as sns\n",
    "import matplotlib.pyplot as plt "
   ]
  },
  {
   "attachments": {},
   "cell_type": "markdown",
   "metadata": {},
   "source": [
    "- <u>***Importing data***</u>"
   ]
  },
  {
   "cell_type": "code",
   "execution_count": 2,
   "metadata": {},
   "outputs": [
    {
     "data": {
      "text/html": [
       "<div>\n",
       "<style scoped>\n",
       "    .dataframe tbody tr th:only-of-type {\n",
       "        vertical-align: middle;\n",
       "    }\n",
       "\n",
       "    .dataframe tbody tr th {\n",
       "        vertical-align: top;\n",
       "    }\n",
       "\n",
       "    .dataframe thead th {\n",
       "        text-align: right;\n",
       "    }\n",
       "</style>\n",
       "<table border=\"1\" class=\"dataframe\">\n",
       "  <thead>\n",
       "    <tr style=\"text-align: right;\">\n",
       "      <th></th>\n",
       "      <th>date</th>\n",
       "      <th>area</th>\n",
       "      <th>average_price</th>\n",
       "      <th>code</th>\n",
       "      <th>houses_sold</th>\n",
       "      <th>no_of_crimes</th>\n",
       "    </tr>\n",
       "  </thead>\n",
       "  <tbody>\n",
       "    <tr>\n",
       "      <th>0</th>\n",
       "      <td>1/1/1995</td>\n",
       "      <td>city of london</td>\n",
       "      <td>91449</td>\n",
       "      <td>E09000001</td>\n",
       "      <td>17.0</td>\n",
       "      <td>NaN</td>\n",
       "    </tr>\n",
       "    <tr>\n",
       "      <th>1</th>\n",
       "      <td>2/1/1995</td>\n",
       "      <td>city of london</td>\n",
       "      <td>82203</td>\n",
       "      <td>E09000001</td>\n",
       "      <td>7.0</td>\n",
       "      <td>NaN</td>\n",
       "    </tr>\n",
       "    <tr>\n",
       "      <th>2</th>\n",
       "      <td>3/1/1995</td>\n",
       "      <td>city of london</td>\n",
       "      <td>79121</td>\n",
       "      <td>E09000001</td>\n",
       "      <td>14.0</td>\n",
       "      <td>NaN</td>\n",
       "    </tr>\n",
       "    <tr>\n",
       "      <th>3</th>\n",
       "      <td>4/1/1995</td>\n",
       "      <td>city of london</td>\n",
       "      <td>77101</td>\n",
       "      <td>E09000001</td>\n",
       "      <td>7.0</td>\n",
       "      <td>NaN</td>\n",
       "    </tr>\n",
       "    <tr>\n",
       "      <th>4</th>\n",
       "      <td>5/1/1995</td>\n",
       "      <td>city of london</td>\n",
       "      <td>84409</td>\n",
       "      <td>E09000001</td>\n",
       "      <td>10.0</td>\n",
       "      <td>NaN</td>\n",
       "    </tr>\n",
       "  </tbody>\n",
       "</table>\n",
       "</div>"
      ],
      "text/plain": [
       "       date            area  average_price       code  houses_sold  \\\n",
       "0  1/1/1995  city of london          91449  E09000001         17.0   \n",
       "1  2/1/1995  city of london          82203  E09000001          7.0   \n",
       "2  3/1/1995  city of london          79121  E09000001         14.0   \n",
       "3  4/1/1995  city of london          77101  E09000001          7.0   \n",
       "4  5/1/1995  city of london          84409  E09000001         10.0   \n",
       "\n",
       "   no_of_crimes  \n",
       "0           NaN  \n",
       "1           NaN  \n",
       "2           NaN  \n",
       "3           NaN  \n",
       "4           NaN  "
      ]
     },
     "execution_count": 2,
     "metadata": {},
     "output_type": "execute_result"
    }
   ],
   "source": [
    "hs_data = pd.read_csv(\"London_Housing_Data.csv\")\n",
    "hs_data.head() "
   ]
  },
  {
   "attachments": {},
   "cell_type": "markdown",
   "metadata": {},
   "source": [
    "- <u> ***Checking shape*** </u>"
   ]
  },
  {
   "cell_type": "code",
   "execution_count": 16,
   "metadata": {},
   "outputs": [
    {
     "data": {
      "text/plain": [
       "(13549, 6)"
      ]
     },
     "execution_count": 16,
     "metadata": {},
     "output_type": "execute_result"
    }
   ],
   "source": [
    "hs_data.shape\n"
   ]
  },
  {
   "attachments": {},
   "cell_type": "markdown",
   "metadata": {},
   "source": [
    "- <u> ***Checking for null values*** </u>"
   ]
  },
  {
   "cell_type": "code",
   "execution_count": 3,
   "metadata": {},
   "outputs": [
    {
     "data": {
      "image/png": "[encoded data removed]",
      "text/plain": [
       "<Figure size 864x432 with 2 Axes>"
      ]
     },
     "metadata": {
      "needs_background": "light"
     },
     "output_type": "display_data"
    }
   ],
   "source": [
    "#snsheatmap\n",
    "plt.figure(figsize = (12, 6))\n",
    "sns.heatmap(hs_data.isnull(),\n",
    "            cmap='Purples')\n",
    "plt.ylabel('index position', fontweight = 'bold')\n",
    "plt.xlabel('Columns', fontweight = 'bold')\n",
    "plt.show()"
   ]
  },
  {
   "attachments": {},
   "cell_type": "markdown",
   "metadata": {},
   "source": [
    "- <u> ***Filling_values*** </u>"
   ]
  },
  {
   "cell_type": "code",
   "execution_count": 4,
   "metadata": {},
   "outputs": [
    {
     "data": {
      "text/plain": [
       "132163.0"
      ]
     },
     "execution_count": 4,
     "metadata": {},
     "output_type": "execute_result"
    }
   ],
   "source": [
    "max_hs = hs_data.houses_sold.max()\n",
    "max_hs"
   ]
  },
  {
   "cell_type": "code",
   "execution_count": 5,
   "metadata": {},
   "outputs": [
    {
     "data": {
      "text/plain": [
       "2.0"
      ]
     },
     "execution_count": 5,
     "metadata": {},
     "output_type": "execute_result"
    }
   ],
   "source": [
    "min_hs = hs_data.houses_sold.min()\n",
    "min_hs"
   ]
  },
  {
   "cell_type": "code",
   "execution_count": 6,
   "metadata": {},
   "outputs": [
    {
     "data": {
      "text/plain": [
       "7461.0"
      ]
     },
     "execution_count": 6,
     "metadata": {},
     "output_type": "execute_result"
    }
   ],
   "source": [
    "max_crime = hs_data.no_of_crimes.max()\n",
    "max_crime "
   ]
  },
  {
   "cell_type": "code",
   "execution_count": 7,
   "metadata": {},
   "outputs": [
    {
     "data": {
      "text/plain": [
       "2158.3520634493884"
      ]
     },
     "execution_count": 7,
     "metadata": {},
     "output_type": "execute_result"
    }
   ],
   "source": [
    "mean_crime = hs_data.no_of_crimes.mean()\n",
    "mean_crime"
   ]
  },
  {
   "cell_type": "code",
   "execution_count": 8,
   "metadata": {},
   "outputs": [
    {
     "data": {
      "text/plain": [
       "date              0\n",
       "area              0\n",
       "average_price     0\n",
       "code              0\n",
       "houses_sold      94\n",
       "no_of_crimes      0\n",
       "dtype: int64"
      ]
     },
     "execution_count": 8,
     "metadata": {},
     "output_type": "execute_result"
    }
   ],
   "source": [
    "hs_data['no_of_crimes'].fillna(mean_crime, inplace=True)\n",
    "hs_data.isnull().sum()\n"
   ]
  },
  {
   "cell_type": "code",
   "execution_count": 52,
   "metadata": {},
   "outputs": [],
   "source": [
    "hs_data.loc[hs_data['no_of_crimes'] == 0, 'no_of_crimes'] = mean_crime\n"
   ]
  },
  {
   "cell_type": "code",
   "execution_count": 53,
   "metadata": {},
   "outputs": [
    {
     "data": {
      "text/plain": [
       "count    13549.000000\n",
       "mean      2174.760470\n",
       "std        640.885918\n",
       "min          3.000000\n",
       "25%       2079.000000\n",
       "50%       2158.000000\n",
       "75%       2210.000000\n",
       "max       7461.000000\n",
       "Name: no_of_crimes, dtype: float64"
      ]
     },
     "execution_count": 53,
     "metadata": {},
     "output_type": "execute_result"
    }
   ],
   "source": [
    "hs_data.no_of_crimes.describe()"
   ]
  },
  {
   "cell_type": "code",
   "execution_count": 9,
   "metadata": {},
   "outputs": [],
   "source": [
    "mean_hs = hs_data.houses_sold.mean()"
   ]
  },
  {
   "cell_type": "code",
   "execution_count": 10,
   "metadata": {},
   "outputs": [
    {
     "data": {
      "text/plain": [
       "date             0\n",
       "area             0\n",
       "average_price    0\n",
       "code             0\n",
       "houses_sold      0\n",
       "no_of_crimes     0\n",
       "dtype: int64"
      ]
     },
     "execution_count": 10,
     "metadata": {},
     "output_type": "execute_result"
    }
   ],
   "source": [
    "hs_data['houses_sold'].fillna(mean_hs, inplace=True)\n",
    "hs_data.isnull().sum()\n"
   ]
  },
  {
   "attachments": {},
   "cell_type": "markdown",
   "metadata": {},
   "source": [
    "- <u> ***Checking for null values*** </u>"
   ]
  },
  {
   "cell_type": "code",
   "execution_count": 17,
   "metadata": {},
   "outputs": [
    {
     "data": {
      "text/plain": [
       "date             0\n",
       "area             0\n",
       "average_price    0\n",
       "code             0\n",
       "houses_sold      0\n",
       "no_of_crimes     0\n",
       "dtype: int64"
      ]
     },
     "execution_count": 17,
     "metadata": {},
     "output_type": "execute_result"
    }
   ],
   "source": [
    "hs_data.isnull().sum()"
   ]
  },
  {
   "attachments": {},
   "cell_type": "markdown",
   "metadata": {},
   "source": [
    "- <u> ***Using heat map to visualize missing data*** </u>"
   ]
  },
  {
   "cell_type": "code",
   "execution_count": 11,
   "metadata": {},
   "outputs": [
    {
     "data": {
      "image/png": "[encoded data removed]",
      "text/plain": [
       "<Figure size 864x432 with 2 Axes>"
      ]
     },
     "metadata": {
      "needs_background": "light"
     },
     "output_type": "display_data"
    }
   ],
   "source": [
    "plt.figure(figsize = (12, 6))\n",
    "sns.heatmap(hs_data.isnull(),\n",
    "            cmap='Purples')\n",
    "plt.ylabel('index position', fontweight = 'bold')\n",
    "plt.xlabel('Columns', fontweight = 'bold')\n",
    "plt.show()"
   ]
  },
  {
   "cell_type": "code",
   "execution_count": 12,
   "metadata": {},
   "outputs": [
    {
     "data": {
      "text/plain": [
       "0           17.000000\n",
       "1            7.000000\n",
       "2           14.000000\n",
       "3            7.000000\n",
       "4           10.000000\n",
       "             ...     \n",
       "13544    64605.000000\n",
       "13545    68677.000000\n",
       "13546    67814.000000\n",
       "13547     3893.994129\n",
       "13548     3893.994129\n",
       "Name: houses_sold, Length: 13549, dtype: float64"
      ]
     },
     "execution_count": 12,
     "metadata": {},
     "output_type": "execute_result"
    }
   ],
   "source": [
    "hs_data.houses_sold"
   ]
  },
  {
   "attachments": {},
   "cell_type": "markdown",
   "metadata": {},
   "source": [
    "- <u> ***Converting to whole numbers*** </u>"
   ]
  },
  {
   "cell_type": "code",
   "execution_count": 54,
   "metadata": {},
   "outputs": [
    {
     "data": {
      "text/html": [
       "<div>\n",
       "<style scoped>\n",
       "    .dataframe tbody tr th:only-of-type {\n",
       "        vertical-align: middle;\n",
       "    }\n",
       "\n",
       "    .dataframe tbody tr th {\n",
       "        vertical-align: top;\n",
       "    }\n",
       "\n",
       "    .dataframe thead th {\n",
       "        text-align: right;\n",
       "    }\n",
       "</style>\n",
       "<table border=\"1\" class=\"dataframe\">\n",
       "  <thead>\n",
       "    <tr style=\"text-align: right;\">\n",
       "      <th></th>\n",
       "      <th>date</th>\n",
       "      <th>area</th>\n",
       "      <th>average_price</th>\n",
       "      <th>code</th>\n",
       "      <th>houses_sold</th>\n",
       "      <th>no_of_crimes</th>\n",
       "      <th>year</th>\n",
       "    </tr>\n",
       "  </thead>\n",
       "  <tbody>\n",
       "    <tr>\n",
       "      <th>0</th>\n",
       "      <td>1995-01-01</td>\n",
       "      <td>city of london</td>\n",
       "      <td>91449</td>\n",
       "      <td>E09000001</td>\n",
       "      <td>17</td>\n",
       "      <td>2158.0</td>\n",
       "      <td>1995</td>\n",
       "    </tr>\n",
       "    <tr>\n",
       "      <th>1</th>\n",
       "      <td>1995-02-01</td>\n",
       "      <td>city of london</td>\n",
       "      <td>82203</td>\n",
       "      <td>E09000001</td>\n",
       "      <td>7</td>\n",
       "      <td>2158.0</td>\n",
       "      <td>1995</td>\n",
       "    </tr>\n",
       "    <tr>\n",
       "      <th>2</th>\n",
       "      <td>1995-03-01</td>\n",
       "      <td>city of london</td>\n",
       "      <td>79121</td>\n",
       "      <td>E09000001</td>\n",
       "      <td>14</td>\n",
       "      <td>2158.0</td>\n",
       "      <td>1995</td>\n",
       "    </tr>\n",
       "    <tr>\n",
       "      <th>3</th>\n",
       "      <td>1995-04-01</td>\n",
       "      <td>city of london</td>\n",
       "      <td>77101</td>\n",
       "      <td>E09000001</td>\n",
       "      <td>7</td>\n",
       "      <td>2158.0</td>\n",
       "      <td>1995</td>\n",
       "    </tr>\n",
       "    <tr>\n",
       "      <th>4</th>\n",
       "      <td>1995-05-01</td>\n",
       "      <td>city of london</td>\n",
       "      <td>84409</td>\n",
       "      <td>E09000001</td>\n",
       "      <td>10</td>\n",
       "      <td>2158.0</td>\n",
       "      <td>1995</td>\n",
       "    </tr>\n",
       "    <tr>\n",
       "      <th>...</th>\n",
       "      <td>...</td>\n",
       "      <td>...</td>\n",
       "      <td>...</td>\n",
       "      <td>...</td>\n",
       "      <td>...</td>\n",
       "      <td>...</td>\n",
       "      <td>...</td>\n",
       "    </tr>\n",
       "    <tr>\n",
       "      <th>13544</th>\n",
       "      <td>2019-09-01</td>\n",
       "      <td>england</td>\n",
       "      <td>249942</td>\n",
       "      <td>E92000001</td>\n",
       "      <td>64605</td>\n",
       "      <td>2158.0</td>\n",
       "      <td>2019</td>\n",
       "    </tr>\n",
       "    <tr>\n",
       "      <th>13545</th>\n",
       "      <td>2019-10-01</td>\n",
       "      <td>england</td>\n",
       "      <td>249376</td>\n",
       "      <td>E92000001</td>\n",
       "      <td>68677</td>\n",
       "      <td>2158.0</td>\n",
       "      <td>2019</td>\n",
       "    </tr>\n",
       "    <tr>\n",
       "      <th>13546</th>\n",
       "      <td>2019-11-01</td>\n",
       "      <td>england</td>\n",
       "      <td>248515</td>\n",
       "      <td>E92000001</td>\n",
       "      <td>67814</td>\n",
       "      <td>2158.0</td>\n",
       "      <td>2019</td>\n",
       "    </tr>\n",
       "    <tr>\n",
       "      <th>13547</th>\n",
       "      <td>2019-12-01</td>\n",
       "      <td>england</td>\n",
       "      <td>250410</td>\n",
       "      <td>E92000001</td>\n",
       "      <td>3893</td>\n",
       "      <td>2158.0</td>\n",
       "      <td>2019</td>\n",
       "    </tr>\n",
       "    <tr>\n",
       "      <th>13548</th>\n",
       "      <td>2020-01-01</td>\n",
       "      <td>england</td>\n",
       "      <td>247355</td>\n",
       "      <td>E92000001</td>\n",
       "      <td>3893</td>\n",
       "      <td>2158.0</td>\n",
       "      <td>2020</td>\n",
       "    </tr>\n",
       "  </tbody>\n",
       "</table>\n",
       "<p>13549 rows × 7 columns</p>\n",
       "</div>"
      ],
      "text/plain": [
       "            date            area  average_price       code  houses_sold  \\\n",
       "0     1995-01-01  city of london          91449  E09000001           17   \n",
       "1     1995-02-01  city of london          82203  E09000001            7   \n",
       "2     1995-03-01  city of london          79121  E09000001           14   \n",
       "3     1995-04-01  city of london          77101  E09000001            7   \n",
       "4     1995-05-01  city of london          84409  E09000001           10   \n",
       "...          ...             ...            ...        ...          ...   \n",
       "13544 2019-09-01         england         249942  E92000001        64605   \n",
       "13545 2019-10-01         england         249376  E92000001        68677   \n",
       "13546 2019-11-01         england         248515  E92000001        67814   \n",
       "13547 2019-12-01         england         250410  E92000001         3893   \n",
       "13548 2020-01-01         england         247355  E92000001         3893   \n",
       "\n",
       "       no_of_crimes  year  \n",
       "0            2158.0  1995  \n",
       "1            2158.0  1995  \n",
       "2            2158.0  1995  \n",
       "3            2158.0  1995  \n",
       "4            2158.0  1995  \n",
       "...             ...   ...  \n",
       "13544        2158.0  2019  \n",
       "13545        2158.0  2019  \n",
       "13546        2158.0  2019  \n",
       "13547        2158.0  2019  \n",
       "13548        2158.0  2020  \n",
       "\n",
       "[13549 rows x 7 columns]"
      ]
     },
     "execution_count": 54,
     "metadata": {},
     "output_type": "execute_result"
    }
   ],
   "source": [
    "#converting houses_sold values into whole numbers \n",
    "hs_data['houses_sold'] = hs_data['houses_sold'].astype(int)\n",
    "hs_data"
   ]
  },
  {
   "cell_type": "code",
   "execution_count": 55,
   "metadata": {},
   "outputs": [
    {
     "data": {
      "text/html": [
       "<div>\n",
       "<style scoped>\n",
       "    .dataframe tbody tr th:only-of-type {\n",
       "        vertical-align: middle;\n",
       "    }\n",
       "\n",
       "    .dataframe tbody tr th {\n",
       "        vertical-align: top;\n",
       "    }\n",
       "\n",
       "    .dataframe thead th {\n",
       "        text-align: right;\n",
       "    }\n",
       "</style>\n",
       "<table border=\"1\" class=\"dataframe\">\n",
       "  <thead>\n",
       "    <tr style=\"text-align: right;\">\n",
       "      <th></th>\n",
       "      <th>date</th>\n",
       "      <th>area</th>\n",
       "      <th>average_price</th>\n",
       "      <th>code</th>\n",
       "      <th>houses_sold</th>\n",
       "      <th>no_of_crimes</th>\n",
       "      <th>year</th>\n",
       "    </tr>\n",
       "  </thead>\n",
       "  <tbody>\n",
       "    <tr>\n",
       "      <th>0</th>\n",
       "      <td>1995-01-01</td>\n",
       "      <td>city of london</td>\n",
       "      <td>91449</td>\n",
       "      <td>E09000001</td>\n",
       "      <td>17</td>\n",
       "      <td>2158</td>\n",
       "      <td>1995</td>\n",
       "    </tr>\n",
       "    <tr>\n",
       "      <th>1</th>\n",
       "      <td>1995-02-01</td>\n",
       "      <td>city of london</td>\n",
       "      <td>82203</td>\n",
       "      <td>E09000001</td>\n",
       "      <td>7</td>\n",
       "      <td>2158</td>\n",
       "      <td>1995</td>\n",
       "    </tr>\n",
       "    <tr>\n",
       "      <th>2</th>\n",
       "      <td>1995-03-01</td>\n",
       "      <td>city of london</td>\n",
       "      <td>79121</td>\n",
       "      <td>E09000001</td>\n",
       "      <td>14</td>\n",
       "      <td>2158</td>\n",
       "      <td>1995</td>\n",
       "    </tr>\n",
       "    <tr>\n",
       "      <th>3</th>\n",
       "      <td>1995-04-01</td>\n",
       "      <td>city of london</td>\n",
       "      <td>77101</td>\n",
       "      <td>E09000001</td>\n",
       "      <td>7</td>\n",
       "      <td>2158</td>\n",
       "      <td>1995</td>\n",
       "    </tr>\n",
       "    <tr>\n",
       "      <th>4</th>\n",
       "      <td>1995-05-01</td>\n",
       "      <td>city of london</td>\n",
       "      <td>84409</td>\n",
       "      <td>E09000001</td>\n",
       "      <td>10</td>\n",
       "      <td>2158</td>\n",
       "      <td>1995</td>\n",
       "    </tr>\n",
       "    <tr>\n",
       "      <th>...</th>\n",
       "      <td>...</td>\n",
       "      <td>...</td>\n",
       "      <td>...</td>\n",
       "      <td>...</td>\n",
       "      <td>...</td>\n",
       "      <td>...</td>\n",
       "      <td>...</td>\n",
       "    </tr>\n",
       "    <tr>\n",
       "      <th>13544</th>\n",
       "      <td>2019-09-01</td>\n",
       "      <td>england</td>\n",
       "      <td>249942</td>\n",
       "      <td>E92000001</td>\n",
       "      <td>64605</td>\n",
       "      <td>2158</td>\n",
       "      <td>2019</td>\n",
       "    </tr>\n",
       "    <tr>\n",
       "      <th>13545</th>\n",
       "      <td>2019-10-01</td>\n",
       "      <td>england</td>\n",
       "      <td>249376</td>\n",
       "      <td>E92000001</td>\n",
       "      <td>68677</td>\n",
       "      <td>2158</td>\n",
       "      <td>2019</td>\n",
       "    </tr>\n",
       "    <tr>\n",
       "      <th>13546</th>\n",
       "      <td>2019-11-01</td>\n",
       "      <td>england</td>\n",
       "      <td>248515</td>\n",
       "      <td>E92000001</td>\n",
       "      <td>67814</td>\n",
       "      <td>2158</td>\n",
       "      <td>2019</td>\n",
       "    </tr>\n",
       "    <tr>\n",
       "      <th>13547</th>\n",
       "      <td>2019-12-01</td>\n",
       "      <td>england</td>\n",
       "      <td>250410</td>\n",
       "      <td>E92000001</td>\n",
       "      <td>3893</td>\n",
       "      <td>2158</td>\n",
       "      <td>2019</td>\n",
       "    </tr>\n",
       "    <tr>\n",
       "      <th>13548</th>\n",
       "      <td>2020-01-01</td>\n",
       "      <td>england</td>\n",
       "      <td>247355</td>\n",
       "      <td>E92000001</td>\n",
       "      <td>3893</td>\n",
       "      <td>2158</td>\n",
       "      <td>2020</td>\n",
       "    </tr>\n",
       "  </tbody>\n",
       "</table>\n",
       "<p>13549 rows × 7 columns</p>\n",
       "</div>"
      ],
      "text/plain": [
       "            date            area  average_price       code  houses_sold  \\\n",
       "0     1995-01-01  city of london          91449  E09000001           17   \n",
       "1     1995-02-01  city of london          82203  E09000001            7   \n",
       "2     1995-03-01  city of london          79121  E09000001           14   \n",
       "3     1995-04-01  city of london          77101  E09000001            7   \n",
       "4     1995-05-01  city of london          84409  E09000001           10   \n",
       "...          ...             ...            ...        ...          ...   \n",
       "13544 2019-09-01         england         249942  E92000001        64605   \n",
       "13545 2019-10-01         england         249376  E92000001        68677   \n",
       "13546 2019-11-01         england         248515  E92000001        67814   \n",
       "13547 2019-12-01         england         250410  E92000001         3893   \n",
       "13548 2020-01-01         england         247355  E92000001         3893   \n",
       "\n",
       "       no_of_crimes  year  \n",
       "0              2158  1995  \n",
       "1              2158  1995  \n",
       "2              2158  1995  \n",
       "3              2158  1995  \n",
       "4              2158  1995  \n",
       "...             ...   ...  \n",
       "13544          2158  2019  \n",
       "13545          2158  2019  \n",
       "13546          2158  2019  \n",
       "13547          2158  2019  \n",
       "13548          2158  2020  \n",
       "\n",
       "[13549 rows x 7 columns]"
      ]
     },
     "execution_count": 55,
     "metadata": {},
     "output_type": "execute_result"
    }
   ],
   "source": [
    "#converting 'no_of_crimes' values into whole numbers \n",
    "hs_data['no_of_crimes'] = hs_data['no_of_crimes'].astype(int)\n",
    "hs_data"
   ]
  },
  {
   "cell_type": "code",
   "execution_count": 56,
   "metadata": {},
   "outputs": [
    {
     "data": {
      "text/plain": [
       "date             datetime64[ns]\n",
       "area                     object\n",
       "average_price             int64\n",
       "code                     object\n",
       "houses_sold               int32\n",
       "no_of_crimes              int32\n",
       "year                      int64\n",
       "dtype: object"
      ]
     },
     "execution_count": 56,
     "metadata": {},
     "output_type": "execute_result"
    }
   ],
   "source": [
    "hs_data.dtypes"
   ]
  },
  {
   "attachments": {},
   "cell_type": "markdown",
   "metadata": {},
   "source": [
    "- <u> ***Changing date (object) into date_time format*** </u>"
   ]
  },
  {
   "cell_type": "code",
   "execution_count": 24,
   "metadata": {},
   "outputs": [],
   "source": [
    "#df.column = pd.to_datetime()\n",
    "hs_data.date = pd.to_datetime(hs_data.date)"
   ]
  },
  {
   "cell_type": "code",
   "execution_count": 25,
   "metadata": {},
   "outputs": [
    {
     "data": {
      "text/plain": [
       "date             datetime64[ns]\n",
       "area                     object\n",
       "average_price             int64\n",
       "code                     object\n",
       "houses_sold               int32\n",
       "no_of_crimes              int32\n",
       "dtype: object"
      ]
     },
     "execution_count": 25,
     "metadata": {},
     "output_type": "execute_result"
    }
   ],
   "source": [
    "hs_data.dtypes"
   ]
  },
  {
   "attachments": {},
   "cell_type": "markdown",
   "metadata": {},
   "source": [
    "- <u> ***Adding new column ('Year')*** </u>"
   ]
  },
  {
   "cell_type": "code",
   "execution_count": 26,
   "metadata": {},
   "outputs": [],
   "source": [
    "#data['newcolumn'] = df.previousDate_column.dt.year\n",
    "hs_data['year'] = hs_data.date.dt.year "
   ]
  },
  {
   "cell_type": "code",
   "execution_count": 27,
   "metadata": {},
   "outputs": [
    {
     "data": {
      "text/plain": [
       "date             datetime64[ns]\n",
       "area                     object\n",
       "average_price             int64\n",
       "code                     object\n",
       "houses_sold               int32\n",
       "no_of_crimes              int32\n",
       "year                      int64\n",
       "dtype: object"
      ]
     },
     "execution_count": 27,
     "metadata": {},
     "output_type": "execute_result"
    }
   ],
   "source": [
    "hs_data.dtypes "
   ]
  },
  {
   "cell_type": "code",
   "execution_count": 28,
   "metadata": {},
   "outputs": [
    {
     "data": {
      "text/plain": [
       "0        1995\n",
       "1        1995\n",
       "2        1995\n",
       "3        1995\n",
       "4        1995\n",
       "         ... \n",
       "13544    2019\n",
       "13545    2019\n",
       "13546    2019\n",
       "13547    2019\n",
       "13548    2020\n",
       "Name: year, Length: 13549, dtype: int64"
      ]
     },
     "execution_count": 28,
     "metadata": {},
     "output_type": "execute_result"
    }
   ],
   "source": [
    "hs_data['year']"
   ]
  },
  {
   "attachments": {},
   "cell_type": "markdown",
   "metadata": {},
   "source": [
    "- <u> ***Yearly info*** </u>"
   ]
  },
  {
   "cell_type": "code",
   "execution_count": 57,
   "metadata": {},
   "outputs": [
    {
     "data": {
      "text/plain": [
       "year\n",
       "1995     40975327\n",
       "1996     42750399\n",
       "1997     48393909\n",
       "1998     55146914\n",
       "1999     61698333\n",
       "2000     75588899\n",
       "2001     84743472\n",
       "2002     98382995\n",
       "2003    110753759\n",
       "2004    121286549\n",
       "2005    125989837\n",
       "2006    134623679\n",
       "2007    154409911\n",
       "2008    155238645\n",
       "2009    140020324\n",
       "2010    155281949\n",
       "2011    159202335\n",
       "2012    167081131\n",
       "2013    180678365\n",
       "2014    209632532\n",
       "2015    227532294\n",
       "2016    245637609\n",
       "2017    253788627\n",
       "2018    252309964\n",
       "2019    248430596\n",
       "2020     20849849\n",
       "Name: average_price, dtype: int64"
      ]
     },
     "execution_count": 57,
     "metadata": {},
     "output_type": "execute_result"
    }
   ],
   "source": [
    "total_avg_year = hs_data.groupby('year')['average_price'].sum()\n",
    "total_avg_year"
   ]
  },
  {
   "cell_type": "code",
   "execution_count": 58,
   "metadata": {},
   "outputs": [
    {
     "data": {
      "image/png": "[encoded data removed]",
      "text/plain": [
       "<Figure size 1080x360 with 1 Axes>"
      ]
     },
     "metadata": {
      "needs_background": "light"
     },
     "output_type": "display_data"
    }
   ],
   "source": [
    "#Average prices per year \n",
    "plt.figure(figsize = (15,5))\n",
    "plt.plot(total_avg_year.index,\n",
    "         total_avg_year.values)\n",
    "plt.ylabel('Average price', fontweight = 'bold')\n",
    "plt.xlabel('Years', fontweight = 'bold')\n",
    "plt.title('Comparison of average price per year', fontsize = 12, fontweight = 'bold')\n",
    "plt.show()"
   ]
  },
  {
   "cell_type": "code",
   "execution_count": 31,
   "metadata": {},
   "outputs": [
    {
     "data": {
      "text/plain": [
       "year\n",
       "1995     200722\n",
       "1996     223197\n",
       "1997     265112\n",
       "1998     277600\n",
       "1999     354241\n",
       "2000     397353\n",
       "2001     451028\n",
       "2002     497538\n",
       "2003     488704\n",
       "2004     559286\n",
       "2005     555847\n",
       "2006     644541\n",
       "2007     830950\n",
       "2008     832753\n",
       "2009     782459\n",
       "2010     884674\n",
       "2011     959520\n",
       "2012    1077366\n",
       "2013    1217729\n",
       "2014    1365050\n",
       "2015    1353679\n",
       "2016    1357231\n",
       "2017    1412255\n",
       "2018    1463378\n",
       "2019    1294113\n",
       "2020    1178166\n",
       "Name: average_price, dtype: int64"
      ]
     },
     "execution_count": 31,
     "metadata": {},
     "output_type": "execute_result"
    }
   ],
   "source": [
    "#Highest house price sold per year\n",
    "avg_max_year_price = hs_data.groupby('year').average_price.max()\n",
    "avg_max_year_price"
   ]
  },
  {
   "cell_type": "code",
   "execution_count": 32,
   "metadata": {},
   "outputs": [
    {
     "data": {
      "image/png": "[encoded data removed]",
      "text/plain": [
       "<Figure size 864x432 with 1 Axes>"
      ]
     },
     "metadata": {
      "needs_background": "light"
     },
     "output_type": "display_data"
    }
   ],
   "source": [
    "#Plotting line graph to picture difference in price over the years.\n",
    "plt.figure(figsize = (12,6))\n",
    "plt.plot(avg_max_year_price.index,\n",
    "         avg_max_year_price.values)\n",
    "plt.ylabel('Avg max price', fontweight = 'bold')\n",
    "plt.xlabel('Years', fontweight = 'bold')\n",
    "plt.title('Highest amount sold per year', fontsize = 12, fontweight = 'bold')\n",
    "plt.show()"
   ]
  },
  {
   "cell_type": "code",
   "execution_count": 60,
   "metadata": {},
   "outputs": [
    {
     "data": {
      "text/plain": [
       "2029216.6538461538"
      ]
     },
     "execution_count": 60,
     "metadata": {},
     "output_type": "execute_result"
    }
   ],
   "source": [
    "(hs_data.groupby('year')['houses_sold'].sum()).mean() "
   ]
  },
  {
   "cell_type": "code",
   "execution_count": 59,
   "metadata": {},
   "outputs": [
    {
     "data": {
      "image/png": "[encoded data removed]",
      "text/plain": [
       "<Figure size 1080x360 with 1 Axes>"
      ]
     },
     "metadata": {
      "needs_background": "light"
     },
     "output_type": "display_data"
    }
   ],
   "source": [
    "#Total houses sold per year\n",
    "total_hs_sold = hs_data.groupby('year')['houses_sold'].sum()\n",
    "\n",
    "plt.figure(figsize = (15,5))\n",
    "plt.plot(total_hs_sold.index,\n",
    "         total_hs_sold.values)\n",
    "plt.ylabel('Total houses sold', fontweight = 'bold')\n",
    "plt.xlabel('Years', fontweight = 'bold')\n",
    "plt.title('Comparison of total houses sold  per year', fontsize = 12, fontweight = 'bold')\n",
    "plt.show()"
   ]
  },
  {
   "cell_type": "code",
   "execution_count": 35,
   "metadata": {},
   "outputs": [
    {
     "data": {
      "text/html": [
       "<div>\n",
       "<style scoped>\n",
       "    .dataframe tbody tr th:only-of-type {\n",
       "        vertical-align: middle;\n",
       "    }\n",
       "\n",
       "    .dataframe tbody tr th {\n",
       "        vertical-align: top;\n",
       "    }\n",
       "\n",
       "    .dataframe thead th {\n",
       "        text-align: right;\n",
       "    }\n",
       "</style>\n",
       "<table border=\"1\" class=\"dataframe\">\n",
       "  <thead>\n",
       "    <tr style=\"text-align: right;\">\n",
       "      <th></th>\n",
       "      <th>date</th>\n",
       "      <th>area</th>\n",
       "      <th>average_price</th>\n",
       "      <th>code</th>\n",
       "      <th>houses_sold</th>\n",
       "      <th>no_of_crimes</th>\n",
       "      <th>year</th>\n",
       "    </tr>\n",
       "  </thead>\n",
       "  <tbody>\n",
       "    <tr>\n",
       "      <th>300</th>\n",
       "      <td>2020-01-01</td>\n",
       "      <td>city of london</td>\n",
       "      <td>775309</td>\n",
       "      <td>E09000001</td>\n",
       "      <td>3893</td>\n",
       "      <td>2158</td>\n",
       "      <td>2020</td>\n",
       "    </tr>\n",
       "    <tr>\n",
       "      <th>601</th>\n",
       "      <td>2020-01-01</td>\n",
       "      <td>barking and dagenham</td>\n",
       "      <td>301057</td>\n",
       "      <td>E09000002</td>\n",
       "      <td>3893</td>\n",
       "      <td>1680</td>\n",
       "      <td>2020</td>\n",
       "    </tr>\n",
       "    <tr>\n",
       "      <th>902</th>\n",
       "      <td>2020-01-01</td>\n",
       "      <td>barnet</td>\n",
       "      <td>520682</td>\n",
       "      <td>E09000003</td>\n",
       "      <td>3893</td>\n",
       "      <td>2621</td>\n",
       "      <td>2020</td>\n",
       "    </tr>\n",
       "    <tr>\n",
       "      <th>1203</th>\n",
       "      <td>2020-01-01</td>\n",
       "      <td>bexley</td>\n",
       "      <td>331683</td>\n",
       "      <td>E09000004</td>\n",
       "      <td>3893</td>\n",
       "      <td>1616</td>\n",
       "      <td>2020</td>\n",
       "    </tr>\n",
       "    <tr>\n",
       "      <th>1504</th>\n",
       "      <td>2020-01-01</td>\n",
       "      <td>brent</td>\n",
       "      <td>408523</td>\n",
       "      <td>E09000005</td>\n",
       "      <td>3893</td>\n",
       "      <td>2510</td>\n",
       "      <td>2020</td>\n",
       "    </tr>\n",
       "    <tr>\n",
       "      <th>1805</th>\n",
       "      <td>2020-01-01</td>\n",
       "      <td>bromley</td>\n",
       "      <td>436757</td>\n",
       "      <td>E09000006</td>\n",
       "      <td>3893</td>\n",
       "      <td>2138</td>\n",
       "      <td>2020</td>\n",
       "    </tr>\n",
       "    <tr>\n",
       "      <th>2106</th>\n",
       "      <td>2020-01-01</td>\n",
       "      <td>camden</td>\n",
       "      <td>810298</td>\n",
       "      <td>E09000007</td>\n",
       "      <td>3893</td>\n",
       "      <td>3214</td>\n",
       "      <td>2020</td>\n",
       "    </tr>\n",
       "    <tr>\n",
       "      <th>2407</th>\n",
       "      <td>2020-01-01</td>\n",
       "      <td>croydon</td>\n",
       "      <td>368662</td>\n",
       "      <td>E09000008</td>\n",
       "      <td>3893</td>\n",
       "      <td>3047</td>\n",
       "      <td>2020</td>\n",
       "    </tr>\n",
       "    <tr>\n",
       "      <th>2708</th>\n",
       "      <td>2020-01-01</td>\n",
       "      <td>ealing</td>\n",
       "      <td>473268</td>\n",
       "      <td>E09000009</td>\n",
       "      <td>3893</td>\n",
       "      <td>2697</td>\n",
       "      <td>2020</td>\n",
       "    </tr>\n",
       "    <tr>\n",
       "      <th>3012</th>\n",
       "      <td>2020-01-01</td>\n",
       "      <td>enfield</td>\n",
       "      <td>391365</td>\n",
       "      <td>E09000010</td>\n",
       "      <td>3893</td>\n",
       "      <td>2590</td>\n",
       "      <td>2020</td>\n",
       "    </tr>\n",
       "    <tr>\n",
       "      <th>3313</th>\n",
       "      <td>2020-01-01</td>\n",
       "      <td>greenwich</td>\n",
       "      <td>392699</td>\n",
       "      <td>E09000011</td>\n",
       "      <td>3893</td>\n",
       "      <td>2373</td>\n",
       "      <td>2020</td>\n",
       "    </tr>\n",
       "    <tr>\n",
       "      <th>3617</th>\n",
       "      <td>2020-01-01</td>\n",
       "      <td>hackney</td>\n",
       "      <td>571882</td>\n",
       "      <td>E09000012</td>\n",
       "      <td>3893</td>\n",
       "      <td>2753</td>\n",
       "      <td>2020</td>\n",
       "    </tr>\n",
       "    <tr>\n",
       "      <th>3918</th>\n",
       "      <td>2020-01-01</td>\n",
       "      <td>hammersmith and fulham</td>\n",
       "      <td>749337</td>\n",
       "      <td>E09000013</td>\n",
       "      <td>3893</td>\n",
       "      <td>1839</td>\n",
       "      <td>2020</td>\n",
       "    </tr>\n",
       "    <tr>\n",
       "      <th>4219</th>\n",
       "      <td>2020-01-01</td>\n",
       "      <td>haringey</td>\n",
       "      <td>578728</td>\n",
       "      <td>E09000014</td>\n",
       "      <td>3893</td>\n",
       "      <td>2453</td>\n",
       "      <td>2020</td>\n",
       "    </tr>\n",
       "    <tr>\n",
       "      <th>4520</th>\n",
       "      <td>2020-01-01</td>\n",
       "      <td>harrow</td>\n",
       "      <td>460121</td>\n",
       "      <td>E09000015</td>\n",
       "      <td>3893</td>\n",
       "      <td>1529</td>\n",
       "      <td>2020</td>\n",
       "    </tr>\n",
       "    <tr>\n",
       "      <th>4821</th>\n",
       "      <td>2020-01-01</td>\n",
       "      <td>havering</td>\n",
       "      <td>359188</td>\n",
       "      <td>E09000016</td>\n",
       "      <td>3893</td>\n",
       "      <td>1679</td>\n",
       "      <td>2020</td>\n",
       "    </tr>\n",
       "    <tr>\n",
       "      <th>5122</th>\n",
       "      <td>2020-01-01</td>\n",
       "      <td>hillingdon</td>\n",
       "      <td>413229</td>\n",
       "      <td>E09000017</td>\n",
       "      <td>3893</td>\n",
       "      <td>2272</td>\n",
       "      <td>2020</td>\n",
       "    </tr>\n",
       "    <tr>\n",
       "      <th>5423</th>\n",
       "      <td>2020-01-01</td>\n",
       "      <td>hounslow</td>\n",
       "      <td>412352</td>\n",
       "      <td>E09000018</td>\n",
       "      <td>3893</td>\n",
       "      <td>2268</td>\n",
       "      <td>2020</td>\n",
       "    </tr>\n",
       "    <tr>\n",
       "      <th>5724</th>\n",
       "      <td>2020-01-01</td>\n",
       "      <td>islington</td>\n",
       "      <td>673418</td>\n",
       "      <td>E09000019</td>\n",
       "      <td>3893</td>\n",
       "      <td>2597</td>\n",
       "      <td>2020</td>\n",
       "    </tr>\n",
       "    <tr>\n",
       "      <th>6025</th>\n",
       "      <td>2020-01-01</td>\n",
       "      <td>kensington and chelsea</td>\n",
       "      <td>1178166</td>\n",
       "      <td>E09000020</td>\n",
       "      <td>3893</td>\n",
       "      <td>1979</td>\n",
       "      <td>2020</td>\n",
       "    </tr>\n",
       "    <tr>\n",
       "      <th>6326</th>\n",
       "      <td>2020-01-01</td>\n",
       "      <td>kingston upon thames</td>\n",
       "      <td>483250</td>\n",
       "      <td>E09000021</td>\n",
       "      <td>3893</td>\n",
       "      <td>1124</td>\n",
       "      <td>2020</td>\n",
       "    </tr>\n",
       "    <tr>\n",
       "      <th>6627</th>\n",
       "      <td>2020-01-01</td>\n",
       "      <td>lambeth</td>\n",
       "      <td>526690</td>\n",
       "      <td>E09000022</td>\n",
       "      <td>3893</td>\n",
       "      <td>2913</td>\n",
       "      <td>2020</td>\n",
       "    </tr>\n",
       "    <tr>\n",
       "      <th>6928</th>\n",
       "      <td>2020-01-01</td>\n",
       "      <td>lewisham</td>\n",
       "      <td>412522</td>\n",
       "      <td>E09000023</td>\n",
       "      <td>3893</td>\n",
       "      <td>2406</td>\n",
       "      <td>2020</td>\n",
       "    </tr>\n",
       "    <tr>\n",
       "      <th>7229</th>\n",
       "      <td>2020-01-01</td>\n",
       "      <td>merton</td>\n",
       "      <td>507897</td>\n",
       "      <td>E09000024</td>\n",
       "      <td>3893</td>\n",
       "      <td>1267</td>\n",
       "      <td>2020</td>\n",
       "    </tr>\n",
       "    <tr>\n",
       "      <th>7530</th>\n",
       "      <td>2020-01-01</td>\n",
       "      <td>newham</td>\n",
       "      <td>368816</td>\n",
       "      <td>E09000025</td>\n",
       "      <td>3893</td>\n",
       "      <td>3011</td>\n",
       "      <td>2020</td>\n",
       "    </tr>\n",
       "    <tr>\n",
       "      <th>7831</th>\n",
       "      <td>2020-01-01</td>\n",
       "      <td>redbridge</td>\n",
       "      <td>418360</td>\n",
       "      <td>E09000026</td>\n",
       "      <td>3893</td>\n",
       "      <td>2061</td>\n",
       "      <td>2020</td>\n",
       "    </tr>\n",
       "    <tr>\n",
       "      <th>8132</th>\n",
       "      <td>2020-01-01</td>\n",
       "      <td>richmond upon thames</td>\n",
       "      <td>675114</td>\n",
       "      <td>E09000027</td>\n",
       "      <td>3893</td>\n",
       "      <td>1144</td>\n",
       "      <td>2020</td>\n",
       "    </tr>\n",
       "    <tr>\n",
       "      <th>8433</th>\n",
       "      <td>2020-01-01</td>\n",
       "      <td>southwark</td>\n",
       "      <td>502612</td>\n",
       "      <td>E09000028</td>\n",
       "      <td>3893</td>\n",
       "      <td>2958</td>\n",
       "      <td>2020</td>\n",
       "    </tr>\n",
       "    <tr>\n",
       "      <th>8734</th>\n",
       "      <td>2020-01-01</td>\n",
       "      <td>sutton</td>\n",
       "      <td>371626</td>\n",
       "      <td>E09000029</td>\n",
       "      <td>3893</td>\n",
       "      <td>1350</td>\n",
       "      <td>2020</td>\n",
       "    </tr>\n",
       "    <tr>\n",
       "      <th>9034</th>\n",
       "      <td>2020-01-01</td>\n",
       "      <td>tower hamlets</td>\n",
       "      <td>450669</td>\n",
       "      <td>E09000030</td>\n",
       "      <td>3893</td>\n",
       "      <td>2748</td>\n",
       "      <td>2020</td>\n",
       "    </tr>\n",
       "    <tr>\n",
       "      <th>9335</th>\n",
       "      <td>2020-01-01</td>\n",
       "      <td>waltham forest</td>\n",
       "      <td>452299</td>\n",
       "      <td>E09000031</td>\n",
       "      <td>3893</td>\n",
       "      <td>2074</td>\n",
       "      <td>2020</td>\n",
       "    </tr>\n",
       "    <tr>\n",
       "      <th>9636</th>\n",
       "      <td>2020-01-01</td>\n",
       "      <td>wandsworth</td>\n",
       "      <td>610256</td>\n",
       "      <td>E09000032</td>\n",
       "      <td>3893</td>\n",
       "      <td>2341</td>\n",
       "      <td>2020</td>\n",
       "    </tr>\n",
       "    <tr>\n",
       "      <th>9937</th>\n",
       "      <td>2020-01-01</td>\n",
       "      <td>westminster</td>\n",
       "      <td>1019028</td>\n",
       "      <td>E09000033</td>\n",
       "      <td>3893</td>\n",
       "      <td>6405</td>\n",
       "      <td>2020</td>\n",
       "    </tr>\n",
       "    <tr>\n",
       "      <th>10238</th>\n",
       "      <td>2020-01-01</td>\n",
       "      <td>inner london</td>\n",
       "      <td>581939</td>\n",
       "      <td>E13000001</td>\n",
       "      <td>3893</td>\n",
       "      <td>2158</td>\n",
       "      <td>2020</td>\n",
       "    </tr>\n",
       "    <tr>\n",
       "      <th>10539</th>\n",
       "      <td>2020-01-01</td>\n",
       "      <td>outer london</td>\n",
       "      <td>423006</td>\n",
       "      <td>E13000002</td>\n",
       "      <td>3893</td>\n",
       "      <td>2158</td>\n",
       "      <td>2020</td>\n",
       "    </tr>\n",
       "    <tr>\n",
       "      <th>10840</th>\n",
       "      <td>2020-01-01</td>\n",
       "      <td>north east</td>\n",
       "      <td>126592</td>\n",
       "      <td>E12000001</td>\n",
       "      <td>3893</td>\n",
       "      <td>2158</td>\n",
       "      <td>2020</td>\n",
       "    </tr>\n",
       "    <tr>\n",
       "      <th>11141</th>\n",
       "      <td>2020-01-01</td>\n",
       "      <td>north west</td>\n",
       "      <td>164769</td>\n",
       "      <td>E12000002</td>\n",
       "      <td>3893</td>\n",
       "      <td>2158</td>\n",
       "      <td>2020</td>\n",
       "    </tr>\n",
       "    <tr>\n",
       "      <th>11442</th>\n",
       "      <td>2020-01-01</td>\n",
       "      <td>yorks and the humber</td>\n",
       "      <td>165383</td>\n",
       "      <td>E12000003</td>\n",
       "      <td>3893</td>\n",
       "      <td>2158</td>\n",
       "      <td>2020</td>\n",
       "    </tr>\n",
       "    <tr>\n",
       "      <th>11743</th>\n",
       "      <td>2020-01-01</td>\n",
       "      <td>east midlands</td>\n",
       "      <td>195707</td>\n",
       "      <td>E12000004</td>\n",
       "      <td>3893</td>\n",
       "      <td>2158</td>\n",
       "      <td>2020</td>\n",
       "    </tr>\n",
       "    <tr>\n",
       "      <th>12044</th>\n",
       "      <td>2020-01-01</td>\n",
       "      <td>west midlands</td>\n",
       "      <td>200628</td>\n",
       "      <td>E12000005</td>\n",
       "      <td>3893</td>\n",
       "      <td>2158</td>\n",
       "      <td>2020</td>\n",
       "    </tr>\n",
       "    <tr>\n",
       "      <th>12345</th>\n",
       "      <td>2020-01-01</td>\n",
       "      <td>east of england</td>\n",
       "      <td>286999</td>\n",
       "      <td>E12000006</td>\n",
       "      <td>3893</td>\n",
       "      <td>2158</td>\n",
       "      <td>2020</td>\n",
       "    </tr>\n",
       "    <tr>\n",
       "      <th>12646</th>\n",
       "      <td>2020-01-01</td>\n",
       "      <td>london</td>\n",
       "      <td>476588</td>\n",
       "      <td>E12000007</td>\n",
       "      <td>3893</td>\n",
       "      <td>2158</td>\n",
       "      <td>2020</td>\n",
       "    </tr>\n",
       "    <tr>\n",
       "      <th>12946</th>\n",
       "      <td>2020-01-01</td>\n",
       "      <td>south east</td>\n",
       "      <td>320700</td>\n",
       "      <td>E12000008</td>\n",
       "      <td>3893</td>\n",
       "      <td>2158</td>\n",
       "      <td>2020</td>\n",
       "    </tr>\n",
       "    <tr>\n",
       "      <th>13247</th>\n",
       "      <td>2020-01-01</td>\n",
       "      <td>south west</td>\n",
       "      <td>254320</td>\n",
       "      <td>E12000009</td>\n",
       "      <td>3893</td>\n",
       "      <td>2158</td>\n",
       "      <td>2020</td>\n",
       "    </tr>\n",
       "    <tr>\n",
       "      <th>13548</th>\n",
       "      <td>2020-01-01</td>\n",
       "      <td>england</td>\n",
       "      <td>247355</td>\n",
       "      <td>E92000001</td>\n",
       "      <td>3893</td>\n",
       "      <td>2158</td>\n",
       "      <td>2020</td>\n",
       "    </tr>\n",
       "  </tbody>\n",
       "</table>\n",
       "</div>"
      ],
      "text/plain": [
       "            date                    area  average_price       code  \\\n",
       "300   2020-01-01          city of london         775309  E09000001   \n",
       "601   2020-01-01    barking and dagenham         301057  E09000002   \n",
       "902   2020-01-01                  barnet         520682  E09000003   \n",
       "1203  2020-01-01                  bexley         331683  E09000004   \n",
       "1504  2020-01-01                   brent         408523  E09000005   \n",
       "1805  2020-01-01                 bromley         436757  E09000006   \n",
       "2106  2020-01-01                  camden         810298  E09000007   \n",
       "2407  2020-01-01                 croydon         368662  E09000008   \n",
       "2708  2020-01-01                  ealing         473268  E09000009   \n",
       "3012  2020-01-01                 enfield         391365  E09000010   \n",
       "3313  2020-01-01               greenwich         392699  E09000011   \n",
       "3617  2020-01-01                 hackney         571882  E09000012   \n",
       "3918  2020-01-01  hammersmith and fulham         749337  E09000013   \n",
       "4219  2020-01-01                haringey         578728  E09000014   \n",
       "4520  2020-01-01                  harrow         460121  E09000015   \n",
       "4821  2020-01-01                havering         359188  E09000016   \n",
       "5122  2020-01-01              hillingdon         413229  E09000017   \n",
       "5423  2020-01-01                hounslow         412352  E09000018   \n",
       "5724  2020-01-01               islington         673418  E09000019   \n",
       "6025  2020-01-01  kensington and chelsea        1178166  E09000020   \n",
       "6326  2020-01-01    kingston upon thames         483250  E09000021   \n",
       "6627  2020-01-01                 lambeth         526690  E09000022   \n",
       "6928  2020-01-01                lewisham         412522  E09000023   \n",
       "7229  2020-01-01                  merton         507897  E09000024   \n",
       "7530  2020-01-01                  newham         368816  E09000025   \n",
       "7831  2020-01-01               redbridge         418360  E09000026   \n",
       "8132  2020-01-01    richmond upon thames         675114  E09000027   \n",
       "8433  2020-01-01               southwark         502612  E09000028   \n",
       "8734  2020-01-01                  sutton         371626  E09000029   \n",
       "9034  2020-01-01           tower hamlets         450669  E09000030   \n",
       "9335  2020-01-01          waltham forest         452299  E09000031   \n",
       "9636  2020-01-01              wandsworth         610256  E09000032   \n",
       "9937  2020-01-01             westminster        1019028  E09000033   \n",
       "10238 2020-01-01            inner london         581939  E13000001   \n",
       "10539 2020-01-01            outer london         423006  E13000002   \n",
       "10840 2020-01-01              north east         126592  E12000001   \n",
       "11141 2020-01-01              north west         164769  E12000002   \n",
       "11442 2020-01-01    yorks and the humber         165383  E12000003   \n",
       "11743 2020-01-01           east midlands         195707  E12000004   \n",
       "12044 2020-01-01           west midlands         200628  E12000005   \n",
       "12345 2020-01-01         east of england         286999  E12000006   \n",
       "12646 2020-01-01                  london         476588  E12000007   \n",
       "12946 2020-01-01              south east         320700  E12000008   \n",
       "13247 2020-01-01              south west         254320  E12000009   \n",
       "13548 2020-01-01                 england         247355  E92000001   \n",
       "\n",
       "       houses_sold  no_of_crimes  year  \n",
       "300           3893          2158  2020  \n",
       "601           3893          1680  2020  \n",
       "902           3893          2621  2020  \n",
       "1203          3893          1616  2020  \n",
       "1504          3893          2510  2020  \n",
       "1805          3893          2138  2020  \n",
       "2106          3893          3214  2020  \n",
       "2407          3893          3047  2020  \n",
       "2708          3893          2697  2020  \n",
       "3012          3893          2590  2020  \n",
       "3313          3893          2373  2020  \n",
       "3617          3893          2753  2020  \n",
       "3918          3893          1839  2020  \n",
       "4219          3893          2453  2020  \n",
       "4520          3893          1529  2020  \n",
       "4821          3893          1679  2020  \n",
       "5122          3893          2272  2020  \n",
       "5423          3893          2268  2020  \n",
       "5724          3893          2597  2020  \n",
       "6025          3893          1979  2020  \n",
       "6326          3893          1124  2020  \n",
       "6627          3893          2913  2020  \n",
       "6928          3893          2406  2020  \n",
       "7229          3893          1267  2020  \n",
       "7530          3893          3011  2020  \n",
       "7831          3893          2061  2020  \n",
       "8132          3893          1144  2020  \n",
       "8433          3893          2958  2020  \n",
       "8734          3893          1350  2020  \n",
       "9034          3893          2748  2020  \n",
       "9335          3893          2074  2020  \n",
       "9636          3893          2341  2020  \n",
       "9937          3893          6405  2020  \n",
       "10238         3893          2158  2020  \n",
       "10539         3893          2158  2020  \n",
       "10840         3893          2158  2020  \n",
       "11141         3893          2158  2020  \n",
       "11442         3893          2158  2020  \n",
       "11743         3893          2158  2020  \n",
       "12044         3893          2158  2020  \n",
       "12345         3893          2158  2020  \n",
       "12646         3893          2158  2020  \n",
       "12946         3893          2158  2020  \n",
       "13247         3893          2158  2020  \n",
       "13548         3893          2158  2020  "
      ]
     },
     "execution_count": 35,
     "metadata": {},
     "output_type": "execute_result"
    }
   ],
   "source": [
    "#checking on 2020 info due to low values generated \n",
    "hs_data[hs_data['year'] == 2020]"
   ]
  },
  {
   "attachments": {},
   "cell_type": "markdown",
   "metadata": {},
   "source": [
    "- <u> ***Checking info per location*** </u>"
   ]
  },
  {
   "cell_type": "code",
   "execution_count": 36,
   "metadata": {},
   "outputs": [
    {
     "data": {
      "text/plain": [
       "array(['city of london', 'barking and dagenham', 'barnet', 'bexley',\n",
       "       'brent', 'bromley', 'camden', 'croydon', 'ealing', 'enfield',\n",
       "       'tower hamlets', 'greenwich', 'hackney', 'south east',\n",
       "       'hammersmith and fulham', 'haringey', 'harrow', 'havering',\n",
       "       'hillingdon', 'hounslow', 'islington', 'kensington and chelsea',\n",
       "       'kingston upon thames', 'lambeth', 'lewisham', 'merton', 'newham',\n",
       "       'redbridge', 'richmond upon thames', 'southwark', 'sutton',\n",
       "       'waltham forest', 'wandsworth', 'westminster', 'inner london',\n",
       "       'outer london', 'north east', 'north west', 'yorks and the humber',\n",
       "       'east midlands', 'west midlands', 'east of england', 'london',\n",
       "       'south west', 'england'], dtype=object)"
      ]
     },
     "execution_count": 36,
     "metadata": {},
     "output_type": "execute_result"
    }
   ],
   "source": [
    "#checking for distinct locactions in the area column \n",
    "hs_data.area.unique()"
   ]
  },
  {
   "cell_type": "code",
   "execution_count": 37,
   "metadata": {},
   "outputs": [
    {
     "data": {
      "text/plain": [
       "area\n",
       "england                 23085423\n",
       "south east               4206795\n",
       "london                   3142164\n",
       "north west               2903066\n",
       "east of england          2817586\n",
       "south west               2647447\n",
       "yorks and the humber     2191548\n",
       "west midlands            2136764\n",
       "east midlands            2041510\n",
       "outer london             1904795\n",
       "Name: houses_sold, dtype: int32"
      ]
     },
     "execution_count": 37,
     "metadata": {},
     "output_type": "execute_result"
    }
   ],
   "source": [
    "#checking number of houses sold in top 10 locations\n",
    "area_hs_year = hs_data.groupby('area')['houses_sold'].sum().sort_values(ascending = False).head(10)\n",
    "area_hs_year"
   ]
  },
  {
   "cell_type": "code",
   "execution_count": 38,
   "metadata": {},
   "outputs": [
    {
     "data": {
      "image/png": "[encoded data removed]",
      "text/plain": [
       "<Figure size 1440x432 with 1 Axes>"
      ]
     },
     "metadata": {
      "needs_background": "light"
     },
     "output_type": "display_data"
    }
   ],
   "source": [
    "#barchart\n",
    "plt.figure(figsize =(20,6))\n",
    "plt.bar(x = area_hs_year.index ,\n",
    "        height =area_hs_year.values,\n",
    "        color = 'Grey')\n",
    "plt.ylabel('Total houses sold by location', fontweight ='bold')\n",
    "plt.xlabel('Location', fontweight ='bold')\n",
    "plt.title('Total houses sold by loction', fontsize = 12, fontweight = 'bold')\n",
    "plt.show()"
   ]
  },
  {
   "cell_type": "code",
   "execution_count": 39,
   "metadata": {},
   "outputs": [
    {
     "data": {
      "text/html": [
       "<div>\n",
       "<style scoped>\n",
       "    .dataframe tbody tr th:only-of-type {\n",
       "        vertical-align: middle;\n",
       "    }\n",
       "\n",
       "    .dataframe tbody tr th {\n",
       "        vertical-align: top;\n",
       "    }\n",
       "\n",
       "    .dataframe thead th {\n",
       "        text-align: right;\n",
       "    }\n",
       "</style>\n",
       "<table border=\"1\" class=\"dataframe\">\n",
       "  <thead>\n",
       "    <tr style=\"text-align: right;\">\n",
       "      <th></th>\n",
       "      <th>date</th>\n",
       "      <th>area</th>\n",
       "      <th>average_price</th>\n",
       "      <th>code</th>\n",
       "      <th>houses_sold</th>\n",
       "      <th>no_of_crimes</th>\n",
       "      <th>year</th>\n",
       "    </tr>\n",
       "  </thead>\n",
       "  <tbody>\n",
       "    <tr>\n",
       "      <th>13248</th>\n",
       "      <td>1995-01-01</td>\n",
       "      <td>england</td>\n",
       "      <td>53203</td>\n",
       "      <td>E92000001</td>\n",
       "      <td>47639</td>\n",
       "      <td>2158</td>\n",
       "      <td>1995</td>\n",
       "    </tr>\n",
       "    <tr>\n",
       "      <th>13249</th>\n",
       "      <td>1995-02-01</td>\n",
       "      <td>england</td>\n",
       "      <td>53096</td>\n",
       "      <td>E92000001</td>\n",
       "      <td>47880</td>\n",
       "      <td>2158</td>\n",
       "      <td>1995</td>\n",
       "    </tr>\n",
       "    <tr>\n",
       "      <th>13250</th>\n",
       "      <td>1995-03-01</td>\n",
       "      <td>england</td>\n",
       "      <td>53201</td>\n",
       "      <td>E92000001</td>\n",
       "      <td>67025</td>\n",
       "      <td>2158</td>\n",
       "      <td>1995</td>\n",
       "    </tr>\n",
       "    <tr>\n",
       "      <th>13251</th>\n",
       "      <td>1995-04-01</td>\n",
       "      <td>england</td>\n",
       "      <td>53591</td>\n",
       "      <td>E92000001</td>\n",
       "      <td>56925</td>\n",
       "      <td>2158</td>\n",
       "      <td>1995</td>\n",
       "    </tr>\n",
       "    <tr>\n",
       "      <th>13252</th>\n",
       "      <td>1995-05-01</td>\n",
       "      <td>england</td>\n",
       "      <td>53678</td>\n",
       "      <td>E92000001</td>\n",
       "      <td>64192</td>\n",
       "      <td>2158</td>\n",
       "      <td>1995</td>\n",
       "    </tr>\n",
       "    <tr>\n",
       "      <th>13253</th>\n",
       "      <td>1995-06-01</td>\n",
       "      <td>england</td>\n",
       "      <td>53735</td>\n",
       "      <td>E92000001</td>\n",
       "      <td>72640</td>\n",
       "      <td>2158</td>\n",
       "      <td>1995</td>\n",
       "    </tr>\n",
       "    <tr>\n",
       "      <th>13254</th>\n",
       "      <td>1995-07-01</td>\n",
       "      <td>england</td>\n",
       "      <td>53901</td>\n",
       "      <td>E92000001</td>\n",
       "      <td>64242</td>\n",
       "      <td>2158</td>\n",
       "      <td>1995</td>\n",
       "    </tr>\n",
       "    <tr>\n",
       "      <th>13255</th>\n",
       "      <td>1995-08-01</td>\n",
       "      <td>england</td>\n",
       "      <td>53600</td>\n",
       "      <td>E92000001</td>\n",
       "      <td>69269</td>\n",
       "      <td>2158</td>\n",
       "      <td>1995</td>\n",
       "    </tr>\n",
       "    <tr>\n",
       "      <th>13256</th>\n",
       "      <td>1995-09-01</td>\n",
       "      <td>england</td>\n",
       "      <td>53309</td>\n",
       "      <td>E92000001</td>\n",
       "      <td>67251</td>\n",
       "      <td>2158</td>\n",
       "      <td>1995</td>\n",
       "    </tr>\n",
       "    <tr>\n",
       "      <th>13257</th>\n",
       "      <td>1995-10-01</td>\n",
       "      <td>england</td>\n",
       "      <td>52845</td>\n",
       "      <td>E92000001</td>\n",
       "      <td>61264</td>\n",
       "      <td>2158</td>\n",
       "      <td>1995</td>\n",
       "    </tr>\n",
       "  </tbody>\n",
       "</table>\n",
       "</div>"
      ],
      "text/plain": [
       "            date     area  average_price       code  houses_sold  \\\n",
       "13248 1995-01-01  england          53203  E92000001        47639   \n",
       "13249 1995-02-01  england          53096  E92000001        47880   \n",
       "13250 1995-03-01  england          53201  E92000001        67025   \n",
       "13251 1995-04-01  england          53591  E92000001        56925   \n",
       "13252 1995-05-01  england          53678  E92000001        64192   \n",
       "13253 1995-06-01  england          53735  E92000001        72640   \n",
       "13254 1995-07-01  england          53901  E92000001        64242   \n",
       "13255 1995-08-01  england          53600  E92000001        69269   \n",
       "13256 1995-09-01  england          53309  E92000001        67251   \n",
       "13257 1995-10-01  england          52845  E92000001        61264   \n",
       "\n",
       "       no_of_crimes  year  \n",
       "13248          2158  1995  \n",
       "13249          2158  1995  \n",
       "13250          2158  1995  \n",
       "13251          2158  1995  \n",
       "13252          2158  1995  \n",
       "13253          2158  1995  \n",
       "13254          2158  1995  \n",
       "13255          2158  1995  \n",
       "13256          2158  1995  \n",
       "13257          2158  1995  "
      ]
     },
     "execution_count": 39,
     "metadata": {},
     "output_type": "execute_result"
    }
   ],
   "source": [
    "#England\n",
    "England = hs_data[hs_data.area == 'england']\n",
    "England.head(10)"
   ]
  },
  {
   "cell_type": "code",
   "execution_count": 40,
   "metadata": {},
   "outputs": [
    {
     "data": {
      "image/png": "[encoded data removed]",
      "text/plain": [
       "<Figure size 1080x360 with 1 Axes>"
      ]
     },
     "metadata": {
      "needs_background": "light"
     },
     "output_type": "display_data"
    }
   ],
   "source": [
    "#line graph of houses sold\n",
    "eng_hs_year = hs_data.groupby('year')['houses_sold'].sum()\n",
    "\n",
    "plt.figure(figsize = (15,5))\n",
    "plt.plot(eng_hs_year.index,\n",
    "         eng_hs_year.values)\n",
    "plt.ylabel('No. of houses sold', fontweight = 'bold')\n",
    "plt.xlabel('Years', fontweight = 'bold')\n",
    "plt.title('Comparison of houses sold per year in England', fontsize = 12, fontweight = 'bold')\n",
    "plt.show()"
   ]
  },
  {
   "attachments": {},
   "cell_type": "markdown",
   "metadata": {},
   "source": [
    "- Finding no. of crimes per 'area'"
   ]
  },
  {
   "cell_type": "code",
   "execution_count": 41,
   "metadata": {},
   "outputs": [
    {
     "data": {
      "text/plain": [
       "area\n",
       "enfield                   302\n",
       "tower hamlets             302\n",
       "south east                302\n",
       "hackney                   302\n",
       "redbridge                 301\n",
       "lewisham                  301\n",
       "london                    301\n",
       "merton                    301\n",
       "newham                    301\n",
       "north east                301\n",
       "north west                301\n",
       "outer london              301\n",
       "barking and dagenham      301\n",
       "richmond upon thames      301\n",
       "kingston upon thames      301\n",
       "south west                301\n",
       "southwark                 301\n",
       "sutton                    301\n",
       "waltham forest            301\n",
       "wandsworth                301\n",
       "west midlands             301\n",
       "westminster               301\n",
       "lambeth                   301\n",
       "islington                 301\n",
       "kensington and chelsea    301\n",
       "east of england           301\n",
       "bexley                    301\n",
       "brent                     301\n",
       "bromley                   301\n",
       "camden                    301\n",
       "city of london            301\n",
       "croydon                   301\n",
       "ealing                    301\n",
       "east midlands             301\n",
       "england                   301\n",
       "barnet                    301\n",
       "greenwich                 301\n",
       "hammersmith and fulham    301\n",
       "haringey                  301\n",
       "harrow                    301\n",
       "havering                  301\n",
       "hillingdon                301\n",
       "hounslow                  301\n",
       "inner london              301\n",
       "yorks and the humber      301\n",
       "Name: no_of_crimes, dtype: int64"
      ]
     },
     "execution_count": 41,
     "metadata": {},
     "output_type": "execute_result"
    }
   ],
   "source": [
    "hs_data.groupby('area').no_of_crimes.count().sort_values(ascending = False )"
   ]
  },
  {
   "cell_type": "code",
   "execution_count": 42,
   "metadata": {},
   "outputs": [
    {
     "data": {
      "text/plain": [
       "year\n",
       "1995    540\n",
       "1996    542\n",
       "1997    540\n",
       "1998    542\n",
       "1999    540\n",
       "2000    540\n",
       "2001    540\n",
       "2002    540\n",
       "2003    540\n",
       "2004    540\n",
       "2005    540\n",
       "2006    540\n",
       "2007    540\n",
       "2008    540\n",
       "2009    540\n",
       "2010    540\n",
       "2011    540\n",
       "2012    540\n",
       "2013    540\n",
       "2014    540\n",
       "2015    540\n",
       "2016    540\n",
       "2017    540\n",
       "2018    540\n",
       "2019    540\n",
       "2020     45\n",
       "Name: no_of_crimes, dtype: int64"
      ]
     },
     "execution_count": 42,
     "metadata": {},
     "output_type": "execute_result"
    }
   ],
   "source": [
    "group_yr = hs_data.groupby('year')\n",
    "group_yr.no_of_crimes.count() "
   ]
  },
  {
   "attachments": {},
   "cell_type": "markdown",
   "metadata": {},
   "source": [
    "- remember to compare no of crimes and house price against years "
   ]
  },
  {
   "cell_type": "code",
   "execution_count": 43,
   "metadata": {},
   "outputs": [
    {
     "data": {
      "text/html": [
       "<div>\n",
       "<style scoped>\n",
       "    .dataframe tbody tr th:only-of-type {\n",
       "        vertical-align: middle;\n",
       "    }\n",
       "\n",
       "    .dataframe tbody tr th {\n",
       "        vertical-align: top;\n",
       "    }\n",
       "\n",
       "    .dataframe thead th {\n",
       "        text-align: right;\n",
       "    }\n",
       "</style>\n",
       "<table border=\"1\" class=\"dataframe\">\n",
       "  <thead>\n",
       "    <tr style=\"text-align: right;\">\n",
       "      <th></th>\n",
       "      <th>date</th>\n",
       "      <th>area</th>\n",
       "      <th>average_price</th>\n",
       "      <th>code</th>\n",
       "      <th>houses_sold</th>\n",
       "      <th>no_of_crimes</th>\n",
       "      <th>year</th>\n",
       "    </tr>\n",
       "  </thead>\n",
       "  <tbody>\n",
       "    <tr>\n",
       "      <th>13248</th>\n",
       "      <td>1995-01-01</td>\n",
       "      <td>england</td>\n",
       "      <td>53203</td>\n",
       "      <td>E92000001</td>\n",
       "      <td>47639</td>\n",
       "      <td>2158</td>\n",
       "      <td>1995</td>\n",
       "    </tr>\n",
       "    <tr>\n",
       "      <th>13249</th>\n",
       "      <td>1995-02-01</td>\n",
       "      <td>england</td>\n",
       "      <td>53096</td>\n",
       "      <td>E92000001</td>\n",
       "      <td>47880</td>\n",
       "      <td>2158</td>\n",
       "      <td>1995</td>\n",
       "    </tr>\n",
       "    <tr>\n",
       "      <th>13250</th>\n",
       "      <td>1995-03-01</td>\n",
       "      <td>england</td>\n",
       "      <td>53201</td>\n",
       "      <td>E92000001</td>\n",
       "      <td>67025</td>\n",
       "      <td>2158</td>\n",
       "      <td>1995</td>\n",
       "    </tr>\n",
       "    <tr>\n",
       "      <th>13251</th>\n",
       "      <td>1995-04-01</td>\n",
       "      <td>england</td>\n",
       "      <td>53591</td>\n",
       "      <td>E92000001</td>\n",
       "      <td>56925</td>\n",
       "      <td>2158</td>\n",
       "      <td>1995</td>\n",
       "    </tr>\n",
       "    <tr>\n",
       "      <th>13252</th>\n",
       "      <td>1995-05-01</td>\n",
       "      <td>england</td>\n",
       "      <td>53678</td>\n",
       "      <td>E92000001</td>\n",
       "      <td>64192</td>\n",
       "      <td>2158</td>\n",
       "      <td>1995</td>\n",
       "    </tr>\n",
       "    <tr>\n",
       "      <th>13253</th>\n",
       "      <td>1995-06-01</td>\n",
       "      <td>england</td>\n",
       "      <td>53735</td>\n",
       "      <td>E92000001</td>\n",
       "      <td>72640</td>\n",
       "      <td>2158</td>\n",
       "      <td>1995</td>\n",
       "    </tr>\n",
       "    <tr>\n",
       "      <th>13254</th>\n",
       "      <td>1995-07-01</td>\n",
       "      <td>england</td>\n",
       "      <td>53901</td>\n",
       "      <td>E92000001</td>\n",
       "      <td>64242</td>\n",
       "      <td>2158</td>\n",
       "      <td>1995</td>\n",
       "    </tr>\n",
       "    <tr>\n",
       "      <th>13255</th>\n",
       "      <td>1995-08-01</td>\n",
       "      <td>england</td>\n",
       "      <td>53600</td>\n",
       "      <td>E92000001</td>\n",
       "      <td>69269</td>\n",
       "      <td>2158</td>\n",
       "      <td>1995</td>\n",
       "    </tr>\n",
       "    <tr>\n",
       "      <th>13256</th>\n",
       "      <td>1995-09-01</td>\n",
       "      <td>england</td>\n",
       "      <td>53309</td>\n",
       "      <td>E92000001</td>\n",
       "      <td>67251</td>\n",
       "      <td>2158</td>\n",
       "      <td>1995</td>\n",
       "    </tr>\n",
       "    <tr>\n",
       "      <th>13257</th>\n",
       "      <td>1995-10-01</td>\n",
       "      <td>england</td>\n",
       "      <td>52845</td>\n",
       "      <td>E92000001</td>\n",
       "      <td>61264</td>\n",
       "      <td>2158</td>\n",
       "      <td>1995</td>\n",
       "    </tr>\n",
       "  </tbody>\n",
       "</table>\n",
       "</div>"
      ],
      "text/plain": [
       "            date     area  average_price       code  houses_sold  \\\n",
       "13248 1995-01-01  england          53203  E92000001        47639   \n",
       "13249 1995-02-01  england          53096  E92000001        47880   \n",
       "13250 1995-03-01  england          53201  E92000001        67025   \n",
       "13251 1995-04-01  england          53591  E92000001        56925   \n",
       "13252 1995-05-01  england          53678  E92000001        64192   \n",
       "13253 1995-06-01  england          53735  E92000001        72640   \n",
       "13254 1995-07-01  england          53901  E92000001        64242   \n",
       "13255 1995-08-01  england          53600  E92000001        69269   \n",
       "13256 1995-09-01  england          53309  E92000001        67251   \n",
       "13257 1995-10-01  england          52845  E92000001        61264   \n",
       "\n",
       "       no_of_crimes  year  \n",
       "13248          2158  1995  \n",
       "13249          2158  1995  \n",
       "13250          2158  1995  \n",
       "13251          2158  1995  \n",
       "13252          2158  1995  \n",
       "13253          2158  1995  \n",
       "13254          2158  1995  \n",
       "13255          2158  1995  \n",
       "13256          2158  1995  \n",
       "13257          2158  1995  "
      ]
     },
     "execution_count": 43,
     "metadata": {},
     "output_type": "execute_result"
    }
   ],
   "source": [
    "eng = hs_data[hs_data.area == 'england']\n",
    "eng.head(10)"
   ]
  },
  {
   "cell_type": "code",
   "execution_count": 44,
   "metadata": {},
   "outputs": [
    {
     "data": {
      "text/plain": [
       "year\n",
       "1995    12\n",
       "1996    12\n",
       "1997    12\n",
       "1998    12\n",
       "1999    12\n",
       "2000    12\n",
       "2001    12\n",
       "2002    12\n",
       "2003    12\n",
       "2004    12\n",
       "2005    12\n",
       "2006    12\n",
       "2007    12\n",
       "2008    12\n",
       "2009    12\n",
       "2010    12\n",
       "2011    12\n",
       "2012    12\n",
       "2013    12\n",
       "2014    12\n",
       "2015    12\n",
       "2016    12\n",
       "2017    12\n",
       "2018    12\n",
       "2019    12\n",
       "2020     1\n",
       "Name: no_of_crimes, dtype: int64"
      ]
     },
     "execution_count": 44,
     "metadata": {},
     "output_type": "execute_result"
    }
   ],
   "source": [
    "eng.groupby('year').no_of_crimes.count()"
   ]
  },
  {
   "cell_type": "code",
   "execution_count": 45,
   "metadata": {},
   "outputs": [
    {
     "data": {
      "text/plain": [
       "year\n",
       "1995     53901\n",
       "1996     55755\n",
       "1997     61564\n",
       "1998     65743\n",
       "1999     75071\n",
       "2000     84191\n",
       "2001     95992\n",
       "2002    119982\n",
       "2003    138985\n",
       "2004    160330\n",
       "2005    167244\n",
       "2006    182031\n",
       "2007    194764\n",
       "2008    191750\n",
       "2009    174136\n",
       "2010    180807\n",
       "2011    177335\n",
       "2012    180129\n",
       "2013    188544\n",
       "2014    203639\n",
       "2015    219582\n",
       "2016    231922\n",
       "2017    242628\n",
       "2018    248620\n",
       "2019    250410\n",
       "2020    247355\n",
       "Name: average_price, dtype: int64"
      ]
     },
     "execution_count": 45,
     "metadata": {},
     "output_type": "execute_result"
    }
   ],
   "source": [
    "eng.groupby('year').average_price.max()"
   ]
  },
  {
   "cell_type": "code",
   "execution_count": 46,
   "metadata": {},
   "outputs": [
    {
     "data": {
      "text/plain": [
       "year\n",
       "1995     52788\n",
       "1996     52333\n",
       "1997     55789\n",
       "1998     61659\n",
       "1999     65522\n",
       "2000     75219\n",
       "2001     84245\n",
       "2002     96215\n",
       "2003    121610\n",
       "2004    139719\n",
       "2005    158572\n",
       "2006    166544\n",
       "2007    181824\n",
       "2008    165795\n",
       "2009    159340\n",
       "2010    174458\n",
       "2011    173046\n",
       "2012    174161\n",
       "2013    176816\n",
       "2014    188265\n",
       "2015    202856\n",
       "2016    220361\n",
       "2017    231593\n",
       "2018    240428\n",
       "2019    243281\n",
       "2020    247355\n",
       "Name: average_price, dtype: int64"
      ]
     },
     "execution_count": 46,
     "metadata": {},
     "output_type": "execute_result"
    }
   ],
   "source": [
    "eng.groupby('year').average_price.min()"
   ]
  },
  {
   "cell_type": "code",
   "execution_count": 47,
   "metadata": {},
   "outputs": [
    {
     "data": {
      "text/plain": [
       "north east              112\n",
       "north west              111\n",
       "yorks and the humber    110\n",
       "east midlands            96\n",
       "west midlands            94\n",
       "england                  87\n",
       "barking and dagenham     85\n",
       "south west               78\n",
       "east of england          76\n",
       "newham                   72\n",
       "bexley                   64\n",
       "waltham forest           64\n",
       "lewisham                 62\n",
       "havering                 60\n",
       "south east               59\n",
       "greenwich                59\n",
       "croydon                  57\n",
       "enfield                  54\n",
       "sutton                   54\n",
       "hackney                  53\n",
       "redbridge                52\n",
       "southwark                48\n",
       "tower hamlets            47\n",
       "outer london             46\n",
       "hillingdon               44\n",
       "lambeth                  41\n",
       "hounslow                 41\n",
       "brent                    40\n",
       "london                   39\n",
       "merton                   35\n",
       "haringey                 33\n",
       "bromley                  33\n",
       "inner london             31\n",
       "ealing                   31\n",
       "kingston upon thames     30\n",
       "harrow                   30\n",
       "wandsworth               26\n",
       "barnet                   25\n",
       "islington                19\n",
       "city of london           11\n",
       "Name: area, dtype: int64"
      ]
     },
     "execution_count": 47,
     "metadata": {},
     "output_type": "execute_result"
    }
   ],
   "source": [
    "#Show the total count of records in each area < 100000\n",
    "hs_data[hs_data.average_price < 100000].area.value_counts()"
   ]
  },
  {
   "cell_type": "code",
   "execution_count": 48,
   "metadata": {},
   "outputs": [
    {
     "data": {
      "text/plain": [
       "area\n",
       "westminster               1367119\n",
       "lambeth                    874830\n",
       "camden                     855331\n",
       "southwark                  848917\n",
       "newham                     808354\n",
       "croydon                    762900\n",
       "ealing                     752393\n",
       "hackney                    747381\n",
       "tower hamlets              739710\n",
       "islington                  731538\n",
       "brent                      708549\n",
       "haringey                   706448\n",
       "lewisham                   681265\n",
       "barnet                     677139\n",
       "wandsworth                 661401\n",
       "south east                 651716\n",
       "outer london               649558\n",
       "west midlands              649558\n",
       "north west                 649558\n",
       "north east                 649558\n",
       "london                     649558\n",
       "south west                 649558\n",
       "yorks and the humber       649558\n",
       "inner london               649558\n",
       "east midlands              649558\n",
       "east of england            649558\n",
       "england                    649558\n",
       "greenwich                  648848\n",
       "hillingdon                 645841\n",
       "waltham forest             639390\n",
       "enfield                    633378\n",
       "hounslow                   622589\n",
       "bromley                    617986\n",
       "redbridge                  599746\n",
       "hammersmith and fulham     593837\n",
       "kensington and chelsea     575184\n",
       "barking and dagenham       521610\n",
       "havering                   505828\n",
       "bexley                     452952\n",
       "harrow                     443137\n",
       "merton                     432149\n",
       "city of london             410067\n",
       "sutton                     402287\n",
       "richmond upon thames       393907\n",
       "kingston upon thames       382496\n",
       "Name: no_of_crimes, dtype: int32"
      ]
     },
     "execution_count": 48,
     "metadata": {},
     "output_type": "execute_result"
    }
   ],
   "source": [
    "hs_data.groupby('area').no_of_crimes.sum().sort_values(ascending=False)"
   ]
  },
  {
   "cell_type": "code",
   "execution_count": 49,
   "metadata": {},
   "outputs": [
    {
     "data": {
      "text/plain": [
       "year\n",
       "1995    25896\n",
       "1996    25896\n",
       "1997    25896\n",
       "1998    25896\n",
       "1999    25896\n",
       "2000    25896\n",
       "2001    75719\n",
       "2002    77117\n",
       "2003    69775\n",
       "2004    71479\n",
       "2005    64753\n",
       "2006    61274\n",
       "2007    62358\n",
       "2008    60684\n",
       "2009    61662\n",
       "2010    63049\n",
       "2011    66350\n",
       "2012    63636\n",
       "2013    55722\n",
       "2014    49225\n",
       "2015    49024\n",
       "2016    50212\n",
       "2017    57216\n",
       "2018    63113\n",
       "2019    82970\n",
       "2020     6405\n",
       "Name: no_of_crimes, dtype: int32"
      ]
     },
     "execution_count": 49,
     "metadata": {},
     "output_type": "execute_result"
    }
   ],
   "source": [
    "westmin = hs_data[hs_data.area == 'westminster']\n",
    "westmin.groupby('year').no_of_crimes.sum()"
   ]
  },
  {
   "cell_type": "code",
   "execution_count": 50,
   "metadata": {},
   "outputs": [
    {
     "data": {
      "text/plain": [
       "year\n",
       "1995     1604269\n",
       "1996     1670265\n",
       "1997     1985371\n",
       "1998     2286383\n",
       "1999     2568513\n",
       "2000     3125907\n",
       "2001     3553267\n",
       "2002     4075469\n",
       "2003     4361592\n",
       "2004     4552744\n",
       "2005     4792620\n",
       "2006     5242377\n",
       "2007     6173119\n",
       "2008     6482361\n",
       "2009     6385162\n",
       "2010     7280380\n",
       "2011     7590163\n",
       "2012     8363113\n",
       "2013     9479670\n",
       "2014    11072426\n",
       "2015    11575716\n",
       "2016    11946520\n",
       "2017    12777258\n",
       "2018    12240306\n",
       "2019    11499648\n",
       "2020     1019028\n",
       "Name: average_price, dtype: int64"
      ]
     },
     "execution_count": 50,
     "metadata": {},
     "output_type": "execute_result"
    }
   ],
   "source": [
    "westmin.groupby('year').average_price.sum()"
   ]
  },
  {
   "cell_type": "code",
   "execution_count": null,
   "metadata": {},
   "outputs": [],
   "source": []
  }
 ],
 "metadata": {
  "kernelspec": {
   "display_name": "base",
   "language": "python",
   "name": "python3"
  },
  "language_info": {
   "codemirror_mode": {
    "name": "ipython",
    "version": 3
   },
   "file_extension": ".py",
   "mimetype": "text/x-python",
   "name": "python",
   "nbconvert_exporter": "python",
   "pygments_lexer": "ipython3",
   "version": "3.9.12"
  },
  "orig_nbformat": 4
 },
 "nbformat": 4,
 "nbformat_minor": 2
}
